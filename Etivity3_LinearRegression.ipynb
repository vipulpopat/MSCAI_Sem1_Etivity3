{
 "cells": [
  {
   "cell_type": "code",
   "execution_count": 2,
   "metadata": {
    "collapsed": true
   },
   "outputs": [],
   "source": [
    "import matplotlib.pyplot as plt\n",
    "import numpy as np\n",
    "import random\n",
    "import math\n",
    "from sklearn.model_selection import train_test_split"
   ]
  },
  {
   "cell_type": "code",
   "execution_count": 3,
   "metadata": {},
   "outputs": [],
   "source": [
    "data = np.genfromtxt('Task4.csv', delimiter=',', names=True)"
   ]
  },
  {
   "cell_type": "code",
   "execution_count": 14,
   "metadata": {},
   "outputs": [
    {
     "data": {
      "text/plain": [
       "array([-0.308 , -0.347 , -0.0937, -0.286 , -0.0927, -0.0335, -0.0472,\n",
       "       -0.0789,  0.146 ,  0.238 ,  0.196 ,  0.0944,  0.259 ,  0.32  ,\n",
       "        0.256 ,  0.333 ,  0.478 ,  0.552 ,  0.412 ,  0.563 ,  0.541 ,\n",
       "        0.471 ,  0.492 ,  0.642 ,  0.686 ,  0.654 ,  0.663 ,  0.82  ,\n",
       "        0.754 ,  0.919 ,  0.845 ,  0.871 ,  0.95  ,  1.    ,  0.949 ,\n",
       "        0.999 ,  0.905 ,  0.947 ,  1.05  ,  1.07  ,  1.06  ,  1.07  ,\n",
       "        1.13  ,  1.07  ,  0.998 ,  1.04  ,  1.16  ,  1.1   ,  1.23  ,\n",
       "        1.19  ,  1.11  ,  1.06  ,  1.13  ,  1.22  ,  1.13  ,  1.25  ,\n",
       "        1.11  ,  1.07  ,  1.12  ,  1.12  ,  1.21  ,  1.23  ,  1.18  ,\n",
       "        1.27  ,  1.14  ,  1.14  ,  1.21  ,  1.2   ,  1.02  ,  1.19  ,\n",
       "        1.13  ,  1.03  ,  0.993 ,  0.943 ,  0.971 ,  0.95  ,  1.09  ,\n",
       "        0.964 ,  1.09  ,  0.958 ,  0.948 ,  0.912 ,  0.937 ,  0.814 ,\n",
       "        1.02  ,  0.918 ,  0.864 ,  0.808 ,  0.864 ,  0.68  ,  0.76  ,\n",
       "        0.662 ,  0.742 ,  0.684 ,  0.762 ,  0.685 ,  0.649 ,  0.662 ,\n",
       "        0.633 ,  0.571 ])"
      ]
     },
     "execution_count": 14,
     "metadata": {},
     "output_type": "execute_result"
    }
   ],
   "source": [
    "data['y']"
   ]
  },
  {
   "cell_type": "code",
   "execution_count": 15,
   "metadata": {},
   "outputs": [
    {
     "data": {
      "text/plain": [
       "array([0.    , 0.0101, 0.0202, 0.0303, 0.0404, 0.0505, 0.0606, 0.0707,\n",
       "       0.0808, 0.0909, 0.101 , 0.111 , 0.121 , 0.131 , 0.141 , 0.152 ,\n",
       "       0.162 , 0.172 , 0.182 , 0.192 , 0.202 , 0.212 , 0.222 , 0.232 ,\n",
       "       0.242 , 0.253 , 0.263 , 0.273 , 0.283 , 0.293 , 0.303 , 0.313 ,\n",
       "       0.323 , 0.333 , 0.343 , 0.354 , 0.364 , 0.374 , 0.384 , 0.394 ,\n",
       "       0.404 , 0.414 , 0.424 , 0.434 , 0.444 , 0.455 , 0.465 , 0.475 ,\n",
       "       0.485 , 0.495 , 0.505 , 0.515 , 0.525 , 0.535 , 0.545 , 0.556 ,\n",
       "       0.566 , 0.576 , 0.586 , 0.596 , 0.606 , 0.616 , 0.626 , 0.636 ,\n",
       "       0.646 , 0.657 , 0.667 , 0.677 , 0.687 , 0.697 , 0.707 , 0.717 ,\n",
       "       0.727 , 0.737 , 0.747 , 0.758 , 0.768 , 0.778 , 0.788 , 0.798 ,\n",
       "       0.808 , 0.818 , 0.828 , 0.838 , 0.848 , 0.859 , 0.869 , 0.879 ,\n",
       "       0.889 , 0.899 , 0.909 , 0.919 , 0.929 , 0.939 , 0.949 , 0.96  ,\n",
       "       0.97  , 0.98  , 0.99  , 1.    ])"
      ]
     },
     "execution_count": 15,
     "metadata": {},
     "output_type": "execute_result"
    }
   ],
   "source": [
    "data['X']"
   ]
  },
  {
   "cell_type": "code",
   "execution_count": null,
   "metadata": {},
   "outputs": [],
   "source": []
  }
 ],
 "metadata": {
  "kernelspec": {
   "display_name": "Python 3",
   "language": "python",
   "name": "python3"
  },
  "language_info": {
   "codemirror_mode": {
    "name": "ipython",
    "version": 3
   },
   "file_extension": ".py",
   "mimetype": "text/x-python",
   "name": "python",
   "nbconvert_exporter": "python",
   "pygments_lexer": "ipython3",
   "version": "3.6.7"
  }
 },
 "nbformat": 4,
 "nbformat_minor": 2
}
