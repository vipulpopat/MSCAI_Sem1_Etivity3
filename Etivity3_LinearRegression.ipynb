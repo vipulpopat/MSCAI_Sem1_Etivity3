{
 "cells": [
  {
   "cell_type": "markdown",
   "metadata": {},
   "source": [
    "### Student Name: Cathal Cronin\n",
    "### ID: 10131531"
   ]
  },
  {
   "cell_type": "code",
   "execution_count": 1,
   "metadata": {},
   "outputs": [],
   "source": [
    "import matplotlib.pyplot as plt\n",
    "import pandas as pd\n",
    "import numpy as np\n",
    "import math\n",
    "from sklearn.utils import shuffle\n",
    "from sklearn.model_selection import train_test_split\n",
    "from sklearn.linear_model import LinearRegression\n",
    "from sklearn.linear_model import LogisticRegression\n",
    "from sklearn import metrics"
   ]
  },
  {
   "cell_type": "code",
   "execution_count": 2,
   "metadata": {},
   "outputs": [
    {
     "data": {
      "text/html": [
       "<div>\n",
       "<style scoped>\n",
       "    .dataframe tbody tr th:only-of-type {\n",
       "        vertical-align: middle;\n",
       "    }\n",
       "\n",
       "    .dataframe tbody tr th {\n",
       "        vertical-align: top;\n",
       "    }\n",
       "\n",
       "    .dataframe thead th {\n",
       "        text-align: right;\n",
       "    }\n",
       "</style>\n",
       "<table border=\"1\" class=\"dataframe\">\n",
       "  <thead>\n",
       "    <tr style=\"text-align: right;\">\n",
       "      <th></th>\n",
       "      <th>X</th>\n",
       "      <th>y</th>\n",
       "    </tr>\n",
       "  </thead>\n",
       "  <tbody>\n",
       "    <tr>\n",
       "      <th>0</th>\n",
       "      <td>0.0000</td>\n",
       "      <td>-0.3080</td>\n",
       "    </tr>\n",
       "    <tr>\n",
       "      <th>1</th>\n",
       "      <td>0.0101</td>\n",
       "      <td>-0.3470</td>\n",
       "    </tr>\n",
       "    <tr>\n",
       "      <th>2</th>\n",
       "      <td>0.0202</td>\n",
       "      <td>-0.0937</td>\n",
       "    </tr>\n",
       "    <tr>\n",
       "      <th>3</th>\n",
       "      <td>0.0303</td>\n",
       "      <td>-0.2860</td>\n",
       "    </tr>\n",
       "    <tr>\n",
       "      <th>4</th>\n",
       "      <td>0.0404</td>\n",
       "      <td>-0.0927</td>\n",
       "    </tr>\n",
       "  </tbody>\n",
       "</table>\n",
       "</div>"
      ],
      "text/plain": [
       "        X       y\n",
       "0  0.0000 -0.3080\n",
       "1  0.0101 -0.3470\n",
       "2  0.0202 -0.0937\n",
       "3  0.0303 -0.2860\n",
       "4  0.0404 -0.0927"
      ]
     },
     "execution_count": 2,
     "metadata": {},
     "output_type": "execute_result"
    }
   ],
   "source": [
    "# Load the data\n",
    "data = pd.read_csv(\"Task4.csv\") \n",
    "data.head()"
   ]
  },
  {
   "cell_type": "code",
   "execution_count": 3,
   "metadata": {},
   "outputs": [],
   "source": [
    "# Ref: https://www.datacamp.com/community/tutorials/understanding-logistic-regression-python\n",
    "# https://machinelearningmastery.com/solve-linear-regression-using-linear-algebra/\n",
    "# https://github.com/marcopeix/ISL-linear-regression/blob/master/Linear%20Regression.ipynb\n",
    "\n",
    "def decision_boundary_lin(weights, x_min, x_max):\n",
    "   # Return two points on the decision boundary\n",
    "   return [point_on_boundary_lin(weights, x_min), point_on_boundary_lin(weights, x_max)]\n",
    "\n",
    "def point_on_boundary_lin(weights, x):\n",
    "    # Return the y-position on the boundary based on given x-position\n",
    "    return -(weights[0]+weights[1]*x)/weights[2]"
   ]
  },
  {
   "cell_type": "code",
   "execution_count": 10,
   "metadata": {},
   "outputs": [],
   "source": [
    "# Copy functions from other notebook and updated for linear regression.\n",
    "\n",
    "def linear_regression(X, y):\n",
    "    X_inverse = np.linalg.pinv(X)\n",
    "    w_lin = np.matmul(X_inverse, y)\n",
    "    \n",
    "    return w_lin\n",
    "\n",
    "def calc_polynom(weights, X):\n",
    "    h = weights[0]\n",
    "    for i in np.arange(1, len(weights)):\n",
    "        h += weights[i]*X ** i    \n",
    "    return h \n",
    "\n",
    "def calc_errors(a, b):\n",
    "    e_sq = 0\n",
    "    N = len(a)\n",
    "    for i in range(N):\n",
    "        e_sq += math.pow((a[i] - b[i]),2)\n",
    "        \n",
    "    return e_sq/N , math.sqrt(e_sq/N) \n",
    "    \n",
    "    return math.sqrt(e_sq / len(a))\n",
    "\n",
    "def calculate_and_plot_linear_regression(X, y):\n",
    "    # shuffle data\n",
    "    X, y = shuffle(X, y, random_state=0)\n",
    "\n",
    "    # split data\n",
    "    X_train, X_test, y_train, y_test = train_test_split(X, y, test_size=0.2, random_state=10131531)\n",
    "\n",
    "    # Linear regression\n",
    "    weights = linear_regression(X_train, y_train)\n",
    "    \n",
    "    # Plot test data\n",
    "    plt.scatter(X[:,1], y, c=y)\n",
    "\n",
    "    # Plot\n",
    "    minx = np.amin(X)\n",
    "    maxx = np.amax(X)  \n",
    "    s = len(X[:,1])\n",
    "    x_line = np.linspace(minx, maxx, s)\n",
    "    y_line = calc_polynom(weights, x_line)\n",
    "    plt.plot(x_line, y_line)\n",
    "    \n",
    "    # yhat\n",
    "    yhat = X_test.dot(weights)\n",
    "    plt.scatter(X_test[:,1], yhat, c='red')\n",
    "    \n",
    "    # error\n",
    "    error = calc_square_error(y_test, yhat)\n",
    "    \n",
    "    # Marker for center point at coordinates (0,0)\n",
    "    plt.plot([0], [0], marker='x', markersize=30, color=\"blue\")\n",
    "    \n",
    "    # Print errors to see how well it's doing\n",
    "    print(\"RMSE: %s\" % rmse)\n",
    "    print(\"MSE: %s\" % mse)\n",
    "    \n",
    "    return weights, yhat, error"
   ]
  },
  {
   "cell_type": "code",
   "execution_count": 5,
   "metadata": {},
   "outputs": [],
   "source": [
    "### Linear Regression of X"
   ]
  },
  {
   "cell_type": "code",
   "execution_count": 6,
   "metadata": {},
   "outputs": [
    {
     "ename": "NameError",
     "evalue": "name 'rmse' is not defined",
     "output_type": "error",
     "traceback": [
      "\u001b[0;31m---------------------------------------------------------------------------\u001b[0m",
      "\u001b[0;31mNameError\u001b[0m                                 Traceback (most recent call last)",
      "\u001b[0;32m<ipython-input-6-00f84a447977>\u001b[0m in \u001b[0;36m<module>\u001b[0;34m\u001b[0m\n\u001b[1;32m      4\u001b[0m \u001b[0mtranformX\u001b[0m \u001b[0;34m=\u001b[0m  \u001b[0mnp\u001b[0m\u001b[0;34m.\u001b[0m\u001b[0mvstack\u001b[0m\u001b[0;34m(\u001b[0m\u001b[0;34m(\u001b[0m\u001b[0mbias\u001b[0m\u001b[0;34m,\u001b[0m \u001b[0mdata\u001b[0m\u001b[0;34m[\u001b[0m\u001b[0;34m'X'\u001b[0m\u001b[0;34m]\u001b[0m\u001b[0;34m.\u001b[0m\u001b[0mvalues\u001b[0m\u001b[0;34m)\u001b[0m\u001b[0;34m)\u001b[0m\u001b[0;34m\u001b[0m\u001b[0m\n\u001b[1;32m      5\u001b[0m \u001b[0mtranformX\u001b[0m \u001b[0;34m=\u001b[0m \u001b[0mtranformX\u001b[0m\u001b[0;34m.\u001b[0m\u001b[0mT\u001b[0m\u001b[0;34m\u001b[0m\u001b[0m\n\u001b[0;32m----> 6\u001b[0;31m \u001b[0mweights\u001b[0m\u001b[0;34m,\u001b[0m \u001b[0myhat\u001b[0m\u001b[0;34m,\u001b[0m \u001b[0mmse\u001b[0m \u001b[0;34m=\u001b[0m \u001b[0mcalculate_and_plot_linear_regression\u001b[0m\u001b[0;34m(\u001b[0m\u001b[0mtranformX\u001b[0m\u001b[0;34m,\u001b[0m \u001b[0mdata\u001b[0m\u001b[0;34m[\u001b[0m\u001b[0;34m'y'\u001b[0m\u001b[0;34m]\u001b[0m\u001b[0;34m.\u001b[0m\u001b[0mvalues\u001b[0m\u001b[0;34m.\u001b[0m\u001b[0mT\u001b[0m\u001b[0;34m)\u001b[0m\u001b[0;34m\u001b[0m\u001b[0m\n\u001b[0m\u001b[1;32m      7\u001b[0m \u001b[0;34m\u001b[0m\u001b[0m\n",
      "\u001b[0;32m<ipython-input-4-7aca77d5aa09>\u001b[0m in \u001b[0;36mcalculate_and_plot_linear_regression\u001b[0;34m(X, y)\u001b[0m\n\u001b[1;32m     52\u001b[0m \u001b[0;34m\u001b[0m\u001b[0m\n\u001b[1;32m     53\u001b[0m     \u001b[0;31m# Print errors to see how well it's doing\u001b[0m\u001b[0;34m\u001b[0m\u001b[0;34m\u001b[0m\u001b[0m\n\u001b[0;32m---> 54\u001b[0;31m     \u001b[0mprint\u001b[0m\u001b[0;34m(\u001b[0m\u001b[0;34m\"RMSE: %s\"\u001b[0m \u001b[0;34m%\u001b[0m \u001b[0mrmse\u001b[0m\u001b[0;34m)\u001b[0m\u001b[0;34m\u001b[0m\u001b[0m\n\u001b[0m\u001b[1;32m     55\u001b[0m     \u001b[0mprint\u001b[0m\u001b[0;34m(\u001b[0m\u001b[0;34m\"MSE: %s\"\u001b[0m \u001b[0;34m%\u001b[0m \u001b[0mmse\u001b[0m\u001b[0;34m)\u001b[0m\u001b[0;34m\u001b[0m\u001b[0m\n\u001b[1;32m     56\u001b[0m \u001b[0;34m\u001b[0m\u001b[0m\n",
      "\u001b[0;31mNameError\u001b[0m: name 'rmse' is not defined"
     ]
    },
    {
     "data": {
      "image/png": "[encoded data removed]",
      "text/plain": [
       "<Figure size 432x288 with 1 Axes>"
      ]
     },
     "metadata": {
      "needs_background": "light"
     },
     "output_type": "display_data"
    }
   ],
   "source": [
    "# Similar to before we're trying to fit the data in it's stadnard form, \n",
    "# next we will try a square approach like before and see how that improves the fit.\n",
    "bias = np.ones(len(data['X'].values))\n",
    "tranformX =  np.vstack((bias, data['X'].values))\n",
    "tranformX = tranformX.T\n",
    "weights, yhat, mse = calculate_and_plot_linear_regression(tranformX, data['y'].values.T)\n",
    "\n"
   ]
  },
  {
   "cell_type": "code",
   "execution_count": null,
   "metadata": {},
   "outputs": [],
   "source": [
    "# Doesn't do a great job of fitting our points. Lets try squaring like in the other notebook "
   ]
  },
  {
   "cell_type": "code",
   "execution_count": null,
   "metadata": {},
   "outputs": [],
   "source": [
    "origX = data['X'].values\n",
    "origY = data['y'].values\n",
    "\n",
    "X_square = np.square(origX)\n",
    "Y_square = np.square(origY)\n",
    "\n",
    "bias = np.ones(len(X_square))\n",
    "transformedX =  np.vstack((bias, origX))\n",
    "transformedX2 =  np.vstack((transformedX, X_square))\n",
    "\n",
    "weights, yhat, mse = calculate_and_plot_linear_regression(newX2.T, origY.T)\n"
   ]
  },
  {
   "cell_type": "code",
   "execution_count": null,
   "metadata": {},
   "outputs": [],
   "source": [
    "import operator\n",
    "from sklearn.linear_model import LinearRegression\n",
    "from sklearn.metrics import mean_squared_error, r2_score\n",
    "from sklearn.preprocessing import PolynomialFeatures\n",
    "\n",
    "# LinearRegression expects an array of shape (n, 1) for the \"Training data\"\n",
    "origX = data['X'].values[:, np.newaxis]\n",
    "\n",
    "# target data is array of shape (n,) \n",
    "origY = data['y'].values\n",
    "\n",
    "X_train, X_test, y_train, y_test = train_test_split(origX, origY, test_size=0.2, random_state=10131531)\n",
    "\n",
    "polynomial_features= PolynomialFeatures(degree=2)\n",
    "x_poly = polynomial_features.fit_transform(origX)\n",
    "\n",
    "model2 = LinearRegression()\n",
    "model2.fit(x_poly, origY)\n",
    "y_poly_pred = model2.predict(x_poly)\n",
    "\n",
    "rmse = np.sqrt(mean_squared_error(origY, y_poly_pred))\n",
    "mse = r2_score(origY, y_poly_pred)\n",
    "print(\"RMSE: %s\" % rmse)\n",
    "print(\"MSE: %s\" % mse)\n",
    "\n",
    "plt.scatter(origX, origY, s=10)\n",
    "# sort the values of x before line plot\n",
    "sort_axis = operator.itemgetter(0)\n",
    "sorted_zip = sorted(zip(origX, y_poly_pred), key=sort_axis)\n",
    "x, y_poly_pred = zip(*sorted_zip)\n",
    "plt.plot(origX, y_poly_pred, color='m')\n",
    "plt.show()"
   ]
  },
  {
   "cell_type": "markdown",
   "metadata": {},
   "source": [
    "We can see that MSE has increased when compared to the linear line approach above."
   ]
  },
  {
   "cell_type": "raw",
   "metadata": {},
   "source": [
    "References\n",
    "# https://scikit-learn.org/stable/modules/linear_model.html#polynomial-regression-extending-linear-models-with-basis-functions # https://www.jeremyjordan.me/polynomial-regression/ # Thanks to Michael Danjo, COrmac lavery & Abhiji Sinha # https://towardsdatascience.com/polynomial-regression-bbe8b9d97491 # https://www.youtube.com/watch?v=ro5ftxuD6is\n",
    "# https://towardsdatascience.com/linear-regression-in-6-lines-of-python-5e1d0cd05b8d"
   ]
  },
  {
   "cell_type": "code",
   "execution_count": null,
   "metadata": {},
   "outputs": [],
   "source": []
  }
 ],
 "metadata": {
  "kernelspec": {
   "display_name": "Python 3",
   "language": "python",
   "name": "python3"
  },
  "language_info": {
   "codemirror_mode": {
    "name": "ipython",
    "version": 3
   },
   "file_extension": ".py",
   "mimetype": "text/x-python",
   "name": "python",
   "nbconvert_exporter": "python",
   "pygments_lexer": "ipython3",
   "version": "3.5.6"
  }
 },
 "nbformat": 4,
 "nbformat_minor": 2
}
