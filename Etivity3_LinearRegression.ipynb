{
 "cells": [
  {
   "cell_type": "markdown",
   "metadata": {},
   "source": [
    "# E-tivity 3: Linear regression\n",
    "## MSc in AI - CE6002 & CS5062\n",
    "Student Name: Michel Danjou\n",
    "\n",
    "Student ID: 18263461"
   ]
  },
  {
   "cell_type": "code",
   "execution_count": 1,
   "metadata": {},
   "outputs": [
    {
     "name": "stdout",
     "output_type": "stream",
     "text": [
      "Once deleted, variables cannot be recovered. Proceed (y/[n])? y\n"
     ]
    }
   ],
   "source": [
    "%reset\n",
    "%matplotlib inline"
   ]
  },
  {
   "cell_type": "code",
   "execution_count": 2,
   "metadata": {},
   "outputs": [],
   "source": [
    "import matplotlib.pyplot as plt\n",
    "import numpy as np\n",
    "import random\n",
    "import math\n",
    "from sklearn.model_selection import train_test_split\n",
    "from sklearn.utils import shuffle\n",
    "import pandas as pd"
   ]
  },
  {
   "cell_type": "markdown",
   "metadata": {},
   "source": [
    "# Task 4  (CE6002)\n",
    "#### *Copy your linear classification algorithm to the notebook Etivity3_LinearRegression.ipynb available in the git repository. Change your linear classification algorithm to make it suitable for linear regression. Use this to obtain the best possible classification of the data set Task4.csv. Your classification performance should improve if you add some new features.*\n",
    "  "
   ]
  },
  {
   "cell_type": "code",
   "execution_count": 3,
   "metadata": {},
   "outputs": [],
   "source": [
    "# Load the data\n",
    "data = pd.read_csv(\"Task4.csv\") "
   ]
  },
  {
   "cell_type": "code",
   "execution_count": 4,
   "metadata": {},
   "outputs": [
    {
     "data": {
      "text/html": [
       "<div>\n",
       "<style scoped>\n",
       "    .dataframe tbody tr th:only-of-type {\n",
       "        vertical-align: middle;\n",
       "    }\n",
       "\n",
       "    .dataframe tbody tr th {\n",
       "        vertical-align: top;\n",
       "    }\n",
       "\n",
       "    .dataframe thead th {\n",
       "        text-align: right;\n",
       "    }\n",
       "</style>\n",
       "<table border=\"1\" class=\"dataframe\">\n",
       "  <thead>\n",
       "    <tr style=\"text-align: right;\">\n",
       "      <th></th>\n",
       "      <th>X</th>\n",
       "      <th>y</th>\n",
       "    </tr>\n",
       "  </thead>\n",
       "  <tbody>\n",
       "    <tr>\n",
       "      <th>0</th>\n",
       "      <td>0.0000</td>\n",
       "      <td>-0.3080</td>\n",
       "    </tr>\n",
       "    <tr>\n",
       "      <th>1</th>\n",
       "      <td>0.0101</td>\n",
       "      <td>-0.3470</td>\n",
       "    </tr>\n",
       "    <tr>\n",
       "      <th>2</th>\n",
       "      <td>0.0202</td>\n",
       "      <td>-0.0937</td>\n",
       "    </tr>\n",
       "    <tr>\n",
       "      <th>3</th>\n",
       "      <td>0.0303</td>\n",
       "      <td>-0.2860</td>\n",
       "    </tr>\n",
       "    <tr>\n",
       "      <th>4</th>\n",
       "      <td>0.0404</td>\n",
       "      <td>-0.0927</td>\n",
       "    </tr>\n",
       "  </tbody>\n",
       "</table>\n",
       "</div>"
      ],
      "text/plain": [
       "        X       y\n",
       "0  0.0000 -0.3080\n",
       "1  0.0101 -0.3470\n",
       "2  0.0202 -0.0937\n",
       "3  0.0303 -0.2860\n",
       "4  0.0404 -0.0927"
      ]
     },
     "execution_count": 4,
     "metadata": {},
     "output_type": "execute_result"
    }
   ],
   "source": [
    "data.head()"
   ]
  },
  {
   "cell_type": "code",
   "execution_count": 5,
   "metadata": {},
   "outputs": [
    {
     "data": {
      "text/html": [
       "<div>\n",
       "<style scoped>\n",
       "    .dataframe tbody tr th:only-of-type {\n",
       "        vertical-align: middle;\n",
       "    }\n",
       "\n",
       "    .dataframe tbody tr th {\n",
       "        vertical-align: top;\n",
       "    }\n",
       "\n",
       "    .dataframe thead th {\n",
       "        text-align: right;\n",
       "    }\n",
       "</style>\n",
       "<table border=\"1\" class=\"dataframe\">\n",
       "  <thead>\n",
       "    <tr style=\"text-align: right;\">\n",
       "      <th></th>\n",
       "      <th>X</th>\n",
       "      <th>y</th>\n",
       "    </tr>\n",
       "  </thead>\n",
       "  <tbody>\n",
       "    <tr>\n",
       "      <th>count</th>\n",
       "      <td>100.000000</td>\n",
       "      <td>100.000000</td>\n",
       "    </tr>\n",
       "    <tr>\n",
       "      <th>mean</th>\n",
       "      <td>0.499995</td>\n",
       "      <td>0.786404</td>\n",
       "    </tr>\n",
       "    <tr>\n",
       "      <th>std</th>\n",
       "      <td>0.293037</td>\n",
       "      <td>0.396402</td>\n",
       "    </tr>\n",
       "    <tr>\n",
       "      <th>min</th>\n",
       "      <td>0.000000</td>\n",
       "      <td>-0.347000</td>\n",
       "    </tr>\n",
       "    <tr>\n",
       "      <th>25%</th>\n",
       "      <td>0.250250</td>\n",
       "      <td>0.639750</td>\n",
       "    </tr>\n",
       "    <tr>\n",
       "      <th>50%</th>\n",
       "      <td>0.500000</td>\n",
       "      <td>0.928000</td>\n",
       "    </tr>\n",
       "    <tr>\n",
       "      <th>75%</th>\n",
       "      <td>0.749750</td>\n",
       "      <td>1.075000</td>\n",
       "    </tr>\n",
       "    <tr>\n",
       "      <th>max</th>\n",
       "      <td>1.000000</td>\n",
       "      <td>1.270000</td>\n",
       "    </tr>\n",
       "  </tbody>\n",
       "</table>\n",
       "</div>"
      ],
      "text/plain": [
       "                X           y\n",
       "count  100.000000  100.000000\n",
       "mean     0.499995    0.786404\n",
       "std      0.293037    0.396402\n",
       "min      0.000000   -0.347000\n",
       "25%      0.250250    0.639750\n",
       "50%      0.500000    0.928000\n",
       "75%      0.749750    1.075000\n",
       "max      1.000000    1.270000"
      ]
     },
     "execution_count": 5,
     "metadata": {},
     "output_type": "execute_result"
    }
   ],
   "source": [
    "data.describe()"
   ]
  },
  {
   "cell_type": "code",
   "execution_count": 6,
   "metadata": {},
   "outputs": [],
   "source": [
    "def linear_regression(X, y):\n",
    "    X_inverse = np.linalg.pinv(X)\n",
    "    w_lin = np.matmul(X_inverse, y)\n",
    "    return w_lin\n",
    "\n",
    "\n",
    "def calc_polynom(weights, X):\n",
    "    h = weights[0]\n",
    "    for i in np.arange(1, len(weights)):\n",
    "        h += weights[i]*X ** i    \n",
    "    return h \n",
    "\n",
    "\n",
    "def calc_square_error(a, b):\n",
    "    e_sq = 0\n",
    "    N = len(a)\n",
    "    for i in range(N):\n",
    "        e_sq += math.pow((a[i] - b[i]),2)\n",
    "    return math.sqrt(e_sq/N)\n",
    "\n",
    "\n",
    "def calculate_and_plot_linear_regression(X, y):\n",
    "    \n",
    "    # shuffle data\n",
    "    X, y = shuffle(X, y, random_state=0)\n",
    "\n",
    "    # split data\n",
    "    X_train, X_test, y_train, y_test = train_test_split(X, y, test_size=0.2, random_state=42)\n",
    "\n",
    "    # Linear regression\n",
    "    weights = linear_regression(X_train, y_train)\n",
    "    \n",
    "    # Plot test data\n",
    "    plt.scatter(X[:,1], y, c=y)\n",
    "\n",
    "    # Plot decision boundary\n",
    "    minx = np.amin(X)\n",
    "    maxx = np.amax(X)  \n",
    "    s = len(X[:,1])\n",
    "    x_line = np.linspace(minx, maxx, s)\n",
    "    y_line = calc_polynom(weights, x_line)\n",
    "    plt.plot(x_line, y_line)\n",
    "    \n",
    "    # yhat (multiply yhat by 2 so that, when plotted, it doesn't overlap with scatter plot of X)\n",
    "    yhat = X_test.dot(weights)\n",
    "    plt.scatter(X_test[:,1], np.sign(yhat)*2, c=y_test)\n",
    "    \n",
    "    # error\n",
    "    error = calc_square_error(y_test,  yhat)\n",
    "    \n",
    "    # Marker for center point at coordinates (0,0)\n",
    "    plt.plot([0], [0], marker='x', markersize=30, color=\"red\")\n",
    "\n",
    "    print(\"weights:\", weights)\n",
    "    print(\"error  :\", error)\n",
    "\n",
    "    return weights, yhat, error\n"
   ]
  },
  {
   "cell_type": "markdown",
   "metadata": {},
   "source": [
    "### Linear regression on X"
   ]
  },
  {
   "cell_type": "code",
   "execution_count": 7,
   "metadata": {},
   "outputs": [
    {
     "name": "stdout",
     "output_type": "stream",
     "text": [
      "weights: [0.40020625 0.78768555]\n",
      "error  : 0.31209137924705527\n"
     ]
    },
    {
     "data": {
      "image/png": "[encoded data removed]",
      "text/plain": [
       "<Figure size 432x288 with 1 Axes>"
      ]
     },
     "metadata": {
      "needs_background": "light"
     },
     "output_type": "display_data"
    }
   ],
   "source": [
    "myX = data['X'].values\n",
    "myY = data['y'].values\n",
    "\n",
    "bias = np.ones(len(myX))\n",
    "newX =  np.vstack((bias,myX))\n",
    "newXt = newX.T\n",
    "\n",
    "weights, yhat, error = calculate_and_plot_linear_regression(newXt, myY.T)\n"
   ]
  },
  {
   "cell_type": "markdown",
   "metadata": {},
   "source": [
    "The misclassification error is **high at 31%**"
   ]
  },
  {
   "cell_type": "markdown",
   "metadata": {},
   "source": [
    "### Linear regression on X,X square"
   ]
  },
  {
   "cell_type": "code",
   "execution_count": 8,
   "metadata": {},
   "outputs": [
    {
     "name": "stdout",
     "output_type": "stream",
     "text": [
      "bias.shape : (100,)\n",
      "newX.shape : (2, 100)\n",
      "newX2.shape: (3, 100)\n",
      "weights: [-0.27898341  4.87767293 -4.09764044]\n",
      "error  : 0.07732257093813867\n"
     ]
    },
    {
     "data": {
      "image/png": "[encoded data removed]",
      "text/plain": [
       "<Figure size 432x288 with 1 Axes>"
      ]
     },
     "metadata": {
      "needs_background": "light"
     },
     "output_type": "display_data"
    }
   ],
   "source": [
    "myX = data['X'].values\n",
    "myY = data['y'].values\n",
    "\n",
    "myX2 = np.square(myX)\n",
    "myY2 = np.square(myY)\n",
    "\n",
    "bias = np.ones(len(myX))\n",
    "newX =  np.vstack((bias,myX))\n",
    "newX2 =  np.vstack((newX,myX2))\n",
    "\n",
    "print(\"bias.shape :\", bias.shape)\n",
    "print(\"newX.shape :\", newX.shape)\n",
    "print(\"newX2.shape:\", newX2.shape)\n",
    "newXt = newX2.T\n",
    "\n",
    "weights, yhat, error = calculate_and_plot_linear_regression(newXt, myY.T)\n"
   ]
  },
  {
   "cell_type": "markdown",
   "metadata": {},
   "source": [
    "The **misclassifiacation error is very low at 0.07** when using a **Xsquare in combination with X**.\n",
    "\n",
    "Reference: https://github.com/pickus91/Polynomial-Regression-From-Scratch/blob/master/polynomial_regression.py "
   ]
  },
  {
   "cell_type": "markdown",
   "metadata": {},
   "source": [
    "#### *Also, use an algorithm from the scikit-learn toolbox to see if you can do better. You should not add any other imports than those necessary for your chosen scikit-learn algorithm.*"
   ]
  },
  {
   "cell_type": "markdown",
   "metadata": {},
   "source": [
    "<span style=\"color:red\">TBD</span>  \n"
   ]
  }
 ],
 "metadata": {
  "kernelspec": {
   "display_name": "Python 3",
   "language": "python",
   "name": "python3"
  },
  "language_info": {
   "codemirror_mode": {
    "name": "ipython",
    "version": 3
   },
   "file_extension": ".py",
   "mimetype": "text/x-python",
   "name": "python",
   "nbconvert_exporter": "python",
   "pygments_lexer": "ipython3",
   "version": "3.7.0"
  }
 },
 "nbformat": 4,
 "nbformat_minor": 2
}
