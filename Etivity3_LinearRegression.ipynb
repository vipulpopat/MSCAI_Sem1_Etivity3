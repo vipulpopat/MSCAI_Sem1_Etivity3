{
 "cells": [
  {
   "cell_type": "markdown",
   "metadata": {},
   "source": [
    "# E-tivity 3: Linear regression\n",
    "## MSc in AI - CE6002 & CS5062\n",
    "Student Name: Michel Danjou\n",
    "\n",
    "Student ID: 18263461"
   ]
  },
  {
   "cell_type": "code",
   "execution_count": 1,
   "metadata": {},
   "outputs": [],
   "source": [
    "import matplotlib.pyplot as plt\n",
    "import numpy as np\n",
    "import random\n",
    "import math\n",
    "from sklearn.model_selection import train_test_split\n",
    "\n",
    "import pandas as pd"
   ]
  },
  {
   "cell_type": "markdown",
   "metadata": {},
   "source": [
    "# Task 4  (CE6002)\n",
    "  * Copy your linear classification algorithm to the notebook Etivity3_LinearRegression.ipynb available in the git repository. Change your linear classification algorithm to make it suitable for linear regression. Use this to obtain the best possible classification of the data set Task4.csv. Your classification performance should improve if you add some new features.\n",
    "  \n",
    "  * Also, use an algorithm from the scikit-learn toolbox to see if you can do better. You should not add any other imports than those necessary for your chosen scikit-learn algorithm."
   ]
  },
  {
   "cell_type": "code",
   "execution_count": 2,
   "metadata": {},
   "outputs": [],
   "source": [
    "# Load the data\n",
    "data = pd.read_csv(\"Task4.csv\") "
   ]
  },
  {
   "cell_type": "code",
   "execution_count": 3,
   "metadata": {},
   "outputs": [
    {
     "data": {
      "text/html": [
       "<div>\n",
       "<style scoped>\n",
       "    .dataframe tbody tr th:only-of-type {\n",
       "        vertical-align: middle;\n",
       "    }\n",
       "\n",
       "    .dataframe tbody tr th {\n",
       "        vertical-align: top;\n",
       "    }\n",
       "\n",
       "    .dataframe thead th {\n",
       "        text-align: right;\n",
       "    }\n",
       "</style>\n",
       "<table border=\"1\" class=\"dataframe\">\n",
       "  <thead>\n",
       "    <tr style=\"text-align: right;\">\n",
       "      <th></th>\n",
       "      <th>X</th>\n",
       "      <th>y</th>\n",
       "    </tr>\n",
       "  </thead>\n",
       "  <tbody>\n",
       "    <tr>\n",
       "      <th>0</th>\n",
       "      <td>0.0000</td>\n",
       "      <td>-0.3080</td>\n",
       "    </tr>\n",
       "    <tr>\n",
       "      <th>1</th>\n",
       "      <td>0.0101</td>\n",
       "      <td>-0.3470</td>\n",
       "    </tr>\n",
       "    <tr>\n",
       "      <th>2</th>\n",
       "      <td>0.0202</td>\n",
       "      <td>-0.0937</td>\n",
       "    </tr>\n",
       "    <tr>\n",
       "      <th>3</th>\n",
       "      <td>0.0303</td>\n",
       "      <td>-0.2860</td>\n",
       "    </tr>\n",
       "    <tr>\n",
       "      <th>4</th>\n",
       "      <td>0.0404</td>\n",
       "      <td>-0.0927</td>\n",
       "    </tr>\n",
       "  </tbody>\n",
       "</table>\n",
       "</div>"
      ],
      "text/plain": [
       "        X       y\n",
       "0  0.0000 -0.3080\n",
       "1  0.0101 -0.3470\n",
       "2  0.0202 -0.0937\n",
       "3  0.0303 -0.2860\n",
       "4  0.0404 -0.0927"
      ]
     },
     "execution_count": 3,
     "metadata": {},
     "output_type": "execute_result"
    }
   ],
   "source": [
    "data.head()"
   ]
  },
  {
   "cell_type": "code",
   "execution_count": 4,
   "metadata": {},
   "outputs": [
    {
     "data": {
      "text/html": [
       "<div>\n",
       "<style scoped>\n",
       "    .dataframe tbody tr th:only-of-type {\n",
       "        vertical-align: middle;\n",
       "    }\n",
       "\n",
       "    .dataframe tbody tr th {\n",
       "        vertical-align: top;\n",
       "    }\n",
       "\n",
       "    .dataframe thead th {\n",
       "        text-align: right;\n",
       "    }\n",
       "</style>\n",
       "<table border=\"1\" class=\"dataframe\">\n",
       "  <thead>\n",
       "    <tr style=\"text-align: right;\">\n",
       "      <th></th>\n",
       "      <th>X</th>\n",
       "      <th>y</th>\n",
       "    </tr>\n",
       "  </thead>\n",
       "  <tbody>\n",
       "    <tr>\n",
       "      <th>count</th>\n",
       "      <td>100.000000</td>\n",
       "      <td>100.000000</td>\n",
       "    </tr>\n",
       "    <tr>\n",
       "      <th>mean</th>\n",
       "      <td>0.499995</td>\n",
       "      <td>0.786404</td>\n",
       "    </tr>\n",
       "    <tr>\n",
       "      <th>std</th>\n",
       "      <td>0.293037</td>\n",
       "      <td>0.396402</td>\n",
       "    </tr>\n",
       "    <tr>\n",
       "      <th>min</th>\n",
       "      <td>0.000000</td>\n",
       "      <td>-0.347000</td>\n",
       "    </tr>\n",
       "    <tr>\n",
       "      <th>25%</th>\n",
       "      <td>0.250250</td>\n",
       "      <td>0.639750</td>\n",
       "    </tr>\n",
       "    <tr>\n",
       "      <th>50%</th>\n",
       "      <td>0.500000</td>\n",
       "      <td>0.928000</td>\n",
       "    </tr>\n",
       "    <tr>\n",
       "      <th>75%</th>\n",
       "      <td>0.749750</td>\n",
       "      <td>1.075000</td>\n",
       "    </tr>\n",
       "    <tr>\n",
       "      <th>max</th>\n",
       "      <td>1.000000</td>\n",
       "      <td>1.270000</td>\n",
       "    </tr>\n",
       "  </tbody>\n",
       "</table>\n",
       "</div>"
      ],
      "text/plain": [
       "                X           y\n",
       "count  100.000000  100.000000\n",
       "mean     0.499995    0.786404\n",
       "std      0.293037    0.396402\n",
       "min      0.000000   -0.347000\n",
       "25%      0.250250    0.639750\n",
       "50%      0.500000    0.928000\n",
       "75%      0.749750    1.075000\n",
       "max      1.000000    1.270000"
      ]
     },
     "execution_count": 4,
     "metadata": {},
     "output_type": "execute_result"
    }
   ],
   "source": [
    "data.describe()"
   ]
  },
  {
   "cell_type": "code",
   "execution_count": 5,
   "metadata": {},
   "outputs": [],
   "source": [
    "# Plot the boundary\n",
    "def decision_boundary_lin(weights, x_min, x_max):\n",
    "   # Return two points on the decision boundary\n",
    "   return [point_on_boundary_lin(weights, x_min), point_on_boundary_lin(weights, x_max)]\n",
    "\n",
    "def point_on_boundary_lin(weights, x):\n",
    "    # Return the y-position on the boundary based on given x-position\n",
    "    return -(weights[0]+weights[1]*x)/weights[2]"
   ]
  },
  {
   "cell_type": "code",
   "execution_count": 6,
   "metadata": {},
   "outputs": [],
   "source": [
    "def linear_regression(X, y):\n",
    "    \n",
    "    # X = np.insert(X, 0, 1, axis=1)\n",
    "    #bias = np.array([1])   \n",
    "    \n",
    "    #bias = np.ones(len(X))\n",
    "    #X = np.concatenate(bias,X)\n",
    "    \n",
    "    X_inverse = np.linalg.pinv(X)\n",
    "    w_lin = np.matmul(X_inverse, y)\n",
    "    yhat = X.dot(w_lin)\n",
    "    return w_lin, yhat\n",
    "\n",
    "\n",
    "def calc_square_error(a, b):\n",
    "    e_sq = 0\n",
    "    N = len(a)\n",
    "    for i in range(N):\n",
    "        e_sq += math.pow((a[i] - b[i]),2)\n",
    "    return math.sqrt(e_sq/N)\n",
    "\n",
    "\n",
    "def calculate_and_plot_linear_regression(X, y):\n",
    "    # Linear regression\n",
    "    weights, yhat = linear_regression(X, y)\n",
    "    #plt.scatter(X[:,0], X[:,1], c=y)\n",
    "\n",
    "    minx = np.amin(X)\n",
    "    maxx = np.amax(X)\n",
    "    horz = np.linspace(minx, maxx, len(X))\n",
    "    #vert = w_lin[0]*X + w_lin[1]\n",
    "    #plt.plot(horz, X[:,0], color='red')\n",
    "    #plt.plot(horz, X[:,1], color='blue')\n",
    "    plt.plot(X[:,1], y, color='green')\n",
    "    plt.scatter(X[:,1], y, c=y)\n",
    "\n",
    "    # Plot\n",
    "    minx = np.amin(X)\n",
    "    maxx = np.amax(X)\n",
    "    #miny, maxy = decision_boundary_lin(weights, minx, maxx)\n",
    "    #plt.plot([minx, maxx], [miny, maxy], 'ro-')\n",
    "    \n",
    "    # yhat\n",
    "   # plt.scatter(X[:,0], np.sign(yhat), c=y)\n",
    "    \n",
    "    # error\n",
    "    error = calc_square_error(y,  yhat)\n",
    "    \n",
    "    return weights, yhat, error\n"
   ]
  },
  {
   "cell_type": "code",
   "execution_count": 7,
   "metadata": {},
   "outputs": [
    {
     "name": "stdout",
     "output_type": "stream",
     "text": [
      "(100,)\n",
      "<class 'numpy.ndarray'>\n",
      "(100,)\n",
      "<class 'numpy.ndarray'>\n",
      "(2, 100)\n"
     ]
    },
    {
     "data": {
      "image/png": "[encoded data removed]",
      "text/plain": [
       "<Figure size 432x288 with 1 Axes>"
      ]
     },
     "metadata": {
      "needs_background": "light"
     },
     "output_type": "display_data"
    }
   ],
   "source": [
    "myX = data['X'].values\n",
    "myY = data['y'].values\n",
    "\n",
    "print(myX.shape)\n",
    "print(type(myX))\n",
    "\n",
    "bias = np.ones(len(myX))\n",
    "print(bias.shape)\n",
    "print(type(bias))\n",
    "\n",
    "#newX = np.insert(X, 0, 1, axis=1)\n",
    "#newX = np.concatenate((bias, myX),axis=1)\n",
    "newX =  np.vstack((bias,myX))\n",
    "print(newX.shape)\n",
    "newXt = newX.T\n",
    "\n",
    "#weights, yhat, error = calculate_and_plot_linear_regression(myX, myY)\n",
    "weights, yhat, error = calculate_and_plot_linear_regression(newXt, myY.T)\n",
    "#print(\"Error:\", error)"
   ]
  },
  {
   "cell_type": "code",
   "execution_count": null,
   "metadata": {},
   "outputs": [],
   "source": []
  }
 ],
 "metadata": {
  "kernelspec": {
   "display_name": "Python 3",
   "language": "python",
   "name": "python3"
  },
  "language_info": {
   "codemirror_mode": {
    "name": "ipython",
    "version": 3
   },
   "file_extension": ".py",
   "mimetype": "text/x-python",
   "name": "python",
   "nbconvert_exporter": "python",
   "pygments_lexer": "ipython3",
   "version": "3.7.0"
  }
 },
 "nbformat": 4,
 "nbformat_minor": 2
}
