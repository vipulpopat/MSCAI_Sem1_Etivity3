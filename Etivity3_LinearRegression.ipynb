{
 "cells": [
  {
   "cell_type": "markdown",
   "metadata": {},
   "source": [
    "# E-tivity 3: : Linear Regression"
   ]
  },
  {
   "cell_type": "markdown",
   "metadata": {},
   "source": [
    "## Student Name: Garret Molloy\n",
    "## Student ID: 9021906"
   ]
  },
  {
   "cell_type": "code",
   "execution_count": 1,
   "metadata": {},
   "outputs": [],
   "source": [
    "import matplotlib.pyplot as plt\n",
    "import pandas as pd\n",
    "import numpy as np\n",
    "import random\n",
    "import math\n",
    "from sklearn.model_selection import train_test_split"
   ]
  },
  {
   "cell_type": "markdown",
   "metadata": {},
   "source": [
    "# Task 4  (CE6002)\n",
    "- Copy your linear classification algorithm to the notebook\n",
    "- Change your linear classification algorithm to make it suitable for linear regression\n",
    "- Use this to obtain the best possible fit to the data set Task4.csv\n",
    "- Your regression performance should improve if you add some new features\n",
    "- Also, use an algorithm from the scikit-learn toolbox to see if you can do better\n",
    "- You should not add any other imports than those necessary for your chosen scikit-learn algorithm.\n"
   ]
  },
  {
   "cell_type": "code",
   "execution_count": 2,
   "metadata": {},
   "outputs": [],
   "source": [
    "# Read in data file\n",
    "df = pd.read_csv('Task4.csv')"
   ]
  },
  {
   "cell_type": "code",
   "execution_count": 3,
   "metadata": {},
   "outputs": [
    {
     "data": {
      "text/plain": [
       "(100, 2)"
      ]
     },
     "execution_count": 3,
     "metadata": {},
     "output_type": "execute_result"
    }
   ],
   "source": [
    "df.shape"
   ]
  },
  {
   "cell_type": "code",
   "execution_count": 4,
   "metadata": {},
   "outputs": [
    {
     "data": {
      "text/html": [
       "<div>\n",
       "<style scoped>\n",
       "    .dataframe tbody tr th:only-of-type {\n",
       "        vertical-align: middle;\n",
       "    }\n",
       "\n",
       "    .dataframe tbody tr th {\n",
       "        vertical-align: top;\n",
       "    }\n",
       "\n",
       "    .dataframe thead th {\n",
       "        text-align: right;\n",
       "    }\n",
       "</style>\n",
       "<table border=\"1\" class=\"dataframe\">\n",
       "  <thead>\n",
       "    <tr style=\"text-align: right;\">\n",
       "      <th></th>\n",
       "      <th>X</th>\n",
       "      <th>y</th>\n",
       "    </tr>\n",
       "  </thead>\n",
       "  <tbody>\n",
       "    <tr>\n",
       "      <th>0</th>\n",
       "      <td>0.0000</td>\n",
       "      <td>-0.3080</td>\n",
       "    </tr>\n",
       "    <tr>\n",
       "      <th>1</th>\n",
       "      <td>0.0101</td>\n",
       "      <td>-0.3470</td>\n",
       "    </tr>\n",
       "    <tr>\n",
       "      <th>2</th>\n",
       "      <td>0.0202</td>\n",
       "      <td>-0.0937</td>\n",
       "    </tr>\n",
       "    <tr>\n",
       "      <th>3</th>\n",
       "      <td>0.0303</td>\n",
       "      <td>-0.2860</td>\n",
       "    </tr>\n",
       "    <tr>\n",
       "      <th>4</th>\n",
       "      <td>0.0404</td>\n",
       "      <td>-0.0927</td>\n",
       "    </tr>\n",
       "  </tbody>\n",
       "</table>\n",
       "</div>"
      ],
      "text/plain": [
       "        X       y\n",
       "0  0.0000 -0.3080\n",
       "1  0.0101 -0.3470\n",
       "2  0.0202 -0.0937\n",
       "3  0.0303 -0.2860\n",
       "4  0.0404 -0.0927"
      ]
     },
     "execution_count": 4,
     "metadata": {},
     "output_type": "execute_result"
    }
   ],
   "source": [
    "df.head()"
   ]
  },
  {
   "cell_type": "code",
   "execution_count": 5,
   "metadata": {},
   "outputs": [],
   "source": [
    "X = np.array(df['X'].values, dtype=float)\n",
    "y = np.array(df['y'].values, dtype=float)"
   ]
  },
  {
   "cell_type": "code",
   "execution_count": 6,
   "metadata": {},
   "outputs": [
    {
     "data": {
      "image/png": "[encoded data removed]",
      "text/plain": [
       "<Figure size 504x504 with 1 Axes>"
      ]
     },
     "metadata": {
      "needs_background": "light"
     },
     "output_type": "display_data"
    }
   ],
   "source": [
    "fig = plt.figure(frameon=False)\n",
    "fig.set_size_inches(7,7)\n",
    "plt.scatter(X,y)\n",
    "plt.show()"
   ]
  },
  {
   "cell_type": "markdown",
   "metadata": {},
   "source": [
    "#### Bring in Methods from Linear Classification\n",
    "Add new method for Linear Regression (remove sign() )"
   ]
  },
  {
   "cell_type": "code",
   "execution_count": 7,
   "metadata": {},
   "outputs": [],
   "source": [
    "def linear_classification(x,w):\n",
    "    #Linear Classificaion is the sign of the dot product of weights(transposed) and input vector eights\n",
    "    # its sgn determines the class allocation\n",
    "    return np.sign(w.T.dot(x))"
   ]
  },
  {
   "cell_type": "code",
   "execution_count": 8,
   "metadata": {},
   "outputs": [],
   "source": [
    "# Changing Classificaiton to Regression Predict Value\n",
    "def linear_regression_predict(x,w):\n",
    "    #print(\"X:\", x.shape,\"w:\", w.shape, \"Result=Wt.X\")\n",
    "    #Linear Classificaion is the sign of the dot product of weights(transposed) and input vector eights\n",
    "    # its sgn determines the class allocation\n",
    "    return (w.T.dot(x))\n",
    "\n"
   ]
  },
  {
   "cell_type": "code",
   "execution_count": 9,
   "metadata": {},
   "outputs": [],
   "source": [
    "# Homemade Linear Regression from scratch (didn't think I could do it!!\n",
    "from numpy.linalg import inv\n",
    "\n",
    "def linear_regression(X, y):\n",
    "    # X dagger = Psuedo Inverse =        (Xt * X)^-1 * Xt\n",
    "    psuedo_inverse = np.matmul(inv(np.matmul(X.T, X)), X.T)    # Yaay! one line!!\n",
    "    # return w = X dagger * Xt\n",
    "    return np.matmul(psuedo_inverse, y) # return w"
   ]
  },
  {
   "cell_type": "code",
   "execution_count": 10,
   "metadata": {},
   "outputs": [],
   "source": [
    "def point_on_boundary(weights, x):\n",
    "    # Return the y-position on the boundary based on given x-position\n",
    "    return -(weights[0]+weights[1]*x)/weights[2]\n",
    "\n",
    "def decision_boundary(weights, x_min, x_max):\n",
    "    # Return two points on the decision boundary\n",
    "    return [point_on_boundary(weights, x_min), point_on_boundary(weights, x_max)]"
   ]
  },
  {
   "cell_type": "code",
   "execution_count": 37,
   "metadata": {},
   "outputs": [],
   "source": [
    "def calc_error_RMSE(predicted, actual):\n",
    "    # Function to calculate the Mean squared error\n",
    "    # Sum of (h(xn) - yn)**2 for all N samples / N\n",
    "    sum = 0\n",
    "    for hx, y in zip(predicted, actual):\n",
    "        sum += ((hx - y)**2)\n",
    "        # print(hx,y,((hx - y)**2),sum)\n",
    "    #print(\"samples:\", predicted.shape[0])\n",
    "    mse = sum / predicted.shape[0]\n",
    "    rmse = math.sqrt(mse)\n",
    "    print(\"RMSE Error: {:0.3f}\".format(rmse))\n",
    "    return #rmse"
   ]
  },
  {
   "cell_type": "code",
   "execution_count": 38,
   "metadata": {},
   "outputs": [],
   "source": [
    "# Add Bias to input features\n",
    "shape = X.shape\n",
    "new_X = np.ones((shape[0],2))\n",
    "new_X[:,1] = X"
   ]
  },
  {
   "cell_type": "code",
   "execution_count": 39,
   "metadata": {},
   "outputs": [],
   "source": [
    "# Split the data in to train and test (80/20 split) and ensure the data is shuffled.\n",
    "from sklearn.model_selection import train_test_split\n",
    "X_train, X_test, y_train, y_test = train_test_split(new_X, y, test_size = 0.2, shuffle=True, random_state=42)"
   ]
  },
  {
   "cell_type": "code",
   "execution_count": 40,
   "metadata": {},
   "outputs": [
    {
     "data": {
      "text/plain": [
       "(80, 2)"
      ]
     },
     "execution_count": 40,
     "metadata": {},
     "output_type": "execute_result"
    }
   ],
   "source": [
    "X_train.shape"
   ]
  },
  {
   "cell_type": "code",
   "execution_count": 41,
   "metadata": {},
   "outputs": [
    {
     "data": {
      "text/plain": [
       "(80,)"
      ]
     },
     "execution_count": 41,
     "metadata": {},
     "output_type": "execute_result"
    }
   ],
   "source": [
    "y_train.shape"
   ]
  },
  {
   "cell_type": "code",
   "execution_count": 42,
   "metadata": {},
   "outputs": [
    {
     "data": {
      "text/plain": [
       "(20, 2)"
      ]
     },
     "execution_count": 42,
     "metadata": {},
     "output_type": "execute_result"
    }
   ],
   "source": [
    "X_test.shape"
   ]
  },
  {
   "cell_type": "code",
   "execution_count": 43,
   "metadata": {},
   "outputs": [],
   "source": [
    "weights = linear_regression(X_train, y_train)"
   ]
  },
  {
   "cell_type": "code",
   "execution_count": 44,
   "metadata": {},
   "outputs": [
    {
     "data": {
      "text/plain": [
       "array([0.42876122, 0.72390652])"
      ]
     },
     "execution_count": 44,
     "metadata": {},
     "output_type": "execute_result"
    }
   ],
   "source": [
    "weights"
   ]
  },
  {
   "cell_type": "markdown",
   "metadata": {},
   "source": [
    "   ## Plot Features & Predicited Values from My Logistic Regression"
   ]
  },
  {
   "cell_type": "code",
   "execution_count": 45,
   "metadata": {},
   "outputs": [],
   "source": [
    "# We want to plot in red the predictions are linear regression would provide for the test data\n",
    "y_predict = np.asarray([linear_regression_predict(x, weights) for x in X_test] )"
   ]
  },
  {
   "cell_type": "code",
   "execution_count": 46,
   "metadata": {},
   "outputs": [
    {
     "data": {
      "image/png": "[encoded data removed]",
      "text/plain": [
       "<Figure size 504x504 with 1 Axes>"
      ]
     },
     "metadata": {
      "needs_background": "light"
     },
     "output_type": "display_data"
    }
   ],
   "source": [
    "fig = plt.figure(frameon=False)\n",
    "fig.set_size_inches(7,7)\n",
    "plt.scatter(X_train[:,1],y_train[:], label=\"Training Samples\")\n",
    "plt.scatter(X_test[:,1],y_predict, color='r', label='Predicted Values')\n",
    "plt.legend()\n",
    "plt.show()"
   ]
  },
  {
   "cell_type": "markdown",
   "metadata": {},
   "source": [
    "Not a great match, even if I do not look at the vizualization but check the Eout Scores:\n",
    "    "
   ]
  },
  {
   "cell_type": "code",
   "execution_count": 47,
   "metadata": {},
   "outputs": [
    {
     "name": "stdout",
     "output_type": "stream",
     "text": [
      "RMSE Error: 0.306\n"
     ]
    }
   ],
   "source": [
    "calc_error_RMSE(y_predict, y_test)"
   ]
  },
  {
   "cell_type": "markdown",
   "metadata": {},
   "source": [
    "## Add new Features x<sup>2</sup>"
   ]
  },
  {
   "cell_type": "code",
   "execution_count": 48,
   "metadata": {},
   "outputs": [],
   "source": [
    "# Here I am adding new features to the above\n",
    "X_train_transformed = np.asarray([(bias, x1, x1**2) for (bias, x1) in X_train])\n",
    "X_test_transformed  = np.asarray([(bias, x1, x1**2) for (bias, x1) in X_test])"
   ]
  },
  {
   "cell_type": "code",
   "execution_count": 49,
   "metadata": {},
   "outputs": [],
   "source": [
    "weights2 = linear_regression(X_train_transformed, y_train)"
   ]
  },
  {
   "cell_type": "code",
   "execution_count": 50,
   "metadata": {},
   "outputs": [
    {
     "data": {
      "text/plain": [
       "array([-0.28548779,  4.89446178, -4.09325841])"
      ]
     },
     "execution_count": 50,
     "metadata": {},
     "output_type": "execute_result"
    }
   ],
   "source": [
    "weights2"
   ]
  },
  {
   "cell_type": "code",
   "execution_count": 51,
   "metadata": {},
   "outputs": [],
   "source": [
    "y_predict2 = np.asarray([linear_regression_predict(x, weights2) for x in X_test_transformed] )\n"
   ]
  },
  {
   "cell_type": "code",
   "execution_count": 52,
   "metadata": {},
   "outputs": [
    {
     "data": {
      "image/png": "[encoded data removed]",
      "text/plain": [
       "<Figure size 504x504 with 1 Axes>"
      ]
     },
     "metadata": {
      "needs_background": "light"
     },
     "output_type": "display_data"
    }
   ],
   "source": [
    "fig = plt.figure(frameon=False)\n",
    "fig.set_size_inches(7,7)\n",
    "plt.scatter(X_train_transformed[:,2],y_train[:], label=\"Training Samples\")\n",
    "plt.scatter(X_test_transformed[:,2],y_predict2, color='r', label='Predicted Values')\n",
    "plt.title(\"Training Data and Predicted Values\")\n",
    "plt.legend()\n",
    "plt.show()"
   ]
  },
  {
   "cell_type": "code",
   "execution_count": 53,
   "metadata": {},
   "outputs": [
    {
     "data": {
      "image/png": "[encoded data removed]",
      "text/plain": [
       "<Figure size 504x504 with 1 Axes>"
      ]
     },
     "metadata": {
      "needs_background": "light"
     },
     "output_type": "display_data"
    }
   ],
   "source": [
    "fig = plt.figure(frameon=False)\n",
    "fig.set_size_inches(7,7)\n",
    "plt.scatter(X_test_transformed[:,2],y_predict2, color='r', label='Predicted Values')\n",
    "plt.scatter(X_test_transformed[:,2],y_test, color='g', label='Actual Values')\n",
    "plt.title(\"Actual Data Vs Predicted Values\")\n",
    "\n",
    "plt.legend()\n",
    "plt.show()"
   ]
  },
  {
   "cell_type": "code",
   "execution_count": 54,
   "metadata": {},
   "outputs": [
    {
     "name": "stdout",
     "output_type": "stream",
     "text": [
      "RMSE Error: 0.070\n"
     ]
    }
   ],
   "source": [
    "calc_error_RMSE(y_predict2, y_test)"
   ]
  },
  {
   "cell_type": "markdown",
   "metadata": {},
   "source": [
    "Looks Good\n",
    "## Add Fatures x<sup>3</sup>"
   ]
  },
  {
   "cell_type": "code",
   "execution_count": 55,
   "metadata": {},
   "outputs": [],
   "source": [
    "# Here I am adding new features to the above\n",
    "X_train_transformed2 = np.asarray([(bias, x1, x1**2, x1**3) for (bias, x1) in X_train])\n",
    "X_test_transformed2  = np.asarray([(bias, x1, x1**2, x1**3) for (bias, x1) in X_test])"
   ]
  },
  {
   "cell_type": "code",
   "execution_count": 56,
   "metadata": {},
   "outputs": [],
   "source": [
    "weights3 = linear_regression(X_train_transformed2, y_train)"
   ]
  },
  {
   "cell_type": "code",
   "execution_count": 57,
   "metadata": {},
   "outputs": [],
   "source": [
    "y_predict3 = np.asarray([linear_regression_predict(x, weights3) for x in X_test_transformed2] )\n"
   ]
  },
  {
   "cell_type": "code",
   "execution_count": 58,
   "metadata": {},
   "outputs": [
    {
     "data": {
      "image/png": "[encoded data removed]",
      "text/plain": [
       "<Figure size 504x504 with 1 Axes>"
      ]
     },
     "metadata": {
      "needs_background": "light"
     },
     "output_type": "display_data"
    }
   ],
   "source": [
    "fig = plt.figure(frameon=False)\n",
    "fig.set_size_inches(7,7)\n",
    "plt.scatter(X_train_transformed2[:,3],y_train[:], label=\"Training Samples\")\n",
    "plt.scatter(X_test_transformed2[:,3],y_predict2, color='r', label='Predicted Values')\n",
    "plt.legend()\n",
    "plt.show()"
   ]
  },
  {
   "cell_type": "code",
   "execution_count": 59,
   "metadata": {},
   "outputs": [
    {
     "name": "stdout",
     "output_type": "stream",
     "text": [
      "RMSE Error: 0.068\n"
     ]
    }
   ],
   "source": [
    "calc_error_RMSE(y_predict3, y_test)"
   ]
  },
  {
   "cell_type": "code",
   "execution_count": null,
   "metadata": {},
   "outputs": [],
   "source": []
  },
  {
   "cell_type": "code",
   "execution_count": null,
   "metadata": {},
   "outputs": [],
   "source": []
  }
 ],
 "metadata": {
  "kernelspec": {
   "display_name": "Python 3",
   "language": "python",
   "name": "python3"
  },
  "language_info": {
   "codemirror_mode": {
    "name": "ipython",
    "version": 3
   },
   "file_extension": ".py",
   "mimetype": "text/x-python",
   "name": "python",
   "nbconvert_exporter": "python",
   "pygments_lexer": "ipython3",
   "version": "3.7.0"
  }
 },
 "nbformat": 4,
 "nbformat_minor": 2
}
