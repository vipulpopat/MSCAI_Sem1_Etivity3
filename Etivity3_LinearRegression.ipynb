{
 "cells": [
  {
   "cell_type": "markdown",
   "metadata": {},
   "source": [
    "### Student ID: 18195067\n",
    "### Student Name: Abhijit Sinha"
   ]
  },
  {
   "cell_type": "markdown",
   "metadata": {},
   "source": [
    "# Task 4  (CE6002) : Linear regression\n",
    "*Copy your linear classification algorithm to the notebook Etivity3_LinearRegression.ipynb available in the git repository. Change your linear classification algorithm to make it suitable for linear regression. Use this to obtain the best possible fit to the data set Task4.csv. Your regression performance should improve if you add some new features..*\n",
    "\n",
    "*Also, use an algorithm from the scikit-learn toolbox to see if you can do better. You should not add any other imports than those necessary for your chosen scikit-learn algorithm.*"
   ]
  },
  {
   "cell_type": "code",
   "execution_count": 1,
   "metadata": {},
   "outputs": [],
   "source": [
    "import matplotlib.pyplot as plt\n",
    "import numpy as np\n",
    "import pandas as pd\n",
    "import random\n",
    "import math\n",
    "from sklearn.model_selection import train_test_split"
   ]
  },
  {
   "cell_type": "markdown",
   "metadata": {},
   "source": [
    "### Tasks:\n",
    "\n",
    "A. Change your linear classification algorithm to make it suitable for linear regression\n",
    "\n",
    "B. Use this to obtain the **best possible regression** of the data set Task4.csv. \n",
    "    - Your regression performance should improve if you add some new features.\n",
    "C. Use an algorithm from the scikit-learn toolbox to see if you can do better\n",
    "\n",
    "### Check:\n",
    "- Implementation of linear regression : \n",
    "    - Correct implementation with properly normalised error calculation\n",
    "        - Used MSE\n",
    "- Quality of the newly created features in Task 4 : \n",
    "    - Suitable features used and systematic approach to finding these features\n",
    "        - Used a combination of X, X_squared and X+X_squared values"
   ]
  },
  {
   "cell_type": "code",
   "execution_count": 2,
   "metadata": {},
   "outputs": [],
   "source": [
    "# Read the Task4 csv file using pandas library\n",
    "df = pd.read_csv(\"./Task4.csv\")"
   ]
  },
  {
   "cell_type": "code",
   "execution_count": 3,
   "metadata": {},
   "outputs": [
    {
     "data": {
      "text/html": [
       "<div>\n",
       "<style scoped>\n",
       "    .dataframe tbody tr th:only-of-type {\n",
       "        vertical-align: middle;\n",
       "    }\n",
       "\n",
       "    .dataframe tbody tr th {\n",
       "        vertical-align: top;\n",
       "    }\n",
       "\n",
       "    .dataframe thead th {\n",
       "        text-align: right;\n",
       "    }\n",
       "</style>\n",
       "<table border=\"1\" class=\"dataframe\">\n",
       "  <thead>\n",
       "    <tr style=\"text-align: right;\">\n",
       "      <th></th>\n",
       "      <th>X</th>\n",
       "      <th>y</th>\n",
       "    </tr>\n",
       "  </thead>\n",
       "  <tbody>\n",
       "    <tr>\n",
       "      <th>0</th>\n",
       "      <td>0.0000</td>\n",
       "      <td>-0.3080</td>\n",
       "    </tr>\n",
       "    <tr>\n",
       "      <th>1</th>\n",
       "      <td>0.0101</td>\n",
       "      <td>-0.3470</td>\n",
       "    </tr>\n",
       "    <tr>\n",
       "      <th>2</th>\n",
       "      <td>0.0202</td>\n",
       "      <td>-0.0937</td>\n",
       "    </tr>\n",
       "    <tr>\n",
       "      <th>3</th>\n",
       "      <td>0.0303</td>\n",
       "      <td>-0.2860</td>\n",
       "    </tr>\n",
       "    <tr>\n",
       "      <th>4</th>\n",
       "      <td>0.0404</td>\n",
       "      <td>-0.0927</td>\n",
       "    </tr>\n",
       "  </tbody>\n",
       "</table>\n",
       "</div>"
      ],
      "text/plain": [
       "        X       y\n",
       "0  0.0000 -0.3080\n",
       "1  0.0101 -0.3470\n",
       "2  0.0202 -0.0937\n",
       "3  0.0303 -0.2860\n",
       "4  0.0404 -0.0927"
      ]
     },
     "execution_count": 3,
     "metadata": {},
     "output_type": "execute_result"
    }
   ],
   "source": [
    "df.head()"
   ]
  },
  {
   "cell_type": "code",
   "execution_count": 4,
   "metadata": {},
   "outputs": [
    {
     "data": {
      "text/html": [
       "<div>\n",
       "<style scoped>\n",
       "    .dataframe tbody tr th:only-of-type {\n",
       "        vertical-align: middle;\n",
       "    }\n",
       "\n",
       "    .dataframe tbody tr th {\n",
       "        vertical-align: top;\n",
       "    }\n",
       "\n",
       "    .dataframe thead th {\n",
       "        text-align: right;\n",
       "    }\n",
       "</style>\n",
       "<table border=\"1\" class=\"dataframe\">\n",
       "  <thead>\n",
       "    <tr style=\"text-align: right;\">\n",
       "      <th></th>\n",
       "      <th>X</th>\n",
       "      <th>y</th>\n",
       "    </tr>\n",
       "  </thead>\n",
       "  <tbody>\n",
       "    <tr>\n",
       "      <th>95</th>\n",
       "      <td>0.96</td>\n",
       "      <td>0.685</td>\n",
       "    </tr>\n",
       "    <tr>\n",
       "      <th>96</th>\n",
       "      <td>0.97</td>\n",
       "      <td>0.649</td>\n",
       "    </tr>\n",
       "    <tr>\n",
       "      <th>97</th>\n",
       "      <td>0.98</td>\n",
       "      <td>0.662</td>\n",
       "    </tr>\n",
       "    <tr>\n",
       "      <th>98</th>\n",
       "      <td>0.99</td>\n",
       "      <td>0.633</td>\n",
       "    </tr>\n",
       "    <tr>\n",
       "      <th>99</th>\n",
       "      <td>1.00</td>\n",
       "      <td>0.571</td>\n",
       "    </tr>\n",
       "  </tbody>\n",
       "</table>\n",
       "</div>"
      ],
      "text/plain": [
       "       X      y\n",
       "95  0.96  0.685\n",
       "96  0.97  0.649\n",
       "97  0.98  0.662\n",
       "98  0.99  0.633\n",
       "99  1.00  0.571"
      ]
     },
     "execution_count": 4,
     "metadata": {},
     "output_type": "execute_result"
    }
   ],
   "source": [
    "df.tail()"
   ]
  },
  {
   "cell_type": "code",
   "execution_count": 5,
   "metadata": {},
   "outputs": [
    {
     "data": {
      "text/html": [
       "<div>\n",
       "<style scoped>\n",
       "    .dataframe tbody tr th:only-of-type {\n",
       "        vertical-align: middle;\n",
       "    }\n",
       "\n",
       "    .dataframe tbody tr th {\n",
       "        vertical-align: top;\n",
       "    }\n",
       "\n",
       "    .dataframe thead th {\n",
       "        text-align: right;\n",
       "    }\n",
       "</style>\n",
       "<table border=\"1\" class=\"dataframe\">\n",
       "  <thead>\n",
       "    <tr style=\"text-align: right;\">\n",
       "      <th></th>\n",
       "      <th>X</th>\n",
       "      <th>y</th>\n",
       "    </tr>\n",
       "  </thead>\n",
       "  <tbody>\n",
       "    <tr>\n",
       "      <th>count</th>\n",
       "      <td>100.000000</td>\n",
       "      <td>100.000000</td>\n",
       "    </tr>\n",
       "    <tr>\n",
       "      <th>mean</th>\n",
       "      <td>0.499995</td>\n",
       "      <td>0.786404</td>\n",
       "    </tr>\n",
       "    <tr>\n",
       "      <th>std</th>\n",
       "      <td>0.293037</td>\n",
       "      <td>0.396402</td>\n",
       "    </tr>\n",
       "    <tr>\n",
       "      <th>min</th>\n",
       "      <td>0.000000</td>\n",
       "      <td>-0.347000</td>\n",
       "    </tr>\n",
       "    <tr>\n",
       "      <th>25%</th>\n",
       "      <td>0.250250</td>\n",
       "      <td>0.639750</td>\n",
       "    </tr>\n",
       "    <tr>\n",
       "      <th>50%</th>\n",
       "      <td>0.500000</td>\n",
       "      <td>0.928000</td>\n",
       "    </tr>\n",
       "    <tr>\n",
       "      <th>75%</th>\n",
       "      <td>0.749750</td>\n",
       "      <td>1.075000</td>\n",
       "    </tr>\n",
       "    <tr>\n",
       "      <th>max</th>\n",
       "      <td>1.000000</td>\n",
       "      <td>1.270000</td>\n",
       "    </tr>\n",
       "  </tbody>\n",
       "</table>\n",
       "</div>"
      ],
      "text/plain": [
       "                X           y\n",
       "count  100.000000  100.000000\n",
       "mean     0.499995    0.786404\n",
       "std      0.293037    0.396402\n",
       "min      0.000000   -0.347000\n",
       "25%      0.250250    0.639750\n",
       "50%      0.500000    0.928000\n",
       "75%      0.749750    1.075000\n",
       "max      1.000000    1.270000"
      ]
     },
     "execution_count": 5,
     "metadata": {},
     "output_type": "execute_result"
    }
   ],
   "source": [
    "df.describe()"
   ]
  },
  {
   "cell_type": "code",
   "execution_count": 6,
   "metadata": {},
   "outputs": [
    {
     "data": {
      "text/plain": [
       "<matplotlib.axes._subplots.AxesSubplot at 0x14675f82eb8>"
      ]
     },
     "execution_count": 6,
     "metadata": {},
     "output_type": "execute_result"
    },
    {
     "data": {
      "image/png": "[encoded data removed]",
      "text/plain": [
       "<Figure size 432x288 with 1 Axes>"
      ]
     },
     "metadata": {},
     "output_type": "display_data"
    }
   ],
   "source": [
    "# Plot the data\n",
    "df.plot(kind='line')"
   ]
  },
  {
   "cell_type": "markdown",
   "metadata": {},
   "source": [
    "### A. Reusing the functions from Task-3 notebook and making it suitable Linear regression\n",
    "\n",
    "References: \n",
    "1. Error calculation: https://machinelearningmastery.com/implement-machine-learning-algorithm-performance-metrics-scratch-python/"
   ]
  },
  {
   "cell_type": "code",
   "execution_count": 7,
   "metadata": {},
   "outputs": [],
   "source": [
    "def get_weights(X, y):\n",
    "    # Function to find the weight matrix    \n",
    "    weight_matrix = np.zeros(1 + X.shape[1])\n",
    "    pseudo_inv_matrix = np.linalg.pinv(X)\n",
    "    weight_matrix = pseudo_inv_matrix.dot(y)\n",
    "    return weight_matrix\n",
    "\n",
    "\n",
    "def y_hat(X, weight_matrix):\n",
    "    # Function to calculate the y_hat\n",
    "    return (np.dot(X, np.transpose(weight_matrix)))\n",
    "\n",
    "\n",
    "def predict_class(X, weight_matrix):\n",
    "    # Function to predict the classification label for the input data X\n",
    "    return np.sign(y_hat(X, weight_matrix))\n",
    "\n",
    "\n",
    "def calc_MSE(actual, predicted):\n",
    "    # Function to calculate the Mean squared error\n",
    "    sum_error = 0.0\n",
    "    for i in range(len(actual)):\n",
    "        prediction_error = predicted[i] - actual[i]\n",
    "        sum_error += (prediction_error ** 2)\n",
    "    mean_error = sum_error / float(len(actual))  \n",
    "    return mean_error\n",
    "\n",
    "\n",
    "def get_slope(X, weights):\n",
    "    # Funtion to get the regression line for polynomial features\n",
    "    h = weights[0]\n",
    "    for i in np.arange(1, len(weights)):\n",
    "        h += weights[i]*X ** i    \n",
    "    return h \n",
    "\n",
    "\n",
    "def linear_regression(X, y, title=\"\"):\n",
    "    # Function to calulate the weights and plot the decision boundary\n",
    "       \n",
    "    # Split data in train and test set with 20% samples as test data\n",
    "    X_train, X_test, y_train, y_test = train_test_split(X, y, test_size=0.2, shuffle=y, random_state=42)\n",
    "\n",
    "    # Get the weights from the train data\n",
    "    weights = get_weights(X_train, y_train)\n",
    "\n",
    "    # Create figure for plotting\n",
    "    plt.figure(figsize=(6, 5))\n",
    "    plt.title(title)\n",
    "    \n",
    "    # Plot the data samples, note X[:,0] is the Bias column\n",
    "    plt.scatter(X[:,1], y, c='cyan', marker='o', s=30, edgecolors='m')\n",
    "    \n",
    "    # Getting the X and Y position\n",
    "    x_min, x_max = X.min(), X.max() \n",
    "    x_line = np.linspace(x_min, x_max, X.shape[0])\n",
    "    y_line = get_slope(x_line, weights)\n",
    "    \n",
    "    # Plot the decision boundary\n",
    "    plt.plot(x_line, y_line, 'b-.', linewidth=2.2)  \n",
    "    plt.show()\n",
    "    \n",
    "    # Calculate the error\n",
    "    error = calc_MSE(y_test,  y_hat(X_test, weights))\n",
    "        \n",
    "    return weights, error"
   ]
  },
  {
   "cell_type": "markdown",
   "metadata": {},
   "source": [
    "### Linear Regression\n",
    "\n",
    "#### B. Use this to obtain the best possible regression of the data set Task4.csv.\n",
    "- Your regression performance should improve if you add some new features."
   ]
  },
  {
   "cell_type": "markdown",
   "metadata": {},
   "source": [
    "#### Linear Regression on X "
   ]
  },
  {
   "cell_type": "code",
   "execution_count": 8,
   "metadata": {},
   "outputs": [],
   "source": [
    "# Get the values of X and y from dataframe\n",
    "X = df.X.values\n",
    "y = df.y.values\n",
    "\n",
    "# Create the constant bias term\n",
    "bias = np.ones(len(X))"
   ]
  },
  {
   "cell_type": "code",
   "execution_count": 9,
   "metadata": {},
   "outputs": [
    {
     "data": {
      "image/png": "[encoded data removed]",
      "text/plain": [
       "<Figure size 432x360 with 1 Axes>"
      ]
     },
     "metadata": {},
     "output_type": "display_data"
    },
    {
     "name": "stdout",
     "output_type": "stream",
     "text": [
      "Input X shape (100, 2)\n",
      "Weights: [0.42876122 0.72390652]\n",
      "Error: 0.09353840638313975\n"
     ]
    }
   ],
   "source": [
    "# Create the input with constant bias and X features\n",
    "X_input = np.c_[bias, X]\n",
    "\n",
    "weights, error = linear_regression(X_input, y, title='Linear Regression on raw X data')\n",
    "\n",
    "print(\"Input X shape\", X_input.shape)\n",
    "print(\"Weights:\", weights)\n",
    "print(\"Error:\", error)"
   ]
  },
  {
   "cell_type": "markdown",
   "metadata": {},
   "source": [
    "#### Linear Regression on X^2 data"
   ]
  },
  {
   "cell_type": "code",
   "execution_count": 10,
   "metadata": {},
   "outputs": [
    {
     "data": {
      "image/png": "[encoded data removed]",
      "text/plain": [
       "<Figure size 432x360 with 1 Axes>"
      ]
     },
     "metadata": {},
     "output_type": "display_data"
    },
    {
     "name": "stdout",
     "output_type": "stream",
     "text": [
      "Input X shape (100, 2)\n",
      "Weights: [0.6588306  0.40547111]\n",
      "Error: 0.13945917157624488\n"
     ]
    }
   ],
   "source": [
    "# Square the input data\n",
    "X_sqr = np.square(X)\n",
    "\n",
    "# Create the input with constant bias and X^2 features\n",
    "X_input = np.c_[bias, X_sqr]\n",
    "\n",
    "weights, error = linear_regression(X_input, y, title='Linear Regression on just X^2 data')\n",
    "\n",
    "print(\"Input X shape\", X_input.shape)\n",
    "print(\"Weights:\", weights)\n",
    "print(\"Error:\", error)"
   ]
  },
  {
   "cell_type": "markdown",
   "metadata": {},
   "source": [
    "#### Linear Regression on X and X^2 data"
   ]
  },
  {
   "cell_type": "code",
   "execution_count": 11,
   "metadata": {},
   "outputs": [
    {
     "data": {
      "image/png": "[encoded data removed]",
      "text/plain": [
       "<Figure size 432x360 with 1 Axes>"
      ]
     },
     "metadata": {},
     "output_type": "display_data"
    },
    {
     "name": "stdout",
     "output_type": "stream",
     "text": [
      "Input X shape (100, 3)\n",
      "Weights: [-0.28548779  4.89446178 -4.09325841]\n",
      "Error: 0.004870265424297493\n"
     ]
    }
   ],
   "source": [
    "# Square the input data\n",
    "X_sqr = np.square(X)\n",
    "\n",
    "# Create the input with constant bias, X and X^2 features\n",
    "X_input = np.c_[bias, X, X_sqr]\n",
    "\n",
    "weights, error = linear_regression(X_input, y, title='Linear Regression on X and X^2 data')\n",
    "\n",
    "print(\"Input X shape\", X_input.shape)\n",
    "print(\"Weights:\", weights)\n",
    "print(\"Error:\", error)"
   ]
  },
  {
   "cell_type": "markdown",
   "metadata": {},
   "source": [
    "### Observations:\n",
    "\n",
    "The Mean Squared error is very low if we use the combined data of X and X square values in the linear regression. The error is high if we just use X or X square values. \n",
    "\n",
    "Below is the summary of features used w.r.t regression error:\n",
    "\n",
    "|Features used| Mean Squared Error(approx)   |\n",
    "|----------------|---------------|\n",
    "|Only X|0.093|\n",
    "|Only X^2|0.139|\n",
    "|Combination of X and X^2|0.0049|"
   ]
  },
  {
   "cell_type": "code",
   "execution_count": null,
   "metadata": {},
   "outputs": [],
   "source": []
  },
  {
   "cell_type": "markdown",
   "metadata": {},
   "source": [
    "### C. Use an algorithm from the scikit-learn toolbox to see if you can do better\n",
    "\n",
    "Note: You should not add any other imports than those necessary for your chosen scikit-learn algorithm.\n",
    "\n",
    "Reference: \n",
    "1. https://scikit-learn.org/stable/modules/generated/sklearn.linear_model.LinearRegression.html\n",
    "2. https://towardsdatascience.com/simple-and-multiple-linear-regression-in-python-c928425168f9\n",
    "\n",
    "### Scikit-learn Linear Regression:"
   ]
  },
  {
   "cell_type": "code",
   "execution_count": 12,
   "metadata": {},
   "outputs": [
    {
     "name": "stdout",
     "output_type": "stream",
     "text": [
      "R² score of the model: 0.4645382880058122\n"
     ]
    },
    {
     "data": {
      "image/png": "[encoded data removed]",
      "text/plain": [
       "<Figure size 432x360 with 1 Axes>"
      ]
     },
     "metadata": {},
     "output_type": "display_data"
    }
   ],
   "source": [
    "from sklearn.linear_model import LinearRegression\n",
    "\n",
    "X_reg = X.reshape(-1,1)\n",
    "X_train, X_test, y_train, y_test = train_test_split(X_reg, y, test_size=0.2, random_state=42)\n",
    "\n",
    "lm = LinearRegression()\n",
    "model = lm.fit(X_train, y_train)\n",
    "\n",
    "predictions = lm.predict(X_test)\n",
    "score = model.score(X_test, y_test)\n",
    "\n",
    "# Plot the regression curve\n",
    "plt.figure(figsize=(6, 5))\n",
    "plt.scatter(X_train, y_train, c='cyan', edgecolors='m')\n",
    "plt.plot(X_test, predictions, 'b-.')\n",
    "\n",
    "# Print the R2 score: the percentage of explained variance of the predictions\n",
    "print('R² score of the model:', score)\n",
    "plt.title('Linear Regression')\n",
    "plt.show()"
   ]
  },
  {
   "cell_type": "markdown",
   "metadata": {},
   "source": [
    "Not the best result! \n",
    "\n",
    "### TODO: Try using feature transformation and other scikit learn regression \n",
    "\n",
    "Options to build features and test:\n",
    "1. Polynomial features\n",
    "2. Use pipeline method to build features and test systematically\n",
    "\n",
    "Reference: \n",
    "1. https://scikit-learn.org/stable/modules/generated/sklearn.preprocessing.PolynomialFeatures.html\n",
    "2. https://www.jeremyjordan.me/polynomial-regression/"
   ]
  },
  {
   "cell_type": "code",
   "execution_count": 13,
   "metadata": {},
   "outputs": [
    {
     "data": {
      "text/plain": [
       "array([[1.00000e+00, 0.00000e+00, 0.00000e+00],\n",
       "       [1.00000e+00, 1.01000e-02, 1.02010e-04],\n",
       "       [1.00000e+00, 2.02000e-02, 4.08040e-04],\n",
       "       [1.00000e+00, 3.03000e-02, 9.18090e-04],\n",
       "       [1.00000e+00, 4.04000e-02, 1.63216e-03],\n",
       "       [1.00000e+00, 5.05000e-02, 2.55025e-03],\n",
       "       [1.00000e+00, 6.06000e-02, 3.67236e-03],\n",
       "       [1.00000e+00, 7.07000e-02, 4.99849e-03],\n",
       "       [1.00000e+00, 8.08000e-02, 6.52864e-03],\n",
       "       [1.00000e+00, 9.09000e-02, 8.26281e-03],\n",
       "       [1.00000e+00, 1.01000e-01, 1.02010e-02],\n",
       "       [1.00000e+00, 1.11000e-01, 1.23210e-02],\n",
       "       [1.00000e+00, 1.21000e-01, 1.46410e-02],\n",
       "       [1.00000e+00, 1.31000e-01, 1.71610e-02],\n",
       "       [1.00000e+00, 1.41000e-01, 1.98810e-02],\n",
       "       [1.00000e+00, 1.52000e-01, 2.31040e-02],\n",
       "       [1.00000e+00, 1.62000e-01, 2.62440e-02],\n",
       "       [1.00000e+00, 1.72000e-01, 2.95840e-02],\n",
       "       [1.00000e+00, 1.82000e-01, 3.31240e-02],\n",
       "       [1.00000e+00, 1.92000e-01, 3.68640e-02],\n",
       "       [1.00000e+00, 2.02000e-01, 4.08040e-02],\n",
       "       [1.00000e+00, 2.12000e-01, 4.49440e-02],\n",
       "       [1.00000e+00, 2.22000e-01, 4.92840e-02],\n",
       "       [1.00000e+00, 2.32000e-01, 5.38240e-02],\n",
       "       [1.00000e+00, 2.42000e-01, 5.85640e-02],\n",
       "       [1.00000e+00, 2.53000e-01, 6.40090e-02],\n",
       "       [1.00000e+00, 2.63000e-01, 6.91690e-02],\n",
       "       [1.00000e+00, 2.73000e-01, 7.45290e-02],\n",
       "       [1.00000e+00, 2.83000e-01, 8.00890e-02],\n",
       "       [1.00000e+00, 2.93000e-01, 8.58490e-02],\n",
       "       [1.00000e+00, 3.03000e-01, 9.18090e-02],\n",
       "       [1.00000e+00, 3.13000e-01, 9.79690e-02],\n",
       "       [1.00000e+00, 3.23000e-01, 1.04329e-01],\n",
       "       [1.00000e+00, 3.33000e-01, 1.10889e-01],\n",
       "       [1.00000e+00, 3.43000e-01, 1.17649e-01],\n",
       "       [1.00000e+00, 3.54000e-01, 1.25316e-01],\n",
       "       [1.00000e+00, 3.64000e-01, 1.32496e-01],\n",
       "       [1.00000e+00, 3.74000e-01, 1.39876e-01],\n",
       "       [1.00000e+00, 3.84000e-01, 1.47456e-01],\n",
       "       [1.00000e+00, 3.94000e-01, 1.55236e-01],\n",
       "       [1.00000e+00, 4.04000e-01, 1.63216e-01],\n",
       "       [1.00000e+00, 4.14000e-01, 1.71396e-01],\n",
       "       [1.00000e+00, 4.24000e-01, 1.79776e-01],\n",
       "       [1.00000e+00, 4.34000e-01, 1.88356e-01],\n",
       "       [1.00000e+00, 4.44000e-01, 1.97136e-01],\n",
       "       [1.00000e+00, 4.55000e-01, 2.07025e-01],\n",
       "       [1.00000e+00, 4.65000e-01, 2.16225e-01],\n",
       "       [1.00000e+00, 4.75000e-01, 2.25625e-01],\n",
       "       [1.00000e+00, 4.85000e-01, 2.35225e-01],\n",
       "       [1.00000e+00, 4.95000e-01, 2.45025e-01],\n",
       "       [1.00000e+00, 5.05000e-01, 2.55025e-01],\n",
       "       [1.00000e+00, 5.15000e-01, 2.65225e-01],\n",
       "       [1.00000e+00, 5.25000e-01, 2.75625e-01],\n",
       "       [1.00000e+00, 5.35000e-01, 2.86225e-01],\n",
       "       [1.00000e+00, 5.45000e-01, 2.97025e-01],\n",
       "       [1.00000e+00, 5.56000e-01, 3.09136e-01],\n",
       "       [1.00000e+00, 5.66000e-01, 3.20356e-01],\n",
       "       [1.00000e+00, 5.76000e-01, 3.31776e-01],\n",
       "       [1.00000e+00, 5.86000e-01, 3.43396e-01],\n",
       "       [1.00000e+00, 5.96000e-01, 3.55216e-01],\n",
       "       [1.00000e+00, 6.06000e-01, 3.67236e-01],\n",
       "       [1.00000e+00, 6.16000e-01, 3.79456e-01],\n",
       "       [1.00000e+00, 6.26000e-01, 3.91876e-01],\n",
       "       [1.00000e+00, 6.36000e-01, 4.04496e-01],\n",
       "       [1.00000e+00, 6.46000e-01, 4.17316e-01],\n",
       "       [1.00000e+00, 6.57000e-01, 4.31649e-01],\n",
       "       [1.00000e+00, 6.67000e-01, 4.44889e-01],\n",
       "       [1.00000e+00, 6.77000e-01, 4.58329e-01],\n",
       "       [1.00000e+00, 6.87000e-01, 4.71969e-01],\n",
       "       [1.00000e+00, 6.97000e-01, 4.85809e-01],\n",
       "       [1.00000e+00, 7.07000e-01, 4.99849e-01],\n",
       "       [1.00000e+00, 7.17000e-01, 5.14089e-01],\n",
       "       [1.00000e+00, 7.27000e-01, 5.28529e-01],\n",
       "       [1.00000e+00, 7.37000e-01, 5.43169e-01],\n",
       "       [1.00000e+00, 7.47000e-01, 5.58009e-01],\n",
       "       [1.00000e+00, 7.58000e-01, 5.74564e-01],\n",
       "       [1.00000e+00, 7.68000e-01, 5.89824e-01],\n",
       "       [1.00000e+00, 7.78000e-01, 6.05284e-01],\n",
       "       [1.00000e+00, 7.88000e-01, 6.20944e-01],\n",
       "       [1.00000e+00, 7.98000e-01, 6.36804e-01],\n",
       "       [1.00000e+00, 8.08000e-01, 6.52864e-01],\n",
       "       [1.00000e+00, 8.18000e-01, 6.69124e-01],\n",
       "       [1.00000e+00, 8.28000e-01, 6.85584e-01],\n",
       "       [1.00000e+00, 8.38000e-01, 7.02244e-01],\n",
       "       [1.00000e+00, 8.48000e-01, 7.19104e-01],\n",
       "       [1.00000e+00, 8.59000e-01, 7.37881e-01],\n",
       "       [1.00000e+00, 8.69000e-01, 7.55161e-01],\n",
       "       [1.00000e+00, 8.79000e-01, 7.72641e-01],\n",
       "       [1.00000e+00, 8.89000e-01, 7.90321e-01],\n",
       "       [1.00000e+00, 8.99000e-01, 8.08201e-01],\n",
       "       [1.00000e+00, 9.09000e-01, 8.26281e-01],\n",
       "       [1.00000e+00, 9.19000e-01, 8.44561e-01],\n",
       "       [1.00000e+00, 9.29000e-01, 8.63041e-01],\n",
       "       [1.00000e+00, 9.39000e-01, 8.81721e-01],\n",
       "       [1.00000e+00, 9.49000e-01, 9.00601e-01],\n",
       "       [1.00000e+00, 9.60000e-01, 9.21600e-01],\n",
       "       [1.00000e+00, 9.70000e-01, 9.40900e-01],\n",
       "       [1.00000e+00, 9.80000e-01, 9.60400e-01],\n",
       "       [1.00000e+00, 9.90000e-01, 9.80100e-01],\n",
       "       [1.00000e+00, 1.00000e+00, 1.00000e+00]])"
      ]
     },
     "execution_count": 13,
     "metadata": {},
     "output_type": "execute_result"
    }
   ],
   "source": [
    "from sklearn.preprocessing import PolynomialFeatures\n",
    "\n",
    "poly = PolynomialFeatures(degree=2)\n",
    "poly.fit_transform(X_reg)\n"
   ]
  },
  {
   "cell_type": "code",
   "execution_count": null,
   "metadata": {},
   "outputs": [],
   "source": []
  },
  {
   "cell_type": "code",
   "execution_count": null,
   "metadata": {},
   "outputs": [],
   "source": []
  }
 ],
 "metadata": {
  "kernelspec": {
   "display_name": "Python 3",
   "language": "python",
   "name": "python3"
  },
  "language_info": {
   "codemirror_mode": {
    "name": "ipython",
    "version": 3
   },
   "file_extension": ".py",
   "mimetype": "text/x-python",
   "name": "python",
   "nbconvert_exporter": "python",
   "pygments_lexer": "ipython3",
   "version": "3.6.5"
  }
 },
 "nbformat": 4,
 "nbformat_minor": 2
}
