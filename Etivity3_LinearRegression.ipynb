{
 "cells": [
  {
   "cell_type": "markdown",
   "metadata": {},
   "source": [
    "### Etivity 3\n",
    "#### Student ID: 18200036\n",
    "#### Name: Brian Parle\n",
    "\n",
    "**Task 4  (CE6002)**\n",
    "- Copy your linear classification algorithm to the notebook Etivity3_LinearRegression.ipynb available in the git repository. Change your linear classification algorithm to make it suitable for linear regression. Use this to obtain the best possible fit to the data set Task4.csv. Your regression performance should improve if you add some new features.\n",
    "- Also, use an algorithm from the scikit-learn toolbox to see if you can do better. You should not add any other imports than those necessary for your chosen scikit-learn algorithm."
   ]
  },
  {
   "cell_type": "code",
   "execution_count": 66,
   "metadata": {},
   "outputs": [],
   "source": [
    "import matplotlib.pyplot as plt\n",
    "import numpy as np\n",
    "import pandas as pd\n",
    "import random\n",
    "import math\n",
    "from sklearn.model_selection import train_test_split\n",
    "from sklearn.linear_model import LogisticRegression\n",
    "from sklearn.linear_model import SGDRegressor\n",
    "from sklearn.datasets.samples_generator import make_circles\n",
    "from sklearn.model_selection import train_test_split\n",
    "from sklearn.metrics import mean_squared_error"
   ]
  },
  {
   "cell_type": "code",
   "execution_count": 6,
   "metadata": {},
   "outputs": [],
   "source": [
    "def bp_LinearClassification(X_in, y_in):\n",
    "    \"\"\"\n",
    "    Process the fit function and utilise sign to perform Linear Classification\n",
    "\n",
    "    Format X to be a vector of the input values x with x0=1 bias coordinate\n",
    "    Format y to be the target vector of inputs y\n",
    "\n",
    "    Calculate X+ = (XTX)-1 XT\n",
    "\n",
    "    Return x = X+ y\n",
    "    \"\"\"\n",
    "\n",
    "    print('NOTE: This function produces errors for some matrices - use bp_LinearClassification_simplified')\n",
    "    return\n",
    "    w = []\n",
    "\n",
    "    #reshape the input values\n",
    "    #X_in has samples in rows - we add a column of ones\n",
    "    X = X_in\n",
    "    y = y_in\n",
    "    print(X.shape)\n",
    "\n",
    "    ones = np.ones(X.shape[0]).reshape(-1,1)\n",
    "    print(ones)\n",
    "    X = np.concatenate((ones, X), axis=1)\n",
    "    print(X)\n",
    "    \n",
    "    XT = X.T\n",
    "    XTX= XT.dot(X)\n",
    "    XTX_inv = np.linalg.inv(XTX)\n",
    "    X_dagger= XTX_inv.dot(XT)\n",
    "    \n",
    "    #check arrays before calculation\n",
    "    print('XT\\n', XT)\n",
    "    print('XTX\\n', XTX)\n",
    "    print('XTX_inv\\n', XTX_inv)\n",
    "    print('y\\n',y)\n",
    "    print('X_dagger\\n',X_dagger)\n",
    "    #X_dagger = X_dagger.transpose()\n",
    "    print('X_dagger\\n',X_dagger)\n",
    "\n",
    "    w = X_dagger.dot(y)\n",
    "    #finished so return the the signs of the weights\n",
    "    return w\n",
    "\n",
    "def bp_LinearRegression(X, y):\n",
    "    X_inverse = np.linalg.pinv(X)\n",
    "    w = np.matmul(X_inverse, y)\n",
    "    return w\n",
    "\n",
    "def decision_boundary(weights, x_min, x_max):\n",
    "    # Return two points on the decision boundary\n",
    "    return [pointOnBoundary(x_min), pointOnBoundary(x_max)]\n",
    "\n",
    "def point_on_boundary(weights, x):\n",
    "    # Return the y-position on the boundary based on given x-position\n",
    "    return -(weights[0]+weights[1]*x)/weights[2]\n",
    "\n",
    "def calculate_lin_class_and_plot_data(X, y, experiment):\n",
    "\n",
    "    weights = bp_LinearRegression(X, y)\n",
    "\n",
    "    #apply classification\n",
    "    y_predict = np.sign(X.dot(weights))\n",
    "\n",
    "    plt.scatter(X[:,1], X[:,2], c=y)\n",
    "    minx = min(X[:,1:2])\n",
    "    maxx = max(X[:,1:2])\n",
    "    plt.plot([minx, maxx], [point_on_boundary(weights, minx), point_on_boundary(weights, maxx)])\n",
    "    plt.title(experiment + '- actual.')\n",
    "    plt.show()\n",
    "\n",
    "    plt.scatter(X[:,1], X[:,2], c=y_predict)\n",
    "    plt.title(experiment + '- predicted.')\n",
    "    plt.plot([minx, maxx], [point_on_boundary(weights, minx), point_on_boundary(weights, maxx)])\n",
    "    plt.show()\n",
    "       \n",
    "    return weights, y_predict\n",
    "\n",
    "\n",
    "def calculate_MSE(a, b):\n",
    "    #calculate the sum of square errors\n",
    "    sum_square_diff = 0\n",
    "    N = len(a)\n",
    "    for i in range(N):\n",
    "        sum_square_diff += (a[i] - b[i]) ** 2\n",
    "    square_error = sum_square_diff / N\n",
    "    return square_error\n",
    " "
   ]
  },
  {
   "cell_type": "code",
   "execution_count": 7,
   "metadata": {},
   "outputs": [
    {
     "data": {
      "text/plain": [
       "X    float64\n",
       "y    float64\n",
       "dtype: object"
      ]
     },
     "execution_count": 7,
     "metadata": {},
     "output_type": "execute_result"
    }
   ],
   "source": [
    "#import the data, setting the most appropriate datatype\n",
    "df = pd.read_csv(\"./task4.csv\")\n",
    "df.describe(include='all')\n",
    "df.dtypes"
   ]
  },
  {
   "cell_type": "code",
   "execution_count": 8,
   "metadata": {},
   "outputs": [
    {
     "data": {
      "text/html": [
       "<div>\n",
       "<style scoped>\n",
       "    .dataframe tbody tr th:only-of-type {\n",
       "        vertical-align: middle;\n",
       "    }\n",
       "\n",
       "    .dataframe tbody tr th {\n",
       "        vertical-align: top;\n",
       "    }\n",
       "\n",
       "    .dataframe thead th {\n",
       "        text-align: right;\n",
       "    }\n",
       "</style>\n",
       "<table border=\"1\" class=\"dataframe\">\n",
       "  <thead>\n",
       "    <tr style=\"text-align: right;\">\n",
       "      <th></th>\n",
       "      <th>X</th>\n",
       "      <th>y</th>\n",
       "    </tr>\n",
       "  </thead>\n",
       "  <tbody>\n",
       "    <tr>\n",
       "      <th>0</th>\n",
       "      <td>0.0000</td>\n",
       "      <td>-0.3080</td>\n",
       "    </tr>\n",
       "    <tr>\n",
       "      <th>1</th>\n",
       "      <td>0.0101</td>\n",
       "      <td>-0.3470</td>\n",
       "    </tr>\n",
       "    <tr>\n",
       "      <th>2</th>\n",
       "      <td>0.0202</td>\n",
       "      <td>-0.0937</td>\n",
       "    </tr>\n",
       "    <tr>\n",
       "      <th>3</th>\n",
       "      <td>0.0303</td>\n",
       "      <td>-0.2860</td>\n",
       "    </tr>\n",
       "    <tr>\n",
       "      <th>4</th>\n",
       "      <td>0.0404</td>\n",
       "      <td>-0.0927</td>\n",
       "    </tr>\n",
       "    <tr>\n",
       "      <th>5</th>\n",
       "      <td>0.0505</td>\n",
       "      <td>-0.0335</td>\n",
       "    </tr>\n",
       "    <tr>\n",
       "      <th>6</th>\n",
       "      <td>0.0606</td>\n",
       "      <td>-0.0472</td>\n",
       "    </tr>\n",
       "    <tr>\n",
       "      <th>7</th>\n",
       "      <td>0.0707</td>\n",
       "      <td>-0.0789</td>\n",
       "    </tr>\n",
       "    <tr>\n",
       "      <th>8</th>\n",
       "      <td>0.0808</td>\n",
       "      <td>0.1460</td>\n",
       "    </tr>\n",
       "    <tr>\n",
       "      <th>9</th>\n",
       "      <td>0.0909</td>\n",
       "      <td>0.2380</td>\n",
       "    </tr>\n",
       "  </tbody>\n",
       "</table>\n",
       "</div>"
      ],
      "text/plain": [
       "        X       y\n",
       "0  0.0000 -0.3080\n",
       "1  0.0101 -0.3470\n",
       "2  0.0202 -0.0937\n",
       "3  0.0303 -0.2860\n",
       "4  0.0404 -0.0927\n",
       "5  0.0505 -0.0335\n",
       "6  0.0606 -0.0472\n",
       "7  0.0707 -0.0789\n",
       "8  0.0808  0.1460\n",
       "9  0.0909  0.2380"
      ]
     },
     "execution_count": 8,
     "metadata": {},
     "output_type": "execute_result"
    }
   ],
   "source": [
    "df.head(10)"
   ]
  },
  {
   "cell_type": "code",
   "execution_count": 39,
   "metadata": {},
   "outputs": [],
   "source": [
    "X = np.array(df['X'])\n",
    "y = np.array(df['y'])\n",
    "\n",
    "X = X.reshape(-1,1)\n",
    "y = y.reshape(-1,1)\n",
    "\n",
    "#Add a bias column\n",
    "ones = np.ones(X.shape[0]).reshape(-1,1)\n",
    "X_bias = np.concatenate((ones, X), axis=1)\n",
    "\n",
    "#split into train and test sets (automatically shuffles the data)\n",
    "X_train, X_test, y_train, y_test = train_test_split(X_bias, y, test_size=0.3, random_state=39)\n"
   ]
  },
  {
   "cell_type": "code",
   "execution_count": 54,
   "metadata": {},
   "outputs": [
    {
     "name": "stdout",
     "output_type": "stream",
     "text": [
      "Ein =  [0.11057765]\n",
      "Eout =  [0.08906311]\n"
     ]
    }
   ],
   "source": [
    "#Train the Linear Regression Model\n",
    "weights = bp_LinearRegression(X_train, y_train)\n",
    "\n",
    "#Calculate Ein\n",
    "y_train_predict = X_train.dot(weights)\n",
    "Ein = calculate_MSE(y_train, y_train_predict)\n",
    "print ('Ein = ',Ein)\n",
    "\n",
    "#Test the model and calculate Eout\n",
    "y_test_predict = X_test.dot(weights)\n",
    "#Calculate Eout\n",
    "Eout = calculate_MSE(y_test, y_test_predict)\n",
    "print ('Eout = ',Eout)\n"
   ]
  },
  {
   "cell_type": "code",
   "execution_count": 56,
   "metadata": {},
   "outputs": [],
   "source": [
    "#Try to improve the model by adding features: X^2\n",
    "X_bias_2 = np.insert(X_bias, 2, 0, axis=1)\n",
    "X_bias_2[:,2] = X_bias_2[:,1] * X_bias_2[:,1]\n",
    "#print(X_bias[0:10,:])\n",
    "#print(X_bias_2[0:10,:])\n",
    "\n",
    "#split into train and test sets (automatically shuffles the data)\n",
    "X_train_2, X_test_2, y_train_2, y_test_2 = train_test_split(X_bias_2, y, test_size=0.3, random_state=39)\n"
   ]
  },
  {
   "cell_type": "code",
   "execution_count": 59,
   "metadata": {},
   "outputs": [
    {
     "name": "stdout",
     "output_type": "stream",
     "text": [
      "Ein_2 =  [0.00502029]\n",
      "Eout_2 =  [0.00496633]\n"
     ]
    }
   ],
   "source": [
    "#Train the Linear Regression Model\n",
    "weights = bp_LinearRegression(X_train_2, y_train_2)\n",
    "\n",
    "#Calculate Ein\n",
    "y_train_2_predict = X_train_2.dot(weights)\n",
    "Ein_2 = calculate_MSE(y_train_2, y_train_2_predict)\n",
    "print ('Ein_2 = ',Ein)\n",
    "\n",
    "#Test the model and calculate Eout\n",
    "y_test_2_predict = X_test_2.dot(weights)\n",
    "#Calculate Eout\n",
    "Eout_2 = calculate_MSE(y_test_2, y_test_2_predict)\n",
    "print ('Eout_2 = ',Eout)"
   ]
  },
  {
   "cell_type": "code",
   "execution_count": 63,
   "metadata": {},
   "outputs": [
    {
     "data": {
      "image/png": "[encoded data removed]",
      "text/plain": [
       "<Figure size 432x288 with 1 Axes>"
      ]
     },
     "metadata": {},
     "output_type": "display_data"
    },
    {
     "data": {
      "image/png": "[encoded data removed]",
      "text/plain": [
       "<Figure size 432x288 with 1 Axes>"
      ]
     },
     "metadata": {},
     "output_type": "display_data"
    }
   ],
   "source": [
    "plt.title('Actual v Predict')\n",
    "plt.scatter(y_test, y_test_predict)\n",
    "plt.plot(np.arange(y_test_predict.max()))\n",
    "plt.show()\n",
    "plt.title('Actual v Predict 2')\n",
    "plt.scatter(y_test_2, y_test_2_predict)\n",
    "plt.plot(np.arange(y_test_2_predict.max()))\n",
    "plt.show()"
   ]
  },
  {
   "cell_type": "code",
   "execution_count": 67,
   "metadata": {},
   "outputs": [
    {
     "name": "stdout",
     "output_type": "stream",
     "text": [
      "Overall score = 16.1%\n",
      "feature importances:\n",
      " [ 0.16515769  1.1079041  -0.38259734]\n"
     ]
    },
    {
     "name": "stderr",
     "output_type": "stream",
     "text": [
      "/Users/brianparle/anaconda3/lib/python3.6/site-packages/sklearn/utils/validation.py:578: DataConversionWarning: A column-vector y was passed when a 1d array was expected. Please change the shape of y to (n_samples, ), for example using ravel().\n",
      "  y = column_or_1d(y, warn=True)\n"
     ]
    }
   ],
   "source": [
    "#Compare performance with SGDRegressor (with added features)\n",
    "\n",
    "#Seemingly SGD prefers tru matrix inputs\n",
    "\n",
    "my_sgd = SGDRegressor(alpha=0.0001, learning_rate='invscaling', loss='squared_loss', \\\n",
    "                      max_iter=1000, random_state=None, average=False, penalty=None)\n",
    "my_sgd.fit(X_train_2, y_train_2)\n",
    "\n",
    "#score the model using the test dataset\n",
    "sgd_score = my_sgd.score(X_test_2, y_test_2)\n",
    "print('Overall score = {}%'.format(round(sgd_score * 100, 2)))\n",
    "print('feature importances:\\n', my_sgd.coef_)"
   ]
  },
  {
   "cell_type": "code",
   "execution_count": null,
   "metadata": {},
   "outputs": [],
   "source": []
  }
 ],
 "metadata": {
  "kernelspec": {
   "display_name": "Python 3",
   "language": "python",
   "name": "python3"
  },
  "language_info": {
   "codemirror_mode": {
    "name": "ipython",
    "version": 3
   },
   "file_extension": ".py",
   "mimetype": "text/x-python",
   "name": "python",
   "nbconvert_exporter": "python",
   "pygments_lexer": "ipython3",
   "version": "3.6.5"
  }
 },
 "nbformat": 4,
 "nbformat_minor": 2
}
