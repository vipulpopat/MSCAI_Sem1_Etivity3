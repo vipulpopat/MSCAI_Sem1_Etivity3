{
 "cells": [
  {
   "cell_type": "markdown",
   "metadata": {},
   "source": [
    "### Student Name: Chelliah Kanthanathan\n",
    "### Student ID: 18263003"
   ]
  },
  {
   "cell_type": "markdown",
   "metadata": {},
   "source": [
    "### TASK 4 - Copy your linear classification algorithm to the notebook Etivity3_LinearRegression.ipynb available in the git repository. Change your linear classification algorithm to make it suitable for linear regression. Use this to obtain the best possible fit to the data set Task4.csv. "
   ]
  },
  {
   "cell_type": "code",
   "execution_count": 28,
   "metadata": {},
   "outputs": [],
   "source": [
    "import matplotlib.pyplot as plt\n",
    "import numpy as np\n",
    "import pandas as pd\n",
    "import random\n",
    "import math\n",
    "from sklearn.metrics import mean_squared_error\n",
    "from sklearn.linear_model import LinearRegression\n",
    "from sklearn.model_selection import train_test_split"
   ]
  },
  {
   "cell_type": "code",
   "execution_count": 29,
   "metadata": {},
   "outputs": [
    {
     "data": {
      "text/html": [
       "<div>\n",
       "<style scoped>\n",
       "    .dataframe tbody tr th:only-of-type {\n",
       "        vertical-align: middle;\n",
       "    }\n",
       "\n",
       "    .dataframe tbody tr th {\n",
       "        vertical-align: top;\n",
       "    }\n",
       "\n",
       "    .dataframe thead th {\n",
       "        text-align: right;\n",
       "    }\n",
       "</style>\n",
       "<table border=\"1\" class=\"dataframe\">\n",
       "  <thead>\n",
       "    <tr style=\"text-align: right;\">\n",
       "      <th></th>\n",
       "      <th>X</th>\n",
       "      <th>y</th>\n",
       "    </tr>\n",
       "  </thead>\n",
       "  <tbody>\n",
       "    <tr>\n",
       "      <th>0</th>\n",
       "      <td>0.0000</td>\n",
       "      <td>-0.3080</td>\n",
       "    </tr>\n",
       "    <tr>\n",
       "      <th>1</th>\n",
       "      <td>0.0101</td>\n",
       "      <td>-0.3470</td>\n",
       "    </tr>\n",
       "    <tr>\n",
       "      <th>2</th>\n",
       "      <td>0.0202</td>\n",
       "      <td>-0.0937</td>\n",
       "    </tr>\n",
       "    <tr>\n",
       "      <th>3</th>\n",
       "      <td>0.0303</td>\n",
       "      <td>-0.2860</td>\n",
       "    </tr>\n",
       "    <tr>\n",
       "      <th>4</th>\n",
       "      <td>0.0404</td>\n",
       "      <td>-0.0927</td>\n",
       "    </tr>\n",
       "  </tbody>\n",
       "</table>\n",
       "</div>"
      ],
      "text/plain": [
       "        X       y\n",
       "0  0.0000 -0.3080\n",
       "1  0.0101 -0.3470\n",
       "2  0.0202 -0.0937\n",
       "3  0.0303 -0.2860\n",
       "4  0.0404 -0.0927"
      ]
     },
     "execution_count": 29,
     "metadata": {},
     "output_type": "execute_result"
    }
   ],
   "source": [
    "df = pd.read_csv('./Task4.csv')\n",
    "\n",
    "# Print the first five rows\n",
    "df.head(5)"
   ]
  },
  {
   "cell_type": "code",
   "execution_count": 30,
   "metadata": {},
   "outputs": [
    {
     "name": "stdout",
     "output_type": "stream",
     "text": [
      "(100,)\n"
     ]
    }
   ],
   "source": [
    "X = df['X'].values\n",
    "print (X.shape)"
   ]
  },
  {
   "cell_type": "code",
   "execution_count": 31,
   "metadata": {},
   "outputs": [
    {
     "name": "stdout",
     "output_type": "stream",
     "text": [
      "(100,)\n"
     ]
    }
   ],
   "source": [
    "y = df['y'].values\n",
    "print (y.shape)"
   ]
  },
  {
   "cell_type": "code",
   "execution_count": 32,
   "metadata": {},
   "outputs": [
    {
     "data": {
      "text/plain": [
       "<matplotlib.collections.PathCollection at 0x26f0597e198>"
      ]
     },
     "execution_count": 32,
     "metadata": {},
     "output_type": "execute_result"
    },
    {
     "data": {
      "image/png": "[encoded data removed]",
      "text/plain": [
       "<Figure size 432x288 with 1 Axes>"
      ]
     },
     "metadata": {
      "needs_background": "light"
     },
     "output_type": "display_data"
    }
   ],
   "source": [
    "plt.scatter(X, y)"
   ]
  },
  {
   "cell_type": "markdown",
   "metadata": {},
   "source": [
    "### Using In House Linear Regression\n",
    "\n",
    "### Linear relationship can be defined as y = mX + b where as m = slope and b = intercept\n",
    "\n",
    "#### As the data in Task4 CSV files is simple we can use ordinary least square method to find the slope and intercept\n",
    "\n",
    "####  m = (X - X mean) * (y - y mean) / (X - X mean)^2\n",
    "\n",
    "####  b = y mean - m * X mean"
   ]
  },
  {
   "cell_type": "code",
   "execution_count": 33,
   "metadata": {},
   "outputs": [],
   "source": [
    "# Calculate the Mean\n",
    "X_mean = np.mean(X)\n",
    "y_mean = np.mean(y)"
   ]
  },
  {
   "cell_type": "code",
   "execution_count": 34,
   "metadata": {},
   "outputs": [
    {
     "name": "stdout",
     "output_type": "stream",
     "text": [
      "Slope: 0.7894662979344387\n",
      "Intercept: 0.3916747983642703\n"
     ]
    }
   ],
   "source": [
    "# Find the coefficients \n",
    "total_data_length = len(X)\n",
    "deviation1 = 0\n",
    "deviation2 = 0\n",
    "for i in range (total_data_length):\n",
    "    deviation1 += (X[i] - X_mean) * (y[i] - y_mean)\n",
    "    deviation2 += (X[i] - X_mean) ** 2\n",
    "\n",
    "coefficients_slope = deviation1 / deviation2\n",
    "coefficients_intercept = y_mean - (coefficients_slope * X_mean)\n",
    "\n",
    "print (\"Slope:\", coefficients_slope)\n",
    "print (\"Intercept:\", coefficients_intercept)"
   ]
  },
  {
   "cell_type": "code",
   "execution_count": 35,
   "metadata": {},
   "outputs": [
    {
     "data": {
      "image/png": "[encoded data removed]",
      "text/plain": [
       "<Figure size 432x288 with 1 Axes>"
      ]
     },
     "metadata": {
      "needs_background": "light"
     },
     "output_type": "display_data"
    }
   ],
   "source": [
    "# Plot the data and best fit line\n",
    "X_min = np.min(X)\n",
    "X_max = np.max(X)\n",
    "X_fit = np.linspace(X_min, X_max, 100)\n",
    "y_fit = coefficients_slope*X_fit + coefficients_intercept\n",
    "\n",
    "plt.scatter(X, y )\n",
    "plt.plot(X_fit, y_fit,'r',linewidth=3)\n",
    "plt.show()"
   ]
  },
  {
   "cell_type": "code",
   "execution_count": 36,
   "metadata": {},
   "outputs": [
    {
     "name": "stdout",
     "output_type": "stream",
     "text": [
      "RMSE - In House Linear Regression: 0.3202850814151861\n"
     ]
    }
   ],
   "source": [
    "mse = mean_squared_error(y, y_fit)\n",
    "rmse = np.sqrt(mse)\n",
    "print (\"RMSE - In House Linear Regression:\", rmse)"
   ]
  },
  {
   "cell_type": "markdown",
   "metadata": {},
   "source": [
    "### Using Scikit Learn Linear Regression"
   ]
  },
  {
   "cell_type": "code",
   "execution_count": 37,
   "metadata": {},
   "outputs": [
    {
     "name": "stdout",
     "output_type": "stream",
     "text": [
      "Slope: [0.7894663]\n",
      "Intercept: 0.3916747983642704\n"
     ]
    }
   ],
   "source": [
    "model_linear_reg = LinearRegression()\n",
    "X=X.reshape((total_data_length,1))\n",
    "model_linear_reg.fit(X,y)\n",
    "y_pred = model_linear_reg.predict(X)\n",
    "\n",
    "print (\"Slope:\", model_linear_reg.coef_)\n",
    "print (\"Intercept:\", model_linear_reg.intercept_)"
   ]
  },
  {
   "cell_type": "code",
   "execution_count": 38,
   "metadata": {},
   "outputs": [
    {
     "name": "stdout",
     "output_type": "stream",
     "text": [
      "RMSE - Scikit Learn Linear Regression: 0.32027888915749275\n"
     ]
    }
   ],
   "source": [
    "mse = mean_squared_error(y, y_pred)\n",
    "rmse = np.sqrt(mse)\n",
    "print (\"RMSE - Scikit Learn Linear Regression:\", rmse)"
   ]
  },
  {
   "cell_type": "markdown",
   "metadata": {},
   "source": [
    "### The RMSE error for both the In House Linear Regression and Scikit leanr Linear Regression is almost same\n",
    "\n",
    "### The best fit regression line (in RED) above does not fit all the data. It could be improved by transforming the data and adding new features"
   ]
  },
  {
   "cell_type": "markdown",
   "metadata": {},
   "source": [
    "### Transform Data and add new feartures to improve the performance"
   ]
  },
  {
   "cell_type": "code",
   "execution_count": 50,
   "metadata": {},
   "outputs": [
    {
     "name": "stdout",
     "output_type": "stream",
     "text": [
      "(100, 5)\n",
      "(100, 5)\n"
     ]
    }
   ],
   "source": [
    "from sklearn.preprocessing import PolynomialFeatures\n",
    "poly = PolynomialFeatures(5, include_bias=False)\n",
    "X_transformed = poly.fit_transform(X)\n",
    "y=y.reshape((total_data_length,1))\n",
    "y_transformed = poly.fit_transform(y)\n",
    "print (X_transformed.shape)\n",
    "print (y_transformed.shape)"
   ]
  },
  {
   "cell_type": "code",
   "execution_count": 51,
   "metadata": {},
   "outputs": [
    {
     "data": {
      "text/plain": [
       "<matplotlib.collections.PathCollection at 0x26f05efdb70>"
      ]
     },
     "execution_count": 51,
     "metadata": {},
     "output_type": "execute_result"
    },
    {
     "data": {
      "image/png": "[encoded data removed]",
      "text/plain": [
       "<Figure size 432x288 with 1 Axes>"
      ]
     },
     "metadata": {
      "needs_background": "light"
     },
     "output_type": "display_data"
    }
   ],
   "source": [
    "plt.scatter(X_transformed[:,0], X_transformed[:,1])"
   ]
  },
  {
   "cell_type": "code",
   "execution_count": 52,
   "metadata": {},
   "outputs": [
    {
     "data": {
      "text/plain": [
       "<matplotlib.collections.PathCollection at 0x26f05f56898>"
      ]
     },
     "execution_count": 52,
     "metadata": {},
     "output_type": "execute_result"
    },
    {
     "data": {
      "image/png": "[encoded data removed]",
      "text/plain": [
       "<Figure size 432x288 with 1 Axes>"
      ]
     },
     "metadata": {
      "needs_background": "light"
     },
     "output_type": "display_data"
    }
   ],
   "source": [
    "plt.scatter(y_transformed[:,0], y_transformed[:,1])"
   ]
  },
  {
   "cell_type": "code",
   "execution_count": 53,
   "metadata": {},
   "outputs": [],
   "source": [
    "# Calculate the Mean\n",
    "X_mean = np.mean(X_transformed)\n",
    "y_mean = np.mean(y_transformed)"
   ]
  },
  {
   "cell_type": "code",
   "execution_count": 54,
   "metadata": {},
   "outputs": [
    {
     "name": "stdout",
     "output_type": "stream",
     "text": [
      "Slope: [ 0.48490882  0.36606068  0.07109379 -0.29637439 -0.6741176 ]\n",
      "Intercept: [0.66849905 0.70321614 0.78937978 0.896722   1.00706568]\n"
     ]
    }
   ],
   "source": [
    "# Find the coefficients \n",
    "total_data_length = len(X_transformed)\n",
    "deviation1 = 0\n",
    "deviation2 = 0\n",
    "for i in range (total_data_length):\n",
    "    deviation1 += (X_transformed[i] - X_mean) * (y_transformed[i] - y_mean)\n",
    "    deviation2 += (X_transformed[i] - X_mean) ** 2\n",
    "\n",
    "coefficients_slope = deviation1 / deviation2\n",
    "coefficients_intercept = y_mean - (coefficients_slope * X_mean)\n",
    "\n",
    "print (\"Slope:\", coefficients_slope)\n",
    "print (\"Intercept:\", coefficients_intercept)"
   ]
  },
  {
   "cell_type": "code",
   "execution_count": 55,
   "metadata": {},
   "outputs": [
    {
     "data": {
      "image/png": "[encoded data removed]",
      "text/plain": [
       "<Figure size 432x288 with 1 Axes>"
      ]
     },
     "metadata": {
      "needs_background": "light"
     },
     "output_type": "display_data"
    }
   ],
   "source": [
    "# Plot the data and best fit line\n",
    "X_min = np.min(X_transformed)\n",
    "X_max = np.max(X_transformed)\n",
    "X_fit = np.linspace(X_min, X_max, 100)\n",
    "y_fit = ((coefficients_slope[0]*X_fit) + (coefficients_slope[1]*X_fit)) + (coefficients_intercept[0]+coefficients_intercept[1])\n",
    "\n",
    "plt.scatter(X_transformed[:,0], X_transformed[:,1])\n",
    "plt.show()"
   ]
  },
  {
   "cell_type": "markdown",
   "metadata": {},
   "source": [
    "### Using polynomial transformation attempted to transform the data to find the best fit line. With above transformation the original data transformed in a way that helps to find the best fit line"
   ]
  }
 ],
 "metadata": {
  "kernelspec": {
   "display_name": "Python 3",
   "language": "python",
   "name": "python3"
  },
  "language_info": {
   "codemirror_mode": {
    "name": "ipython",
    "version": 3
   },
   "file_extension": ".py",
   "mimetype": "text/x-python",
   "name": "python",
   "nbconvert_exporter": "python",
   "pygments_lexer": "ipython3",
   "version": "3.7.1"
  }
 },
 "nbformat": 4,
 "nbformat_minor": 2
}
