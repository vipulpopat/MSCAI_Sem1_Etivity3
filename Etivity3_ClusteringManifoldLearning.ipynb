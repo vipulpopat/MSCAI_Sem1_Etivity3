{
 "cells": [
  {
   "cell_type": "markdown",
   "metadata": {},
   "source": [
    "# E-tivity 3: Clustering and Manifold Learning"
   ]
  },
  {
   "cell_type": "markdown",
   "metadata": {},
   "source": [
    "Use this notebook to complete Tasks 1 and 2 in E-tivity3."
   ]
  },
  {
   "cell_type": "markdown",
   "metadata": {},
   "source": [
    "### Import Python Modules"
   ]
  },
  {
   "cell_type": "code",
   "execution_count": 1,
   "metadata": {},
   "outputs": [],
   "source": [
    "import pandas as pd\n",
    "import numpy as np\n",
    "import matplotlib.pyplot as plt\n",
    "\n",
    "from sklearn import manifold\n",
    "from sklearn import cluster\n",
    "from sklearn import preprocessing"
   ]
  },
  {
   "cell_type": "code",
   "execution_count": 2,
   "metadata": {},
   "outputs": [
    {
     "name": "stdout",
     "output_type": "stream",
     "text": [
      "\n",
      "df.describe():\n",
      "        ApplicantIncome  CoapplicantIncome  LoanAmount  Loan_Amount_Term  \\\n",
      "count       332.000000         332.000000  332.000000        332.000000   \n",
      "mean       5201.093373        1495.508795  140.882530        341.710843   \n",
      "std        4584.815491        1982.742932   75.544237         61.651497   \n",
      "min         645.000000           0.000000   17.000000         60.000000   \n",
      "25%        2912.750000           0.000000  100.000000        360.000000   \n",
      "50%        3858.500000        1211.500000  128.000000        360.000000   \n",
      "75%        5818.250000        2250.000000  162.000000        360.000000   \n",
      "max       39999.000000       20000.000000  600.000000        480.000000   \n",
      "\n",
      "       Credit_History  \n",
      "count      332.000000  \n",
      "mean         0.978916  \n",
      "std          0.143882  \n",
      "min          0.000000  \n",
      "25%          1.000000  \n",
      "50%          1.000000  \n",
      "75%          1.000000  \n",
      "max          1.000000  \n",
      "\n",
      "Data as np array:\n",
      " [[2.483e+03 2.466e+03 9.000e+01 1.800e+02 0.000e+00]\n",
      " [4.917e+03 0.000e+00 1.300e+02 3.600e+02 0.000e+00]\n",
      " [4.106e+03 0.000e+00 4.000e+01 1.800e+02 1.000e+00]\n",
      " ...\n",
      " [1.075e+04 0.000e+00 3.120e+02 3.600e+02 1.000e+00]\n",
      " [5.955e+03 5.625e+03 3.150e+02 3.600e+02 1.000e+00]\n",
      " [6.133e+03 3.906e+03 3.240e+02 3.600e+02 1.000e+00]]\n",
      "\n",
      "Data shape:\n",
      " (332, 5)\n",
      "\n",
      "Scaled Data:\n",
      " [[0.04670427 0.1233     0.12521441 0.28571429 0.        ]\n",
      " [0.10855313 0.         0.19382504 0.71428571 0.        ]\n",
      " [0.08794532 0.         0.03945111 0.28571429 1.        ]\n",
      " ...\n",
      " [0.25677187 0.         0.50600343 0.71428571 1.        ]\n",
      " [0.13492911 0.28125    0.51114923 0.71428571 1.        ]\n",
      " [0.13945215 0.1953     0.52658662 0.71428571 1.        ]]\n"
     ]
    }
   ],
   "source": [
    "# Load the data\n",
    "df = pd.read_csv(\"loans_dataset_et3.csv\")  \n",
    "print(\"\\ndf.describe():\\n\", df.describe())\n",
    "\n",
    "# Convert data to np array\n",
    "df_data = np.array(df.values, dtype=float)\n",
    "print(\"\\nData as np array:\\n\", df_data)\n",
    "print(\"\\nData shape:\\n\", df_data.shape)\n",
    "\n",
    "# Scale the data\n",
    "min_max_scaler = preprocessing.MinMaxScaler()\n",
    "df_data = min_max_scaler.fit_transform(df_data)\n",
    "print(\"\\nScaled Data:\\n\", df_data)"
   ]
  },
  {
   "cell_type": "code",
   "execution_count": 3,
   "metadata": {},
   "outputs": [],
   "source": [
    "# Scatter plot\n",
    "colors = np.array(['orange', 'blue', 'lime', 'blue', 'khaki', 'pink', 'green', 'purple'])\n",
    "\n",
    "# points - a 2D array of (x,y) coordinates of data points\n",
    "# labels - an array of numeric labels in the interval [0..k-1], one for each point\n",
    "# centers - a 2D array of (x, y) coordinates of cluster centers\n",
    "# title - title of the plot\n",
    "\n",
    "def clustering_scatterplot(points, labels, centers, title):\n",
    "    # plot the examples, i.e. the data points\n",
    "    \n",
    "    n_clusters = np.unique(labels).size\n",
    "    for i in range(n_clusters):\n",
    "        h = plt.scatter(points[labels==i,0],\n",
    "                        points[labels==i,1], \n",
    "                        c=colors[i%colors.size],\n",
    "                        label = 'cluster '+str(i))\n",
    "\n",
    "    # plot the centers of the clusters\n",
    "    if centers is not None:\n",
    "        plt.scatter(centers[:,0], centers[:,1], c='r', marker='*', s=500)\n",
    "\n",
    "    _ = plt.title(title)\n",
    "    _ = plt.legend()\n",
    "    _ = plt.xlabel('x')\n",
    "    _ = plt.ylabel('y')"
   ]
  },
  {
   "cell_type": "code",
   "execution_count": 4,
   "metadata": {},
   "outputs": [
    {
     "name": "stdout",
     "output_type": "stream",
     "text": [
      "\n",
      "clustered_data_sklearn:\n",
      " KMeans(algorithm='auto', copy_x=True, init='k-means++', max_iter=300,\n",
      "    n_clusters=3, n_init=10, n_jobs=1, precompute_distances='auto',\n",
      "    random_state=None, tol=0.0001, verbose=0)\n",
      "\n",
      "clustered_data_sklearn.cluster_centers_:\n",
      " [[ 2.16213273e-01  1.04907143e-01  3.24675325e-01  5.91836735e-01\n",
      "  -1.11022302e-16]\n",
      " [ 1.13528571e-01  7.50691729e-02  2.14111696e-01  7.16222760e-01\n",
      "   1.00000000e+00]\n",
      " [ 1.14396673e-01  6.48563333e-02  1.70383076e-01  2.41904762e-01\n",
      "   1.00000000e+00]]\n",
      "\n",
      "df_data_and_centers:\n",
      " [[ 4.67042740e-02  1.23300000e-01  1.25214408e-01  2.85714286e-01\n",
      "   0.00000000e+00]\n",
      " [ 1.08553133e-01  0.00000000e+00  1.93825043e-01  7.14285714e-01\n",
      "   0.00000000e+00]\n",
      " [ 8.79453169e-02  0.00000000e+00  3.94511149e-02  2.85714286e-01\n",
      "   1.00000000e+00]\n",
      " ...\n",
      " [ 2.16213273e-01  1.04907143e-01  3.24675325e-01  5.91836735e-01\n",
      "  -1.11022302e-16]\n",
      " [ 1.13528571e-01  7.50691729e-02  2.14111696e-01  7.16222760e-01\n",
      "   1.00000000e+00]\n",
      " [ 1.14396673e-01  6.48563333e-02  1.70383076e-01  2.41904762e-01\n",
      "   1.00000000e+00]]\n",
      "\n",
      "df_data_and_centers.shape():\n",
      " (335, 5)\n"
     ]
    }
   ],
   "source": [
    "# Apply KMeans\n",
    "k = 3\n",
    "clustered_data_sklearn = cluster.KMeans(n_clusters=k, n_init=10, max_iter=300).fit(df_data)\n",
    "print(\"\\nclustered_data_sklearn:\\n\", clustered_data_sklearn)\n",
    "print(\"\\nclustered_data_sklearn.cluster_centers_:\\n\", clustered_data_sklearn.cluster_centers_)\n",
    "\n",
    "# Create new array composed of data + k centers \n",
    "df_data_and_centers = np.r_[df_data,clustered_data_sklearn.cluster_centers_]\n",
    "print(\"\\ndf_data_and_centers:\\n\", df_data_and_centers)\n",
    "print(\"\\ndf_data_and_centers.shape():\\n\", df_data_and_centers.shape)"
   ]
  },
  {
   "cell_type": "code",
   "execution_count": 10,
   "metadata": {},
   "outputs": [
    {
     "data": {
      "image/png": "[encoded data removed]",
      "text/plain": [
       "<Figure size 432x288 with 1 Axes>"
      ]
     },
     "metadata": {
      "needs_background": "light"
     },
     "output_type": "display_data"
    }
   ],
   "source": [
    "# Apply MDS to generate 2D data\n",
    "XYcoordinates = manifold.MDS(n_components=2).fit_transform(df_data_and_centers)\n",
    "\n",
    "# Plot\n",
    "clustering_scatterplot(points=XYcoordinates[:-k,:], \n",
    "                       labels=clustered_data_sklearn.labels_, \n",
    "                       centers=XYcoordinates[-k:,:], \n",
    "                       title='MDS')\n"
   ]
  },
  {
   "cell_type": "code",
   "execution_count": 6,
   "metadata": {},
   "outputs": [
    {
     "data": {
      "image/png": "[encoded data removed]",
      "text/plain": [
       "<Figure size 432x288 with 1 Axes>"
      ]
     },
     "metadata": {
      "needs_background": "light"
     },
     "output_type": "display_data"
    }
   ],
   "source": [
    "# project both th data and the k-Means cluster centers to a 2D space\n",
    "XYcoordinates = manifold.TSNE(n_components=2).fit_transform(df_data_and_centers)\n",
    "clustering_scatterplot(points=XYcoordinates[:-k,:], \n",
    "                       labels=clustered_data_sklearn.labels_,\n",
    "                       centers=XYcoordinates[-k:,:], \n",
    "                       title='TSNE')"
   ]
  },
  {
   "cell_type": "code",
   "execution_count": 7,
   "metadata": {},
   "outputs": [
    {
     "name": "stdout",
     "output_type": "stream",
     "text": [
      "\n",
      "head:\n",
      "    ApplicantIncome  CoapplicantIncome  LoanAmount  Loan_Amount_Term  \\\n",
      "0             2483             2466.0          90               180   \n",
      "1             4917                0.0         130               360   \n",
      "2             4106                0.0          40               180   \n",
      "3             3859             3300.0         142               180   \n",
      "4             6417                0.0         157               180   \n",
      "\n",
      "   Credit_History  cluster  \n",
      "0               0        0  \n",
      "1               0        0  \n",
      "2               1        2  \n",
      "3               1        2  \n",
      "4               1        2  \n",
      "\n",
      "tail:\n",
      "      ApplicantIncome  CoapplicantIncome  LoanAmount  Loan_Amount_Term  \\\n",
      "327             5417             4196.0         267               360   \n",
      "328            16666                0.0         275               360   \n",
      "329            10750                0.0         312               360   \n",
      "330             5955             5625.0         315               360   \n",
      "331             6133             3906.0         324               360   \n",
      "\n",
      "     Credit_History  cluster  \n",
      "327               1        1  \n",
      "328               1        1  \n",
      "329               1        1  \n",
      "330               1        1  \n",
      "331               1        1  \n",
      "\n",
      "df.groupby('cluster').mean():\n",
      "          ApplicantIncome  CoapplicantIncome  LoanAmount  Loan_Amount_Term  \\\n",
      "cluster                                                                     \n",
      "0            9153.857143        2098.142857  206.285714        308.571429   \n",
      "1            5112.803390        1501.383458  141.827119        360.813559   \n",
      "2            5146.966667        1297.126666  116.333333        161.600000   \n",
      "\n",
      "         Credit_History  \n",
      "cluster                  \n",
      "0                   0.0  \n",
      "1                   1.0  \n",
      "2                   1.0  \n"
     ]
    }
   ],
   "source": [
    "df['cluster'] = pd.Series(clustered_data_sklearn.labels_, index=df.index)\n",
    "print(\"\\nhead:\\n\", df.head())\n",
    "print(\"\\ntail:\\n\", df.tail())\n",
    "print(\"\\ndf.groupby('cluster').mean():\\n\", df.groupby('cluster').mean())"
   ]
  },
  {
   "cell_type": "markdown",
   "metadata": {},
   "source": [
    "  * Cluster 0: group with **lowest combined income** also have the **lowest mean loan amount and loan amount terms**. \n",
    "  * Cluster 1: group with middle combined income also have middle loan amount but the **highest loan amount terms**\n",
    "  * Cluster 2: group with **highest combined income** also have the **higest loan amount** but second hights loan amount terms."
   ]
  },
  {
   "cell_type": "code",
   "execution_count": 8,
   "metadata": {},
   "outputs": [],
   "source": [
    "#TODO\n",
    "# Read about pd.Series"
   ]
  }
 ],
 "metadata": {
  "kernelspec": {
   "display_name": "Python 3",
   "language": "python",
   "name": "python3"
  },
  "language_info": {
   "codemirror_mode": {
    "name": "ipython",
    "version": 3
   },
   "file_extension": ".py",
   "mimetype": "text/x-python",
   "name": "python",
   "nbconvert_exporter": "python",
   "pygments_lexer": "ipython3",
   "version": "3.7.0"
  }
 },
 "nbformat": 4,
 "nbformat_minor": 2
}
