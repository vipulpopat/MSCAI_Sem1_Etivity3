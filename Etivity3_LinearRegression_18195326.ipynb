{
 "cells": [
  {
   "cell_type": "markdown",
   "metadata": {},
   "source": [
    "# MSc in AI - CE6002 & CS5062\n",
    "\n",
    "\n",
    "# E-tivity 3: Basic Techniques for Learning\n",
    "# Task 4 - Linear Regression\n",
    "\n",
    "## Student Name: Mark Murnane\n",
    "## Student ID: 18195326"
   ]
  },
  {
   "cell_type": "code",
   "execution_count": 1,
   "metadata": {},
   "outputs": [],
   "source": [
    "import matplotlib.pyplot as plt\n",
    "import numpy as np\n",
    "import random\n",
    "import math\n",
    "from sklearn.model_selection import train_test_split\n"
   ]
  },
  {
   "cell_type": "markdown",
   "metadata": {},
   "source": [
    "### Data Load & Visualisation\n",
    "\n",
    "The data for this Task is located in Task4.csv.  It needs to be read in, and visualised."
   ]
  },
  {
   "cell_type": "code",
   "execution_count": 2,
   "metadata": {},
   "outputs": [
    {
     "name": "stdout",
     "output_type": "stream",
     "text": [
      "Shape of the source data is 100 rows, each with 2 columns\n",
      "\n"
     ]
    },
    {
     "data": {
      "text/html": [
       "<div>\n",
       "<style scoped>\n",
       "    .dataframe tbody tr th:only-of-type {\n",
       "        vertical-align: middle;\n",
       "    }\n",
       "\n",
       "    .dataframe tbody tr th {\n",
       "        vertical-align: top;\n",
       "    }\n",
       "\n",
       "    .dataframe thead th {\n",
       "        text-align: right;\n",
       "    }\n",
       "</style>\n",
       "<table border=\"1\" class=\"dataframe\">\n",
       "  <thead>\n",
       "    <tr style=\"text-align: right;\">\n",
       "      <th></th>\n",
       "      <th>X</th>\n",
       "      <th>y</th>\n",
       "    </tr>\n",
       "  </thead>\n",
       "  <tbody>\n",
       "    <tr>\n",
       "      <th>count</th>\n",
       "      <td>100.000000</td>\n",
       "      <td>100.000000</td>\n",
       "    </tr>\n",
       "    <tr>\n",
       "      <th>mean</th>\n",
       "      <td>0.499995</td>\n",
       "      <td>0.786404</td>\n",
       "    </tr>\n",
       "    <tr>\n",
       "      <th>std</th>\n",
       "      <td>0.293037</td>\n",
       "      <td>0.396402</td>\n",
       "    </tr>\n",
       "    <tr>\n",
       "      <th>min</th>\n",
       "      <td>0.000000</td>\n",
       "      <td>-0.347000</td>\n",
       "    </tr>\n",
       "    <tr>\n",
       "      <th>25%</th>\n",
       "      <td>0.250250</td>\n",
       "      <td>0.639750</td>\n",
       "    </tr>\n",
       "    <tr>\n",
       "      <th>50%</th>\n",
       "      <td>0.500000</td>\n",
       "      <td>0.928000</td>\n",
       "    </tr>\n",
       "    <tr>\n",
       "      <th>75%</th>\n",
       "      <td>0.749750</td>\n",
       "      <td>1.075000</td>\n",
       "    </tr>\n",
       "    <tr>\n",
       "      <th>max</th>\n",
       "      <td>1.000000</td>\n",
       "      <td>1.270000</td>\n",
       "    </tr>\n",
       "  </tbody>\n",
       "</table>\n",
       "</div>"
      ],
      "text/plain": [
       "                X           y\n",
       "count  100.000000  100.000000\n",
       "mean     0.499995    0.786404\n",
       "std      0.293037    0.396402\n",
       "min      0.000000   -0.347000\n",
       "25%      0.250250    0.639750\n",
       "50%      0.500000    0.928000\n",
       "75%      0.749750    1.075000\n",
       "max      1.000000    1.270000"
      ]
     },
     "execution_count": 2,
     "metadata": {},
     "output_type": "execute_result"
    }
   ],
   "source": [
    "import pandas as pd\n",
    "\n",
    "df = pd.read_csv('Task4.csv', header=0)\n",
    "print(f\"Shape of the source data is {df.shape[0]} rows, each with {df.shape[1]} columns\\n\")\n",
    "df.describe()"
   ]
  },
  {
   "cell_type": "code",
   "execution_count": 3,
   "metadata": {},
   "outputs": [
    {
     "data": {
      "text/plain": [
       "[<matplotlib.lines.Line2D at 0x2be1136a898>]"
      ]
     },
     "execution_count": 3,
     "metadata": {},
     "output_type": "execute_result"
    },
    {
     "data": {
      "image/png": "[encoded data removed]",
      "text/plain": [
       "<Figure size 432x288 with 1 Axes>"
      ]
     },
     "metadata": {
      "needs_background": "light"
     },
     "output_type": "display_data"
    }
   ],
   "source": [
    "plt.plot(df.X.values, df.y.values)"
   ]
  },
  {
   "cell_type": "markdown",
   "metadata": {},
   "source": [
    "### Linear Regression Code\n",
    "\n",
    "The code below is verbatim copied from the code in *Etivity3_LinearClassification_18195326.ipnyb*.  Both example includes the _score()_ method, which performs the same calculation as _predict()_."
   ]
  },
  {
   "cell_type": "code",
   "execution_count": 4,
   "metadata": {},
   "outputs": [],
   "source": [
    "class MyLinearClassifier(object):\n",
    "    \n",
    "    \"\"\"Implementation of simple Linear Classification algorithm based on the algorithm outlined\n",
    "       in Learning from Data, Chapter 3\"\"\"\n",
    "    \n",
    "    # Simple initialiser to make sure we have a instance variable for weights\n",
    "    def __init__(self):\n",
    "        self.weights_ = np.empty((1,3))\n",
    "\n",
    "    # Fit function to determine the weights to be used by the classifer\n",
    "    # This algorithm is based on Learning from Data, p.86 \n",
    "    def fit(self, X_in, y_in):\n",
    "        \n",
    "        # Add the bias coordinate to the input array\n",
    "        X = np.hstack((np.ones((X_in.shape[0],1)), X_in))\n",
    "\n",
    "        # Pseudo-code\n",
    "        #w = (((X^transpose@X)^-1)X^transpose)@y       \n",
    "\n",
    "        # Do this the long way for understanding for now\n",
    "        # Shorthand Xd = np.linalg.pinv(X)\n",
    "        Xt = np.transpose(X)\n",
    "        Xd = np.matmul(np.linalg.inv(np.matmul(Xt, X)), Xt)\n",
    "\n",
    "        self.weights_ = np.matmul(Xd, y_in)\n",
    "\n",
    "    # Predicts a set of output classes (y^) based in the input attributes and this model's weights\n",
    "    def predict(self, X_in):\n",
    "        X = np.hstack((np.ones((X_in.shape[0],1)), X_in))\n",
    "        y_hat = np.matmul(X, self.weights_)\n",
    "\n",
    "        return np.sign(y_hat)\n",
    "    \n",
    "    \n",
    "    def score(self, X_in):\n",
    "        X = np.hstack((np.ones((X_in.shape[0],1)), X_in))\n",
    "        y_hat = np.matmul(X, self.weights_)\n",
    "\n",
    "        return y_hat"
   ]
  },
  {
   "cell_type": "code",
   "execution_count": 8,
   "metadata": {},
   "outputs": [],
   "source": [
    "# TODO - Fix this function for this e-tivity.  Borrowed from Etivity 1 code\n",
    "def point_on_boundary(weights, x):\n",
    "    # Return the y-position on the boundary based on given x-position\n",
    "    return -(weights[0]+weights[1]*x)/weights[2]\n",
    "\n",
    "def decision_boundary(weights, x_min, x_max):\n",
    "    # Return two points on the decision boundary\n",
    "    return [point_on_boundary(weights, x_min), point_on_boundary(weights, x_max)]"
   ]
  },
  {
   "cell_type": "code",
   "execution_count": 9,
   "metadata": {},
   "outputs": [
    {
     "name": "stdout",
     "output_type": "stream",
     "text": [
      "[0.3916748 0.7894663]\n"
     ]
    }
   ],
   "source": [
    "print(mlc.weights_)"
   ]
  },
  {
   "cell_type": "markdown",
   "metadata": {},
   "source": [
    "### Initial Experiment"
   ]
  },
  {
   "cell_type": "code",
   "execution_count": 6,
   "metadata": {},
   "outputs": [],
   "source": [
    "X = df.X.values\n",
    "y = df.y.values\n",
    "\n",
    "X = X.reshape(X.shape[0],1)\n",
    "\n",
    "mlc = MyLinearClassifier()\n",
    "mlc.fit(X, y)\n",
    "\n",
    "y_hat = mlc.score(X)"
   ]
  },
  {
   "cell_type": "code",
   "execution_count": 7,
   "metadata": {},
   "outputs": [
    {
     "name": "stdout",
     "output_type": "stream",
     "text": [
      "[0.3916748 0.7894663]\n"
     ]
    },
    {
     "data": {
      "image/png": "[encoded data removed]",
      "text/plain": [
       "<Figure size 432x288 with 1 Axes>"
      ]
     },
     "metadata": {
      "needs_background": "light"
     },
     "output_type": "display_data"
    }
   ],
   "source": [
    "# These are 0 and 1, but just in case\n",
    "x_min = X.min()\n",
    "x_max = X.max()\n",
    "\n",
    "print(mlc.weights_)\n",
    "\n",
    "plt.plot(df.X.values, df.y.values)\n",
    "plt.plot([x_min, x_max], [y_hat[0], y_hat[99]])\n",
    "plt.show()\n",
    "\n",
    "#y_min, y_max = decision_boundary(mlc.weights_, x_min, x_max)"
   ]
  },
  {
   "cell_type": "markdown",
   "metadata": {},
   "source": [
    "### New Features\n",
    "\n",
    "The input data looks parabolic, so choosing an appropriate parabolic tra might help to represent the data better for the "
   ]
  },
  {
   "cell_type": "code",
   "execution_count": null,
   "metadata": {},
   "outputs": [],
   "source": []
  }
 ],
 "metadata": {
  "kernelspec": {
   "display_name": "Python 3",
   "language": "python",
   "name": "python3"
  },
  "language_info": {
   "codemirror_mode": {
    "name": "ipython",
    "version": 3
   },
   "file_extension": ".py",
   "mimetype": "text/x-python",
   "name": "python",
   "nbconvert_exporter": "python",
   "pygments_lexer": "ipython3",
   "version": "3.6.6"
  }
 },
 "nbformat": 4,
 "nbformat_minor": 2
}
