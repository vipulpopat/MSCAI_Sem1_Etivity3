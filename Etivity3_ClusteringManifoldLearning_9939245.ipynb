{
 "cells": [
  {
   "cell_type": "markdown",
   "metadata": {},
   "source": [
    "# E-tivity 3: Clustering and Manifold Learning\n",
    "\n",
    "## Name: Martin Power\n",
    "## ID      : 9939245"
   ]
  },
  {
   "cell_type": "markdown",
   "metadata": {},
   "source": [
    "Use this notebook to complete Tasks 1 and 2 in E-tivity3."
   ]
  },
  {
   "cell_type": "markdown",
   "metadata": {},
   "source": [
    "### Import Python Modules"
   ]
  },
  {
   "cell_type": "code",
   "execution_count": 1,
   "metadata": {},
   "outputs": [],
   "source": [
    "import pandas as pd\n",
    "import numpy as np\n",
    "import matplotlib.pyplot as plt\n",
    "import seaborn as sns\n",
    "\n",
    "from sklearn import manifold\n",
    "from sklearn import cluster\n",
    "from sklearn import preprocessing\n",
    "from sklearn.preprocessing import power_transform\n",
    "from sklearn.metrics import silhouette_samples\n",
    "from sklearn.metrics import silhouette_score\n",
    "from matplotlib.ticker import FixedLocator\n",
    "from matplotlib.ticker import FixedFormatter"
   ]
  },
  {
   "cell_type": "markdown",
   "metadata": {},
   "source": [
    "# Table of Contents\n",
    "\n",
    "#### Task 1\n",
    "* [Task 1 Code](#task1)\n",
    "* [Task 1 - Feature Scaling](#task1_scale)\n",
    "* [Task 1 - MDS Visualisation](#task1_mds)\n",
    "* [Task 1 - t-SNE Visualisation](#task1_tsne)\n",
    "* [Task 1 - Cluster Description](#task1_desc)\n",
    "* [Task 1 - Cluster Characteristics](#task1_cha)\n",
    "\n",
    "#### Task 2\n",
    "* [Task 2 Code](#task2)\n",
    "* [Task 2 -  Sum of Squared Distances Plot](#task2_plot)\n",
    "* [Task 2 -  Elbow Method to Find Best k](#task2_elbow)\n",
    "* [Task 2 -  Silhouette Coefficient Method to Find Best k](#task2_sc)\n",
    "* [Task 2 -  Additional Clustering Algorithm](#task2_add_algo)\n",
    "* [Task 2 -  Additional Manifold Learning Technique](#task2_add_man)\n",
    "* [Task 2 -  Visual Comparison of Clusterings](#task2_vcomp)\n",
    "* [Task 2 -  Difference Between K-Means And Second Algorithm Discussion](#task2_diff)"
   ]
  },
  {
   "cell_type": "markdown",
   "metadata": {},
   "source": [
    "<a id='task1'></a>"
   ]
  },
  {
   "cell_type": "markdown",
   "metadata": {},
   "source": [
    "# Task 1 (CS5062)"
   ]
  },
  {
   "cell_type": "code",
   "execution_count": 2,
   "metadata": {},
   "outputs": [
    {
     "name": "stdout",
     "output_type": "stream",
     "text": [
      "Number of Samples  in Dataset:\t 332\n",
      "Number of Features in Dataset:\t 5\n"
     ]
    }
   ],
   "source": [
    "df = pd.read_csv(\"./loans_dataset_et3.csv\")\n",
    "\n",
    "print(\"Number of Samples  in Dataset:\\t\",df.shape[0])\n",
    "print(\"Number of Features in Dataset:\\t\",df.shape[1])"
   ]
  },
  {
   "cell_type": "code",
   "execution_count": 3,
   "metadata": {},
   "outputs": [
    {
     "data": {
      "text/html": [
       "<div>\n",
       "<style scoped>\n",
       "    .dataframe tbody tr th:only-of-type {\n",
       "        vertical-align: middle;\n",
       "    }\n",
       "\n",
       "    .dataframe tbody tr th {\n",
       "        vertical-align: top;\n",
       "    }\n",
       "\n",
       "    .dataframe thead th {\n",
       "        text-align: right;\n",
       "    }\n",
       "</style>\n",
       "<table border=\"1\" class=\"dataframe\">\n",
       "  <thead>\n",
       "    <tr style=\"text-align: right;\">\n",
       "      <th></th>\n",
       "      <th>ApplicantIncome</th>\n",
       "      <th>CoapplicantIncome</th>\n",
       "      <th>LoanAmount</th>\n",
       "      <th>Loan_Amount_Term</th>\n",
       "      <th>Credit_History</th>\n",
       "    </tr>\n",
       "  </thead>\n",
       "  <tbody>\n",
       "    <tr>\n",
       "      <th>0</th>\n",
       "      <td>2483</td>\n",
       "      <td>2466.0</td>\n",
       "      <td>90</td>\n",
       "      <td>180</td>\n",
       "      <td>0</td>\n",
       "    </tr>\n",
       "    <tr>\n",
       "      <th>1</th>\n",
       "      <td>4917</td>\n",
       "      <td>0.0</td>\n",
       "      <td>130</td>\n",
       "      <td>360</td>\n",
       "      <td>0</td>\n",
       "    </tr>\n",
       "    <tr>\n",
       "      <th>2</th>\n",
       "      <td>4106</td>\n",
       "      <td>0.0</td>\n",
       "      <td>40</td>\n",
       "      <td>180</td>\n",
       "      <td>1</td>\n",
       "    </tr>\n",
       "    <tr>\n",
       "      <th>3</th>\n",
       "      <td>3859</td>\n",
       "      <td>3300.0</td>\n",
       "      <td>142</td>\n",
       "      <td>180</td>\n",
       "      <td>1</td>\n",
       "    </tr>\n",
       "    <tr>\n",
       "      <th>4</th>\n",
       "      <td>6417</td>\n",
       "      <td>0.0</td>\n",
       "      <td>157</td>\n",
       "      <td>180</td>\n",
       "      <td>1</td>\n",
       "    </tr>\n",
       "  </tbody>\n",
       "</table>\n",
       "</div>"
      ],
      "text/plain": [
       "   ApplicantIncome  CoapplicantIncome  LoanAmount  Loan_Amount_Term  \\\n",
       "0             2483             2466.0          90               180   \n",
       "1             4917                0.0         130               360   \n",
       "2             4106                0.0          40               180   \n",
       "3             3859             3300.0         142               180   \n",
       "4             6417                0.0         157               180   \n",
       "\n",
       "   Credit_History  \n",
       "0               0  \n",
       "1               0  \n",
       "2               1  \n",
       "3               1  \n",
       "4               1  "
      ]
     },
     "execution_count": 3,
     "metadata": {},
     "output_type": "execute_result"
    }
   ],
   "source": [
    "df.head()"
   ]
  },
  {
   "cell_type": "markdown",
   "metadata": {},
   "source": [
    "<a id='task1_scale'></a>"
   ]
  },
  {
   "cell_type": "code",
   "execution_count": 4,
   "metadata": {},
   "outputs": [
    {
     "data": {
      "text/html": [
       "<div>\n",
       "<style scoped>\n",
       "    .dataframe tbody tr th:only-of-type {\n",
       "        vertical-align: middle;\n",
       "    }\n",
       "\n",
       "    .dataframe tbody tr th {\n",
       "        vertical-align: top;\n",
       "    }\n",
       "\n",
       "    .dataframe thead th {\n",
       "        text-align: right;\n",
       "    }\n",
       "</style>\n",
       "<table border=\"1\" class=\"dataframe\">\n",
       "  <thead>\n",
       "    <tr style=\"text-align: right;\">\n",
       "      <th></th>\n",
       "      <th>ApplicantIncome</th>\n",
       "      <th>CoapplicantIncome</th>\n",
       "      <th>LoanAmount</th>\n",
       "      <th>Loan_Amount_Term</th>\n",
       "      <th>Credit_History</th>\n",
       "    </tr>\n",
       "  </thead>\n",
       "  <tbody>\n",
       "    <tr>\n",
       "      <th>327</th>\n",
       "      <td>5417</td>\n",
       "      <td>4196.0</td>\n",
       "      <td>267</td>\n",
       "      <td>360</td>\n",
       "      <td>1</td>\n",
       "    </tr>\n",
       "    <tr>\n",
       "      <th>328</th>\n",
       "      <td>16666</td>\n",
       "      <td>0.0</td>\n",
       "      <td>275</td>\n",
       "      <td>360</td>\n",
       "      <td>1</td>\n",
       "    </tr>\n",
       "    <tr>\n",
       "      <th>329</th>\n",
       "      <td>10750</td>\n",
       "      <td>0.0</td>\n",
       "      <td>312</td>\n",
       "      <td>360</td>\n",
       "      <td>1</td>\n",
       "    </tr>\n",
       "    <tr>\n",
       "      <th>330</th>\n",
       "      <td>5955</td>\n",
       "      <td>5625.0</td>\n",
       "      <td>315</td>\n",
       "      <td>360</td>\n",
       "      <td>1</td>\n",
       "    </tr>\n",
       "    <tr>\n",
       "      <th>331</th>\n",
       "      <td>6133</td>\n",
       "      <td>3906.0</td>\n",
       "      <td>324</td>\n",
       "      <td>360</td>\n",
       "      <td>1</td>\n",
       "    </tr>\n",
       "  </tbody>\n",
       "</table>\n",
       "</div>"
      ],
      "text/plain": [
       "     ApplicantIncome  CoapplicantIncome  LoanAmount  Loan_Amount_Term  \\\n",
       "327             5417             4196.0         267               360   \n",
       "328            16666                0.0         275               360   \n",
       "329            10750                0.0         312               360   \n",
       "330             5955             5625.0         315               360   \n",
       "331             6133             3906.0         324               360   \n",
       "\n",
       "     Credit_History  \n",
       "327               1  \n",
       "328               1  \n",
       "329               1  \n",
       "330               1  \n",
       "331               1  "
      ]
     },
     "execution_count": 4,
     "metadata": {},
     "output_type": "execute_result"
    }
   ],
   "source": [
    "df.tail()"
   ]
  },
  {
   "cell_type": "code",
   "execution_count": 5,
   "metadata": {},
   "outputs": [
    {
     "data": {
      "text/html": [
       "<div>\n",
       "<style scoped>\n",
       "    .dataframe tbody tr th:only-of-type {\n",
       "        vertical-align: middle;\n",
       "    }\n",
       "\n",
       "    .dataframe tbody tr th {\n",
       "        vertical-align: top;\n",
       "    }\n",
       "\n",
       "    .dataframe thead th {\n",
       "        text-align: right;\n",
       "    }\n",
       "</style>\n",
       "<table border=\"1\" class=\"dataframe\">\n",
       "  <thead>\n",
       "    <tr style=\"text-align: right;\">\n",
       "      <th></th>\n",
       "      <th>ApplicantIncome</th>\n",
       "      <th>CoapplicantIncome</th>\n",
       "      <th>LoanAmount</th>\n",
       "      <th>Loan_Amount_Term</th>\n",
       "      <th>Credit_History</th>\n",
       "    </tr>\n",
       "  </thead>\n",
       "  <tbody>\n",
       "    <tr>\n",
       "      <th>count</th>\n",
       "      <td>332.000000</td>\n",
       "      <td>332.000000</td>\n",
       "      <td>332.000000</td>\n",
       "      <td>332.000000</td>\n",
       "      <td>332.000000</td>\n",
       "    </tr>\n",
       "    <tr>\n",
       "      <th>mean</th>\n",
       "      <td>5201.093373</td>\n",
       "      <td>1495.508795</td>\n",
       "      <td>140.882530</td>\n",
       "      <td>341.710843</td>\n",
       "      <td>0.978916</td>\n",
       "    </tr>\n",
       "    <tr>\n",
       "      <th>std</th>\n",
       "      <td>4584.815491</td>\n",
       "      <td>1982.742932</td>\n",
       "      <td>75.544237</td>\n",
       "      <td>61.651497</td>\n",
       "      <td>0.143882</td>\n",
       "    </tr>\n",
       "    <tr>\n",
       "      <th>min</th>\n",
       "      <td>645.000000</td>\n",
       "      <td>0.000000</td>\n",
       "      <td>17.000000</td>\n",
       "      <td>60.000000</td>\n",
       "      <td>0.000000</td>\n",
       "    </tr>\n",
       "    <tr>\n",
       "      <th>25%</th>\n",
       "      <td>2912.750000</td>\n",
       "      <td>0.000000</td>\n",
       "      <td>100.000000</td>\n",
       "      <td>360.000000</td>\n",
       "      <td>1.000000</td>\n",
       "    </tr>\n",
       "    <tr>\n",
       "      <th>50%</th>\n",
       "      <td>3858.500000</td>\n",
       "      <td>1211.500000</td>\n",
       "      <td>128.000000</td>\n",
       "      <td>360.000000</td>\n",
       "      <td>1.000000</td>\n",
       "    </tr>\n",
       "    <tr>\n",
       "      <th>75%</th>\n",
       "      <td>5818.250000</td>\n",
       "      <td>2250.000000</td>\n",
       "      <td>162.000000</td>\n",
       "      <td>360.000000</td>\n",
       "      <td>1.000000</td>\n",
       "    </tr>\n",
       "    <tr>\n",
       "      <th>max</th>\n",
       "      <td>39999.000000</td>\n",
       "      <td>20000.000000</td>\n",
       "      <td>600.000000</td>\n",
       "      <td>480.000000</td>\n",
       "      <td>1.000000</td>\n",
       "    </tr>\n",
       "  </tbody>\n",
       "</table>\n",
       "</div>"
      ],
      "text/plain": [
       "       ApplicantIncome  CoapplicantIncome  LoanAmount  Loan_Amount_Term  \\\n",
       "count       332.000000         332.000000  332.000000        332.000000   \n",
       "mean       5201.093373        1495.508795  140.882530        341.710843   \n",
       "std        4584.815491        1982.742932   75.544237         61.651497   \n",
       "min         645.000000           0.000000   17.000000         60.000000   \n",
       "25%        2912.750000           0.000000  100.000000        360.000000   \n",
       "50%        3858.500000        1211.500000  128.000000        360.000000   \n",
       "75%        5818.250000        2250.000000  162.000000        360.000000   \n",
       "max       39999.000000       20000.000000  600.000000        480.000000   \n",
       "\n",
       "       Credit_History  \n",
       "count      332.000000  \n",
       "mean         0.978916  \n",
       "std          0.143882  \n",
       "min          0.000000  \n",
       "25%          1.000000  \n",
       "50%          1.000000  \n",
       "75%          1.000000  \n",
       "max          1.000000  "
      ]
     },
     "execution_count": 5,
     "metadata": {},
     "output_type": "execute_result"
    }
   ],
   "source": [
    "# Print statistical summary for all attributes\n",
    "df.describe(include='all')"
   ]
  },
  {
   "cell_type": "code",
   "execution_count": 6,
   "metadata": {},
   "outputs": [
    {
     "name": "stdout",
     "output_type": "stream",
     "text": [
      "ApplicantIncome      False\n",
      "CoapplicantIncome    False\n",
      "LoanAmount           False\n",
      "Loan_Amount_Term     False\n",
      "Credit_History       False\n",
      "dtype: bool\n"
     ]
    }
   ],
   "source": [
    "# Quick Check to Ensure no missing data\n",
    "print(df.isnull().any())"
   ]
  },
  {
   "cell_type": "code",
   "execution_count": 7,
   "metadata": {},
   "outputs": [],
   "source": [
    "def plot_hist_with_box(feature):\n",
    "    # From https://python-graph-gallery.com/24-histogram-with-a-boxplot-on-top-seaborn/\n",
    "    # Cut the window in 2 parts\n",
    "    f, (ax_box, ax_hist) = plt.subplots(2, sharex=True, gridspec_kw={\"height_ratios\": (.15, .85)})\n",
    "\n",
    "    # Add a graph in each part\n",
    "    #sns.boxplot(df[feature], ax=ax_box)\n",
    "    #sns.distplot(df[feature], ax=ax_hist)\n",
    "    sns.boxplot(feature, ax=ax_box)\n",
    "    sns.distplot(feature, ax=ax_hist)\n",
    "\n",
    "    # Remove x axis name for the boxplot\n",
    "    ax_box.set(xlabel='')\n",
    "    plt.show()\n",
    "    return"
   ]
  },
  {
   "cell_type": "code",
   "execution_count": 8,
   "metadata": {},
   "outputs": [
    {
     "name": "stderr",
     "output_type": "stream",
     "text": [
      "C:\\Users\\mpower1\\AppData\\Local\\Continuum\\anaconda3\\lib\\site-packages\\scipy\\stats\\stats.py:1713: FutureWarning: Using a non-tuple sequence for multidimensional indexing is deprecated; use `arr[tuple(seq)]` instead of `arr[seq]`. In the future this will be interpreted as an array index, `arr[np.array(seq)]`, which will result either in an error or a different result.\n",
      "  return np.add.reduce(sorted[indexer] * weights, axis=axis) / sumval\n"
     ]
    },
    {
     "data": {
      "image/png": "[encoded data removed]",
      "text/plain": [
       "<Figure size 432x288 with 2 Axes>"
      ]
     },
     "metadata": {
      "needs_background": "light"
     },
     "output_type": "display_data"
    },
    {
     "name": "stderr",
     "output_type": "stream",
     "text": [
      "C:\\Users\\mpower1\\AppData\\Local\\Continuum\\anaconda3\\lib\\site-packages\\scipy\\stats\\stats.py:1713: FutureWarning: Using a non-tuple sequence for multidimensional indexing is deprecated; use `arr[tuple(seq)]` instead of `arr[seq]`. In the future this will be interpreted as an array index, `arr[np.array(seq)]`, which will result either in an error or a different result.\n",
      "  return np.add.reduce(sorted[indexer] * weights, axis=axis) / sumval\n"
     ]
    },
    {
     "data": {
      "image/png": "[encoded data removed]",
      "text/plain": [
       "<Figure size 432x288 with 2 Axes>"
      ]
     },
     "metadata": {
      "needs_background": "light"
     },
     "output_type": "display_data"
    }
   ],
   "source": [
    "plot_hist_with_box(df['ApplicantIncome'])\n",
    "plot_hist_with_box(power_transform(np.expand_dims(df['ApplicantIncome'], axis=1), method='box-cox'))\n",
    "\n",
    "#df['bc_age'] = power_transform(np.expand_dims(df['age'], axis=1), method='box-cox')"
   ]
  },
  {
   "cell_type": "code",
   "execution_count": 9,
   "metadata": {},
   "outputs": [
    {
     "data": {
      "image/png": "[encoded data removed]",
      "text/plain": [
       "<Figure size 432x288 with 2 Axes>"
      ]
     },
     "metadata": {
      "needs_background": "light"
     },
     "output_type": "display_data"
    },
    {
     "name": "stderr",
     "output_type": "stream",
     "text": [
      "C:\\Users\\mpower1\\AppData\\Local\\Continuum\\anaconda3\\lib\\site-packages\\scipy\\stats\\stats.py:1713: FutureWarning: Using a non-tuple sequence for multidimensional indexing is deprecated; use `arr[tuple(seq)]` instead of `arr[seq]`. In the future this will be interpreted as an array index, `arr[np.array(seq)]`, which will result either in an error or a different result.\n",
      "  return np.add.reduce(sorted[indexer] * weights, axis=axis) / sumval\n"
     ]
    },
    {
     "data": {
      "image/png": "[encoded data removed]",
      "text/plain": [
       "<Figure size 432x288 with 2 Axes>"
      ]
     },
     "metadata": {
      "needs_background": "light"
     },
     "output_type": "display_data"
    },
    {
     "name": "stderr",
     "output_type": "stream",
     "text": [
      "C:\\Users\\mpower1\\AppData\\Local\\Continuum\\anaconda3\\lib\\site-packages\\scipy\\stats\\stats.py:1713: FutureWarning: Using a non-tuple sequence for multidimensional indexing is deprecated; use `arr[tuple(seq)]` instead of `arr[seq]`. In the future this will be interpreted as an array index, `arr[np.array(seq)]`, which will result either in an error or a different result.\n",
      "  return np.add.reduce(sorted[indexer] * weights, axis=axis) / sumval\n"
     ]
    },
    {
     "data": {
      "image/png": "[encoded data removed]",
      "text/plain": [
       "<Figure size 432x288 with 2 Axes>"
      ]
     },
     "metadata": {
      "needs_background": "light"
     },
     "output_type": "display_data"
    }
   ],
   "source": [
    "plot_hist_with_box(df['CoapplicantIncome'])\n",
    "plot_hist_with_box(power_transform(np.expand_dims(df['CoapplicantIncome'], axis=1), method='yeo-johnson'))\n",
    "plot_hist_with_box(power_transform(np.expand_dims(df['CoapplicantIncome']+1, axis=1), method='box-cox'))"
   ]
  },
  {
   "cell_type": "code",
   "execution_count": 10,
   "metadata": {},
   "outputs": [
    {
     "data": {
      "image/png": "[encoded data removed]",
      "text/plain": [
       "<Figure size 432x288 with 2 Axes>"
      ]
     },
     "metadata": {
      "needs_background": "light"
     },
     "output_type": "display_data"
    },
    {
     "name": "stderr",
     "output_type": "stream",
     "text": [
      "C:\\Users\\mpower1\\AppData\\Local\\Continuum\\anaconda3\\lib\\site-packages\\scipy\\stats\\stats.py:1713: FutureWarning: Using a non-tuple sequence for multidimensional indexing is deprecated; use `arr[tuple(seq)]` instead of `arr[seq]`. In the future this will be interpreted as an array index, `arr[np.array(seq)]`, which will result either in an error or a different result.\n",
      "  return np.add.reduce(sorted[indexer] * weights, axis=axis) / sumval\n"
     ]
    },
    {
     "data": {
      "image/png": "[encoded data removed]",
      "text/plain": [
       "<Figure size 432x288 with 2 Axes>"
      ]
     },
     "metadata": {
      "needs_background": "light"
     },
     "output_type": "display_data"
    },
    {
     "name": "stderr",
     "output_type": "stream",
     "text": [
      "C:\\Users\\mpower1\\AppData\\Local\\Continuum\\anaconda3\\lib\\site-packages\\scipy\\stats\\stats.py:1713: FutureWarning: Using a non-tuple sequence for multidimensional indexing is deprecated; use `arr[tuple(seq)]` instead of `arr[seq]`. In the future this will be interpreted as an array index, `arr[np.array(seq)]`, which will result either in an error or a different result.\n",
      "  return np.add.reduce(sorted[indexer] * weights, axis=axis) / sumval\n"
     ]
    },
    {
     "data": {
      "image/png": "[encoded data removed]",
      "text/plain": [
       "<Figure size 432x288 with 2 Axes>"
      ]
     },
     "metadata": {
      "needs_background": "light"
     },
     "output_type": "display_data"
    }
   ],
   "source": [
    "plot_hist_with_box(df['LoanAmount'])\n",
    "plot_hist_with_box(power_transform(np.expand_dims(df['LoanAmount'], axis=1), method='yeo-johnson'))\n",
    "plot_hist_with_box(power_transform(np.expand_dims(df['LoanAmount']+1, axis=1), method='box-cox'))"
   ]
  },
  {
   "cell_type": "code",
   "execution_count": 11,
   "metadata": {},
   "outputs": [
    {
     "data": {
      "image/png": "[encoded data removed]",
      "text/plain": [
       "<Figure size 432x288 with 2 Axes>"
      ]
     },
     "metadata": {
      "needs_background": "light"
     },
     "output_type": "display_data"
    },
    {
     "name": "stderr",
     "output_type": "stream",
     "text": [
      "C:\\Users\\mpower1\\AppData\\Local\\Continuum\\anaconda3\\lib\\site-packages\\scipy\\stats\\stats.py:1713: FutureWarning: Using a non-tuple sequence for multidimensional indexing is deprecated; use `arr[tuple(seq)]` instead of `arr[seq]`. In the future this will be interpreted as an array index, `arr[np.array(seq)]`, which will result either in an error or a different result.\n",
      "  return np.add.reduce(sorted[indexer] * weights, axis=axis) / sumval\n"
     ]
    },
    {
     "data": {
      "image/png": "[encoded data removed]",
      "text/plain": [
       "<Figure size 432x288 with 2 Axes>"
      ]
     },
     "metadata": {
      "needs_background": "light"
     },
     "output_type": "display_data"
    }
   ],
   "source": [
    "plot_hist_with_box(df['ApplicantIncome']+df['CoapplicantIncome'])\n",
    "plot_hist_with_box(power_transform(np.expand_dims(df['ApplicantIncome']+df['CoapplicantIncome'], axis=1), method='box-cox'))"
   ]
  },
  {
   "cell_type": "code",
   "execution_count": 12,
   "metadata": {},
   "outputs": [
    {
     "data": {
      "image/png": "[encoded data removed]",
      "text/plain": [
       "<Figure size 432x288 with 2 Axes>"
      ]
     },
     "metadata": {
      "needs_background": "light"
     },
     "output_type": "display_data"
    },
    {
     "name": "stderr",
     "output_type": "stream",
     "text": [
      "C:\\Users\\mpower1\\AppData\\Local\\Continuum\\anaconda3\\lib\\site-packages\\scipy\\stats\\stats.py:1713: FutureWarning: Using a non-tuple sequence for multidimensional indexing is deprecated; use `arr[tuple(seq)]` instead of `arr[seq]`. In the future this will be interpreted as an array index, `arr[np.array(seq)]`, which will result either in an error or a different result.\n",
      "  return np.add.reduce(sorted[indexer] * weights, axis=axis) / sumval\n"
     ]
    },
    {
     "data": {
      "image/png": "[encoded data removed]",
      "text/plain": [
       "<Figure size 432x288 with 2 Axes>"
      ]
     },
     "metadata": {
      "needs_background": "light"
     },
     "output_type": "display_data"
    },
    {
     "name": "stderr",
     "output_type": "stream",
     "text": [
      "C:\\Users\\mpower1\\AppData\\Local\\Continuum\\anaconda3\\lib\\site-packages\\sklearn\\utils\\validation.py:595: DataConversionWarning: Data with input dtype int64 was converted to float64 by MinMaxScaler.\n",
      "  warnings.warn(msg, DataConversionWarning)\n",
      "C:\\Users\\mpower1\\AppData\\Local\\Continuum\\anaconda3\\lib\\site-packages\\scipy\\stats\\stats.py:1713: FutureWarning: Using a non-tuple sequence for multidimensional indexing is deprecated; use `arr[tuple(seq)]` instead of `arr[seq]`. In the future this will be interpreted as an array index, `arr[np.array(seq)]`, which will result either in an error or a different result.\n",
      "  return np.add.reduce(sorted[indexer] * weights, axis=axis) / sumval\n"
     ]
    },
    {
     "data": {
      "image/png": "[encoded data removed]",
      "text/plain": [
       "<Figure size 432x288 with 2 Axes>"
      ]
     },
     "metadata": {
      "needs_background": "light"
     },
     "output_type": "display_data"
    },
    {
     "name": "stderr",
     "output_type": "stream",
     "text": [
      "C:\\Users\\mpower1\\AppData\\Local\\Continuum\\anaconda3\\lib\\site-packages\\scipy\\stats\\stats.py:1713: FutureWarning: Using a non-tuple sequence for multidimensional indexing is deprecated; use `arr[tuple(seq)]` instead of `arr[seq]`. In the future this will be interpreted as an array index, `arr[np.array(seq)]`, which will result either in an error or a different result.\n",
      "  return np.add.reduce(sorted[indexer] * weights, axis=axis) / sumval\n"
     ]
    },
    {
     "data": {
      "image/png": "[encoded data removed]",
      "text/plain": [
       "<Figure size 432x288 with 2 Axes>"
      ]
     },
     "metadata": {
      "needs_background": "light"
     },
     "output_type": "display_data"
    },
    {
     "name": "stderr",
     "output_type": "stream",
     "text": [
      "C:\\Users\\mpower1\\AppData\\Local\\Continuum\\anaconda3\\lib\\site-packages\\scipy\\stats\\stats.py:1713: FutureWarning: Using a non-tuple sequence for multidimensional indexing is deprecated; use `arr[tuple(seq)]` instead of `arr[seq]`. In the future this will be interpreted as an array index, `arr[np.array(seq)]`, which will result either in an error or a different result.\n",
      "  return np.add.reduce(sorted[indexer] * weights, axis=axis) / sumval\n"
     ]
    },
    {
     "data": {
      "image/png": "[encoded data removed]",
      "text/plain": [
       "<Figure size 432x288 with 2 Axes>"
      ]
     },
     "metadata": {
      "needs_background": "light"
     },
     "output_type": "display_data"
    }
   ],
   "source": [
    "plot_hist_with_box(df['Loan_Amount_Term'])\n",
    "plot_hist_with_box(power_transform(np.expand_dims(df['Loan_Amount_Term'], axis=1), method='box-cox'))\n",
    "\n",
    "min_max_scaler = preprocessing.MinMaxScaler()\n",
    "#lab3_data = min_max_scaler.fit_transform(lab3_data)\n",
    "plot_hist_with_box(min_max_scaler.fit_transform(np.expand_dims(df['Loan_Amount_Term'], axis=1)))\n",
    "\n",
    "#min_max_scaler = preprocessing.MinMaxScaler()\n",
    "#lab3_data = min_max_scaler.fit_transform(lab3_data)\n",
    "plot_hist_with_box(min_max_scaler.fit_transform(np.expand_dims(df['Loan_Amount_Term']/12, axis=1)))\n",
    "\n",
    "robust_scaler = preprocessing.RobustScaler()\n",
    "#lab3_data = min_max_scaler.fit_transform(lab3_data)\n",
    "plot_hist_with_box(robust_scaler.fit_transform(np.expand_dims(df['Loan_Amount_Term']/12, axis=1)))"
   ]
  },
  {
   "cell_type": "code",
   "execution_count": 13,
   "metadata": {},
   "outputs": [
    {
     "data": {
      "text/plain": [
       "360    292\n",
       "180     24\n",
       "480      4\n",
       "300      4\n",
       "120      3\n",
       "84       2\n",
       "60       2\n",
       "240      1\n",
       "Name: Loan_Amount_Term, dtype: int64"
      ]
     },
     "execution_count": 13,
     "metadata": {},
     "output_type": "execute_result"
    }
   ],
   "source": [
    "df['Loan_Amount_Term'].unique()\n",
    "df['Loan_Amount_Term'].value_counts()"
   ]
  },
  {
   "cell_type": "code",
   "execution_count": 14,
   "metadata": {
    "scrolled": false
   },
   "outputs": [
    {
     "data": {
      "image/png": "[encoded data removed]",
      "text/plain": [
       "<Figure size 432x288 with 2 Axes>"
      ]
     },
     "metadata": {
      "needs_background": "light"
     },
     "output_type": "display_data"
    }
   ],
   "source": [
    "plot_hist_with_box(df['Loan_Amount_Term']/12)"
   ]
  },
  {
   "cell_type": "markdown",
   "metadata": {},
   "source": [
    "## Task 1 - Feature Scaling"
   ]
  },
  {
   "cell_type": "code",
   "execution_count": 15,
   "metadata": {},
   "outputs": [],
   "source": [
    "#X_raw = df.drop('Credit_History', axis=1)\n",
    "#y     = df['Credit_History']"
   ]
  },
  {
   "cell_type": "code",
   "execution_count": 16,
   "metadata": {},
   "outputs": [],
   "source": [
    "#X_raw.head()"
   ]
  },
  {
   "cell_type": "code",
   "execution_count": 17,
   "metadata": {},
   "outputs": [],
   "source": [
    "scale_df = pd.DataFrame()"
   ]
  },
  {
   "cell_type": "code",
   "execution_count": 18,
   "metadata": {},
   "outputs": [],
   "source": [
    "scale_df = scale_df.append(df, ignore_index = True)\n"
   ]
  },
  {
   "cell_type": "markdown",
   "metadata": {},
   "source": [
    "<a id='task1_mds'></a>"
   ]
  },
  {
   "cell_type": "code",
   "execution_count": 19,
   "metadata": {},
   "outputs": [
    {
     "data": {
      "text/html": [
       "<div>\n",
       "<style scoped>\n",
       "    .dataframe tbody tr th:only-of-type {\n",
       "        vertical-align: middle;\n",
       "    }\n",
       "\n",
       "    .dataframe tbody tr th {\n",
       "        vertical-align: top;\n",
       "    }\n",
       "\n",
       "    .dataframe thead th {\n",
       "        text-align: right;\n",
       "    }\n",
       "</style>\n",
       "<table border=\"1\" class=\"dataframe\">\n",
       "  <thead>\n",
       "    <tr style=\"text-align: right;\">\n",
       "      <th></th>\n",
       "      <th>ApplicantIncome</th>\n",
       "      <th>CoapplicantIncome</th>\n",
       "      <th>LoanAmount</th>\n",
       "      <th>Loan_Amount_Term</th>\n",
       "      <th>Credit_History</th>\n",
       "    </tr>\n",
       "  </thead>\n",
       "  <tbody>\n",
       "    <tr>\n",
       "      <th>0</th>\n",
       "      <td>2483</td>\n",
       "      <td>2466.0</td>\n",
       "      <td>90</td>\n",
       "      <td>180</td>\n",
       "      <td>0</td>\n",
       "    </tr>\n",
       "    <tr>\n",
       "      <th>1</th>\n",
       "      <td>4917</td>\n",
       "      <td>0.0</td>\n",
       "      <td>130</td>\n",
       "      <td>360</td>\n",
       "      <td>0</td>\n",
       "    </tr>\n",
       "    <tr>\n",
       "      <th>2</th>\n",
       "      <td>4106</td>\n",
       "      <td>0.0</td>\n",
       "      <td>40</td>\n",
       "      <td>180</td>\n",
       "      <td>1</td>\n",
       "    </tr>\n",
       "    <tr>\n",
       "      <th>3</th>\n",
       "      <td>3859</td>\n",
       "      <td>3300.0</td>\n",
       "      <td>142</td>\n",
       "      <td>180</td>\n",
       "      <td>1</td>\n",
       "    </tr>\n",
       "    <tr>\n",
       "      <th>4</th>\n",
       "      <td>6417</td>\n",
       "      <td>0.0</td>\n",
       "      <td>157</td>\n",
       "      <td>180</td>\n",
       "      <td>1</td>\n",
       "    </tr>\n",
       "  </tbody>\n",
       "</table>\n",
       "</div>"
      ],
      "text/plain": [
       "   ApplicantIncome  CoapplicantIncome  LoanAmount  Loan_Amount_Term  \\\n",
       "0             2483             2466.0          90               180   \n",
       "1             4917                0.0         130               360   \n",
       "2             4106                0.0          40               180   \n",
       "3             3859             3300.0         142               180   \n",
       "4             6417                0.0         157               180   \n",
       "\n",
       "   Credit_History  \n",
       "0               0  \n",
       "1               0  \n",
       "2               1  \n",
       "3               1  \n",
       "4               1  "
      ]
     },
     "execution_count": 19,
     "metadata": {},
     "output_type": "execute_result"
    }
   ],
   "source": [
    "scale_df.head()"
   ]
  },
  {
   "cell_type": "code",
   "execution_count": 20,
   "metadata": {},
   "outputs": [],
   "source": [
    "scale_df['ApplicantIncome'] = power_transform(np.expand_dims(scale_df['ApplicantIncome'], axis=1), method='box-cox')"
   ]
  },
  {
   "cell_type": "code",
   "execution_count": 21,
   "metadata": {},
   "outputs": [],
   "source": [
    "scale_df['CoapplicantIncome'] = power_transform(np.expand_dims(df['CoapplicantIncome'], axis=1), method='yeo-johnson')"
   ]
  },
  {
   "cell_type": "code",
   "execution_count": 22,
   "metadata": {},
   "outputs": [],
   "source": [
    "scale_df['LoanAmount'] = power_transform(np.expand_dims(df['LoanAmount'], axis=1), method='box-cox')"
   ]
  },
  {
   "cell_type": "code",
   "execution_count": 23,
   "metadata": {},
   "outputs": [
    {
     "name": "stderr",
     "output_type": "stream",
     "text": [
      "C:\\Users\\mpower1\\AppData\\Local\\Continuum\\anaconda3\\lib\\site-packages\\sklearn\\utils\\validation.py:595: DataConversionWarning: Data with input dtype int64 was converted to float64 by MinMaxScaler.\n",
      "  warnings.warn(msg, DataConversionWarning)\n",
      "C:\\Users\\mpower1\\AppData\\Local\\Continuum\\anaconda3\\lib\\site-packages\\sklearn\\utils\\validation.py:595: DataConversionWarning: Data with input dtype int64 was converted to float64 by MinMaxScaler.\n",
      "  warnings.warn(msg, DataConversionWarning)\n",
      "C:\\Users\\mpower1\\AppData\\Local\\Continuum\\anaconda3\\lib\\site-packages\\sklearn\\utils\\validation.py:595: DataConversionWarning: Data with input dtype int64 was converted to float64 by MinMaxScaler.\n",
      "  warnings.warn(msg, DataConversionWarning)\n"
     ]
    }
   ],
   "source": [
    "min_max_scaler2 = preprocessing.MinMaxScaler()\n",
    "#lab3_data = min_max_scaler.fit_transform(lab3_data)\n",
    "scale_df['Loan_Amount_Term'] = min_max_scaler2.fit_transform(np.expand_dims(df['Loan_Amount_Term'], axis=1))\n",
    "scale_df['ApplicantIncome'] = min_max_scaler2.fit_transform(np.expand_dims(df['ApplicantIncome'], axis=1))\n",
    "scale_df['CoapplicantIncome'] = min_max_scaler2.fit_transform(np.expand_dims(df['CoapplicantIncome'], axis=1))\n",
    "scale_df['LoanAmount'] = min_max_scaler2.fit_transform(np.expand_dims(df['LoanAmount'], axis=1))"
   ]
  },
  {
   "cell_type": "code",
   "execution_count": 24,
   "metadata": {},
   "outputs": [
    {
     "data": {
      "text/html": [
       "<div>\n",
       "<style scoped>\n",
       "    .dataframe tbody tr th:only-of-type {\n",
       "        vertical-align: middle;\n",
       "    }\n",
       "\n",
       "    .dataframe tbody tr th {\n",
       "        vertical-align: top;\n",
       "    }\n",
       "\n",
       "    .dataframe thead th {\n",
       "        text-align: right;\n",
       "    }\n",
       "</style>\n",
       "<table border=\"1\" class=\"dataframe\">\n",
       "  <thead>\n",
       "    <tr style=\"text-align: right;\">\n",
       "      <th></th>\n",
       "      <th>ApplicantIncome</th>\n",
       "      <th>CoapplicantIncome</th>\n",
       "      <th>LoanAmount</th>\n",
       "      <th>Loan_Amount_Term</th>\n",
       "      <th>Credit_History</th>\n",
       "    </tr>\n",
       "  </thead>\n",
       "  <tbody>\n",
       "    <tr>\n",
       "      <th>0</th>\n",
       "      <td>0.046704</td>\n",
       "      <td>0.1233</td>\n",
       "      <td>0.125214</td>\n",
       "      <td>0.285714</td>\n",
       "      <td>0</td>\n",
       "    </tr>\n",
       "    <tr>\n",
       "      <th>1</th>\n",
       "      <td>0.108553</td>\n",
       "      <td>0.0000</td>\n",
       "      <td>0.193825</td>\n",
       "      <td>0.714286</td>\n",
       "      <td>0</td>\n",
       "    </tr>\n",
       "    <tr>\n",
       "      <th>2</th>\n",
       "      <td>0.087945</td>\n",
       "      <td>0.0000</td>\n",
       "      <td>0.039451</td>\n",
       "      <td>0.285714</td>\n",
       "      <td>1</td>\n",
       "    </tr>\n",
       "    <tr>\n",
       "      <th>3</th>\n",
       "      <td>0.081669</td>\n",
       "      <td>0.1650</td>\n",
       "      <td>0.214408</td>\n",
       "      <td>0.285714</td>\n",
       "      <td>1</td>\n",
       "    </tr>\n",
       "    <tr>\n",
       "      <th>4</th>\n",
       "      <td>0.146669</td>\n",
       "      <td>0.0000</td>\n",
       "      <td>0.240137</td>\n",
       "      <td>0.285714</td>\n",
       "      <td>1</td>\n",
       "    </tr>\n",
       "  </tbody>\n",
       "</table>\n",
       "</div>"
      ],
      "text/plain": [
       "   ApplicantIncome  CoapplicantIncome  LoanAmount  Loan_Amount_Term  \\\n",
       "0         0.046704             0.1233    0.125214          0.285714   \n",
       "1         0.108553             0.0000    0.193825          0.714286   \n",
       "2         0.087945             0.0000    0.039451          0.285714   \n",
       "3         0.081669             0.1650    0.214408          0.285714   \n",
       "4         0.146669             0.0000    0.240137          0.285714   \n",
       "\n",
       "   Credit_History  \n",
       "0               0  \n",
       "1               0  \n",
       "2               1  \n",
       "3               1  \n",
       "4               1  "
      ]
     },
     "execution_count": 24,
     "metadata": {},
     "output_type": "execute_result"
    }
   ],
   "source": [
    "scale_df.head()"
   ]
  },
  {
   "cell_type": "code",
   "execution_count": 25,
   "metadata": {
    "scrolled": true
   },
   "outputs": [
    {
     "data": {
      "text/html": [
       "<div>\n",
       "<style scoped>\n",
       "    .dataframe tbody tr th:only-of-type {\n",
       "        vertical-align: middle;\n",
       "    }\n",
       "\n",
       "    .dataframe tbody tr th {\n",
       "        vertical-align: top;\n",
       "    }\n",
       "\n",
       "    .dataframe thead th {\n",
       "        text-align: right;\n",
       "    }\n",
       "</style>\n",
       "<table border=\"1\" class=\"dataframe\">\n",
       "  <thead>\n",
       "    <tr style=\"text-align: right;\">\n",
       "      <th></th>\n",
       "      <th>ApplicantIncome</th>\n",
       "      <th>CoapplicantIncome</th>\n",
       "      <th>LoanAmount</th>\n",
       "      <th>Loan_Amount_Term</th>\n",
       "      <th>Credit_History</th>\n",
       "    </tr>\n",
       "  </thead>\n",
       "  <tbody>\n",
       "    <tr>\n",
       "      <th>count</th>\n",
       "      <td>332.000000</td>\n",
       "      <td>332.000000</td>\n",
       "      <td>332.000000</td>\n",
       "      <td>332.000000</td>\n",
       "      <td>332.000000</td>\n",
       "    </tr>\n",
       "    <tr>\n",
       "      <th>mean</th>\n",
       "      <td>0.115772</td>\n",
       "      <td>0.074775</td>\n",
       "      <td>0.212491</td>\n",
       "      <td>0.670740</td>\n",
       "      <td>0.978916</td>\n",
       "    </tr>\n",
       "    <tr>\n",
       "      <th>std</th>\n",
       "      <td>0.116502</td>\n",
       "      <td>0.099137</td>\n",
       "      <td>0.129578</td>\n",
       "      <td>0.146789</td>\n",
       "      <td>0.143882</td>\n",
       "    </tr>\n",
       "    <tr>\n",
       "      <th>min</th>\n",
       "      <td>0.000000</td>\n",
       "      <td>0.000000</td>\n",
       "      <td>0.000000</td>\n",
       "      <td>0.000000</td>\n",
       "      <td>0.000000</td>\n",
       "    </tr>\n",
       "    <tr>\n",
       "      <th>25%</th>\n",
       "      <td>0.057624</td>\n",
       "      <td>0.000000</td>\n",
       "      <td>0.142367</td>\n",
       "      <td>0.714286</td>\n",
       "      <td>1.000000</td>\n",
       "    </tr>\n",
       "    <tr>\n",
       "      <th>50%</th>\n",
       "      <td>0.081656</td>\n",
       "      <td>0.060575</td>\n",
       "      <td>0.190395</td>\n",
       "      <td>0.714286</td>\n",
       "      <td>1.000000</td>\n",
       "    </tr>\n",
       "    <tr>\n",
       "      <th>75%</th>\n",
       "      <td>0.131454</td>\n",
       "      <td>0.112500</td>\n",
       "      <td>0.248714</td>\n",
       "      <td>0.714286</td>\n",
       "      <td>1.000000</td>\n",
       "    </tr>\n",
       "    <tr>\n",
       "      <th>max</th>\n",
       "      <td>1.000000</td>\n",
       "      <td>1.000000</td>\n",
       "      <td>1.000000</td>\n",
       "      <td>1.000000</td>\n",
       "      <td>1.000000</td>\n",
       "    </tr>\n",
       "  </tbody>\n",
       "</table>\n",
       "</div>"
      ],
      "text/plain": [
       "       ApplicantIncome  CoapplicantIncome  LoanAmount  Loan_Amount_Term  \\\n",
       "count       332.000000         332.000000  332.000000        332.000000   \n",
       "mean          0.115772           0.074775    0.212491          0.670740   \n",
       "std           0.116502           0.099137    0.129578          0.146789   \n",
       "min           0.000000           0.000000    0.000000          0.000000   \n",
       "25%           0.057624           0.000000    0.142367          0.714286   \n",
       "50%           0.081656           0.060575    0.190395          0.714286   \n",
       "75%           0.131454           0.112500    0.248714          0.714286   \n",
       "max           1.000000           1.000000    1.000000          1.000000   \n",
       "\n",
       "       Credit_History  \n",
       "count      332.000000  \n",
       "mean         0.978916  \n",
       "std          0.143882  \n",
       "min          0.000000  \n",
       "25%          1.000000  \n",
       "50%          1.000000  \n",
       "75%          1.000000  \n",
       "max          1.000000  "
      ]
     },
     "execution_count": 25,
     "metadata": {},
     "output_type": "execute_result"
    }
   ],
   "source": [
    "scale_df.describe(include='all')"
   ]
  },
  {
   "cell_type": "code",
   "execution_count": 26,
   "metadata": {},
   "outputs": [],
   "source": [
    "### DEBUG CODE\n",
    "#scale_df['ApplicantIncome'] = scale_df['ApplicantIncome'] + abs(scale_df['ApplicantIncome'].min())"
   ]
  },
  {
   "cell_type": "code",
   "execution_count": 27,
   "metadata": {},
   "outputs": [],
   "source": [
    "#scale_df['CoapplicantIncome'] = scale_df['CoapplicantIncome'] + abs(scale_df['CoapplicantIncome'].min())\n",
    "#scale_df['LoanAmount'] = scale_df['LoanAmount'] + abs(scale_df['LoanAmount'].min())"
   ]
  },
  {
   "cell_type": "code",
   "execution_count": 28,
   "metadata": {},
   "outputs": [
    {
     "data": {
      "text/html": [
       "<div>\n",
       "<style scoped>\n",
       "    .dataframe tbody tr th:only-of-type {\n",
       "        vertical-align: middle;\n",
       "    }\n",
       "\n",
       "    .dataframe tbody tr th {\n",
       "        vertical-align: top;\n",
       "    }\n",
       "\n",
       "    .dataframe thead th {\n",
       "        text-align: right;\n",
       "    }\n",
       "</style>\n",
       "<table border=\"1\" class=\"dataframe\">\n",
       "  <thead>\n",
       "    <tr style=\"text-align: right;\">\n",
       "      <th></th>\n",
       "      <th>ApplicantIncome</th>\n",
       "      <th>CoapplicantIncome</th>\n",
       "      <th>LoanAmount</th>\n",
       "      <th>Loan_Amount_Term</th>\n",
       "      <th>Credit_History</th>\n",
       "    </tr>\n",
       "  </thead>\n",
       "  <tbody>\n",
       "    <tr>\n",
       "      <th>count</th>\n",
       "      <td>332.000000</td>\n",
       "      <td>332.000000</td>\n",
       "      <td>332.000000</td>\n",
       "      <td>332.000000</td>\n",
       "      <td>332.000000</td>\n",
       "    </tr>\n",
       "    <tr>\n",
       "      <th>mean</th>\n",
       "      <td>0.115772</td>\n",
       "      <td>0.074775</td>\n",
       "      <td>0.212491</td>\n",
       "      <td>0.670740</td>\n",
       "      <td>0.978916</td>\n",
       "    </tr>\n",
       "    <tr>\n",
       "      <th>std</th>\n",
       "      <td>0.116502</td>\n",
       "      <td>0.099137</td>\n",
       "      <td>0.129578</td>\n",
       "      <td>0.146789</td>\n",
       "      <td>0.143882</td>\n",
       "    </tr>\n",
       "    <tr>\n",
       "      <th>min</th>\n",
       "      <td>0.000000</td>\n",
       "      <td>0.000000</td>\n",
       "      <td>0.000000</td>\n",
       "      <td>0.000000</td>\n",
       "      <td>0.000000</td>\n",
       "    </tr>\n",
       "    <tr>\n",
       "      <th>25%</th>\n",
       "      <td>0.057624</td>\n",
       "      <td>0.000000</td>\n",
       "      <td>0.142367</td>\n",
       "      <td>0.714286</td>\n",
       "      <td>1.000000</td>\n",
       "    </tr>\n",
       "    <tr>\n",
       "      <th>50%</th>\n",
       "      <td>0.081656</td>\n",
       "      <td>0.060575</td>\n",
       "      <td>0.190395</td>\n",
       "      <td>0.714286</td>\n",
       "      <td>1.000000</td>\n",
       "    </tr>\n",
       "    <tr>\n",
       "      <th>75%</th>\n",
       "      <td>0.131454</td>\n",
       "      <td>0.112500</td>\n",
       "      <td>0.248714</td>\n",
       "      <td>0.714286</td>\n",
       "      <td>1.000000</td>\n",
       "    </tr>\n",
       "    <tr>\n",
       "      <th>max</th>\n",
       "      <td>1.000000</td>\n",
       "      <td>1.000000</td>\n",
       "      <td>1.000000</td>\n",
       "      <td>1.000000</td>\n",
       "      <td>1.000000</td>\n",
       "    </tr>\n",
       "  </tbody>\n",
       "</table>\n",
       "</div>"
      ],
      "text/plain": [
       "       ApplicantIncome  CoapplicantIncome  LoanAmount  Loan_Amount_Term  \\\n",
       "count       332.000000         332.000000  332.000000        332.000000   \n",
       "mean          0.115772           0.074775    0.212491          0.670740   \n",
       "std           0.116502           0.099137    0.129578          0.146789   \n",
       "min           0.000000           0.000000    0.000000          0.000000   \n",
       "25%           0.057624           0.000000    0.142367          0.714286   \n",
       "50%           0.081656           0.060575    0.190395          0.714286   \n",
       "75%           0.131454           0.112500    0.248714          0.714286   \n",
       "max           1.000000           1.000000    1.000000          1.000000   \n",
       "\n",
       "       Credit_History  \n",
       "count      332.000000  \n",
       "mean         0.978916  \n",
       "std          0.143882  \n",
       "min          0.000000  \n",
       "25%          1.000000  \n",
       "50%          1.000000  \n",
       "75%          1.000000  \n",
       "max          1.000000  "
      ]
     },
     "execution_count": 28,
     "metadata": {},
     "output_type": "execute_result"
    }
   ],
   "source": [
    "scale_df.describe(include='all')"
   ]
  },
  {
   "cell_type": "code",
   "execution_count": 29,
   "metadata": {},
   "outputs": [
    {
     "name": "stderr",
     "output_type": "stream",
     "text": [
      "C:\\Users\\mpower1\\AppData\\Local\\Continuum\\anaconda3\\lib\\site-packages\\scipy\\stats\\stats.py:1713: FutureWarning: Using a non-tuple sequence for multidimensional indexing is deprecated; use `arr[tuple(seq)]` instead of `arr[seq]`. In the future this will be interpreted as an array index, `arr[np.array(seq)]`, which will result either in an error or a different result.\n",
      "  return np.add.reduce(sorted[indexer] * weights, axis=axis) / sumval\n"
     ]
    },
    {
     "data": {
      "image/png": "[encoded data removed]",
      "text/plain": [
       "<Figure size 432x288 with 2 Axes>"
      ]
     },
     "metadata": {
      "needs_background": "light"
     },
     "output_type": "display_data"
    },
    {
     "name": "stderr",
     "output_type": "stream",
     "text": [
      "C:\\Users\\mpower1\\AppData\\Local\\Continuum\\anaconda3\\lib\\site-packages\\scipy\\stats\\stats.py:1713: FutureWarning: Using a non-tuple sequence for multidimensional indexing is deprecated; use `arr[tuple(seq)]` instead of `arr[seq]`. In the future this will be interpreted as an array index, `arr[np.array(seq)]`, which will result either in an error or a different result.\n",
      "  return np.add.reduce(sorted[indexer] * weights, axis=axis) / sumval\n"
     ]
    },
    {
     "data": {
      "image/png": "[encoded data removed]",
      "text/plain": [
       "<Figure size 432x288 with 2 Axes>"
      ]
     },
     "metadata": {
      "needs_background": "light"
     },
     "output_type": "display_data"
    },
    {
     "name": "stderr",
     "output_type": "stream",
     "text": [
      "C:\\Users\\mpower1\\AppData\\Local\\Continuum\\anaconda3\\lib\\site-packages\\sklearn\\utils\\validation.py:595: DataConversionWarning: Data with input dtype int64 was converted to float64 by MinMaxScaler.\n",
      "  warnings.warn(msg, DataConversionWarning)\n",
      "C:\\Users\\mpower1\\AppData\\Local\\Continuum\\anaconda3\\lib\\site-packages\\scipy\\stats\\stats.py:1713: FutureWarning: Using a non-tuple sequence for multidimensional indexing is deprecated; use `arr[tuple(seq)]` instead of `arr[seq]`. In the future this will be interpreted as an array index, `arr[np.array(seq)]`, which will result either in an error or a different result.\n",
      "  return np.add.reduce(sorted[indexer] * weights, axis=axis) / sumval\n"
     ]
    },
    {
     "data": {
      "image/png": "[encoded data removed]",
      "text/plain": [
       "<Figure size 432x288 with 2 Axes>"
      ]
     },
     "metadata": {
      "needs_background": "light"
     },
     "output_type": "display_data"
    }
   ],
   "source": [
    "scale_df['ApplicantIncome'] = df['ApplicantIncome']\n",
    "plot_hist_with_box(scale_df['ApplicantIncome'])\n",
    "scale_df['ApplicantIncome'] = power_transform(np.expand_dims(scale_df['ApplicantIncome'], axis=1), method='box-cox')\n",
    "plot_hist_with_box(scale_df['ApplicantIncome'])\n",
    "scale_df['ApplicantIncome'] = min_max_scaler2.fit_transform(np.expand_dims(df['ApplicantIncome'], axis=1))\n",
    "plot_hist_with_box(scale_df['ApplicantIncome'])"
   ]
  },
  {
   "cell_type": "code",
   "execution_count": 30,
   "metadata": {},
   "outputs": [],
   "source": [
    "# Reusing code from Lab3\n",
    "\n",
    "# Fixed typo in code where 'blue' appeared twice. Replaced with 'yellow'\n",
    "colors = np.array(['orange', 'blue', 'lime', 'yellow', 'khaki', 'pink', 'green', 'purple'])\n",
    "\n",
    "bookcolors_key = np.array(['crimson', 'red', 'redorange', 'orange', 'yellow', 'sky', 'babyblue', 'lightblue', 'blue', 'purple'])\n",
    "\n",
    "bookcolors = {\n",
    "         'crimson': '#a50026', 'red': '#d73027',\n",
    "         'redorange': '#f46d43', 'orange': '#fdae61',\n",
    "         'yellow': '#fee090', 'sky': '#e0f3f8',\n",
    "         'babyblue': '#abd9e9', 'lightblue': '#74add1',\n",
    "         'blue': '#4575b4', 'purple': '#313695'\n",
    "     }\n",
    "\n",
    "# points - a 2D array of (x,y) coordinates of data points\n",
    "# labels - an array of numeric labels in the interval [0..k-1], one for each point\n",
    "# centers - a 2D array of (x, y) coordinates of cluster centers\n",
    "# title - title of the plot\n",
    "\n",
    "def clustering_scatterplot(points, labels, centers, title):\n",
    "    # plot the examples, i.e. the data points\n",
    "    \n",
    "    n_clusters = np.unique(labels).size\n",
    "    for i in range(n_clusters):\n",
    "        h = plt.scatter(points[labels==i,0],\n",
    "                        points[labels==i,1], \n",
    "                        c=colors[i%colors.size],\n",
    "                        #c=bookcolors[bookcolors_key[i%bookcolors_key.size]],\n",
    "                        label = 'cluster '+str(i))\n",
    "\n",
    "    # plot the centers of the clusters\n",
    "    if centers is not None:\n",
    "        plt.scatter(centers[:,0], centers[:,1], c='r', marker='*', s=500)\n",
    "\n",
    "    _ = plt.title(title)\n",
    "    _ = plt.legend()\n",
    "    _ = plt.xlabel('x')\n",
    "    _ = plt.ylabel('y')"
   ]
  },
  {
   "cell_type": "code",
   "execution_count": 31,
   "metadata": {},
   "outputs": [
    {
     "name": "stdout",
     "output_type": "stream",
     "text": [
      "(number of examples, number of attributes):  (332, 5)\n"
     ]
    }
   ],
   "source": [
    "#scale_data = np.array(scale_df.values, dtype=float)\n",
    "scale_data = np.array(df.values, dtype=float) # <-- Replace with unscaled values\n",
    "print('(number of examples, number of attributes): ', scale_data.shape)\n",
    "\n",
    "# DEBUG CODE\n",
    "dbg_min_max_scaler = preprocessing.MinMaxScaler()\n",
    "scale_data = dbg_min_max_scaler.fit_transform(scale_data)"
   ]
  },
  {
   "cell_type": "code",
   "execution_count": 32,
   "metadata": {},
   "outputs": [],
   "source": [
    "k = 4"
   ]
  },
  {
   "cell_type": "code",
   "execution_count": 41,
   "metadata": {},
   "outputs": [],
   "source": [
    "clustered_data_sklearn = cluster.KMeans(n_clusters=k, n_init=10, max_iter=300).fit(scale_data)"
   ]
  },
  {
   "cell_type": "code",
   "execution_count": 42,
   "metadata": {},
   "outputs": [],
   "source": [
    "# append the cluster centers to the dataset\n",
    "scale_data_and_centers = np.r_[scale_data,clustered_data_sklearn.cluster_centers_]"
   ]
  },
  {
   "cell_type": "markdown",
   "metadata": {},
   "source": [
    "## Task 1 - MDS Visualisation"
   ]
  },
  {
   "cell_type": "code",
   "execution_count": 43,
   "metadata": {},
   "outputs": [
    {
     "name": "stdout",
     "output_type": "stream",
     "text": [
      "transformation complete\n"
     ]
    }
   ],
   "source": [
    "# project both th data and the k-Means cluster centers to a 2D space\n",
    "XYcoordinates = manifold.MDS(n_components=2).fit_transform(scale_data_and_centers)\n",
    "print(\"transformation complete\")"
   ]
  },
  {
   "cell_type": "code",
   "execution_count": 44,
   "metadata": {},
   "outputs": [
    {
     "data": {
      "image/png": "[encoded data removed]",
      "text/plain": [
       "<Figure size 432x288 with 1 Axes>"
      ]
     },
     "metadata": {
      "needs_background": "light"
     },
     "output_type": "display_data"
    }
   ],
   "source": [
    "# plot the transformed examples and the centers\n",
    "# use the cluster assignment to colour the examples\n",
    "clustering_scatterplot(points=XYcoordinates[:-k,:], \n",
    "                       labels=clustered_data_sklearn.labels_, \n",
    "                       centers=XYcoordinates[-k:,:], \n",
    "                       title='MDS')"
   ]
  },
  {
   "cell_type": "markdown",
   "metadata": {},
   "source": [
    "<a id='task1_tsne'></a>"
   ]
  },
  {
   "cell_type": "markdown",
   "metadata": {},
   "source": [
    "## Task 1 - t-SNE Visualisation"
   ]
  },
  {
   "cell_type": "code",
   "execution_count": 45,
   "metadata": {},
   "outputs": [
    {
     "name": "stdout",
     "output_type": "stream",
     "text": [
      "transformation complete\n"
     ]
    }
   ],
   "source": [
    "# project both th data and the k-Means cluster centers to a 2D space\n",
    "XYcoordinates = manifold.TSNE(n_components=2).fit_transform(scale_data_and_centers)\n",
    "print(\"transformation complete\")"
   ]
  },
  {
   "cell_type": "code",
   "execution_count": 46,
   "metadata": {},
   "outputs": [
    {
     "data": {
      "image/png": "[encoded data removed]",
      "text/plain": [
       "<Figure size 432x288 with 1 Axes>"
      ]
     },
     "metadata": {
      "needs_background": "light"
     },
     "output_type": "display_data"
    }
   ],
   "source": [
    "# plot the transformed examples and the centers\n",
    "# use the cluster assignment to colour the examples\n",
    "# plot the transformed examples and the centers\n",
    "# use the cluster assignment to colour the examples\n",
    "clustering_scatterplot(points=XYcoordinates[:-k,:], \n",
    "                       labels=clustered_data_sklearn.labels_,\n",
    "                       centers=XYcoordinates[-k:,:], \n",
    "                       title='TSNE')"
   ]
  },
  {
   "cell_type": "markdown",
   "metadata": {},
   "source": [
    "<a id='task1_desc'></a>"
   ]
  },
  {
   "cell_type": "markdown",
   "metadata": {},
   "source": [
    "## Task 1 - Cluster Description"
   ]
  },
  {
   "cell_type": "code",
   "execution_count": 47,
   "metadata": {},
   "outputs": [],
   "source": [
    "# Append the cluster labels to the original data\n",
    "df['cluster'] = pd.Series(clustered_data_sklearn.labels_, index=df.index)"
   ]
  },
  {
   "cell_type": "code",
   "execution_count": 48,
   "metadata": {},
   "outputs": [
    {
     "data": {
      "text/html": [
       "<div>\n",
       "<style scoped>\n",
       "    .dataframe tbody tr th:only-of-type {\n",
       "        vertical-align: middle;\n",
       "    }\n",
       "\n",
       "    .dataframe tbody tr th {\n",
       "        vertical-align: top;\n",
       "    }\n",
       "\n",
       "    .dataframe thead th {\n",
       "        text-align: right;\n",
       "    }\n",
       "</style>\n",
       "<table border=\"1\" class=\"dataframe\">\n",
       "  <thead>\n",
       "    <tr style=\"text-align: right;\">\n",
       "      <th></th>\n",
       "      <th>ApplicantIncome</th>\n",
       "      <th>CoapplicantIncome</th>\n",
       "      <th>LoanAmount</th>\n",
       "      <th>Loan_Amount_Term</th>\n",
       "      <th>Credit_History</th>\n",
       "    </tr>\n",
       "    <tr>\n",
       "      <th>cluster</th>\n",
       "      <th></th>\n",
       "      <th></th>\n",
       "      <th></th>\n",
       "      <th></th>\n",
       "      <th></th>\n",
       "    </tr>\n",
       "  </thead>\n",
       "  <tbody>\n",
       "    <tr>\n",
       "      <th>0</th>\n",
       "      <td>3829.493776</td>\n",
       "      <td>1541.436183</td>\n",
       "      <td>118.419087</td>\n",
       "      <td>361.493776</td>\n",
       "      <td>1.0</td>\n",
       "    </tr>\n",
       "    <tr>\n",
       "      <th>1</th>\n",
       "      <td>10840.166667</td>\n",
       "      <td>1322.629630</td>\n",
       "      <td>246.296296</td>\n",
       "      <td>357.777778</td>\n",
       "      <td>1.0</td>\n",
       "    </tr>\n",
       "    <tr>\n",
       "      <th>2</th>\n",
       "      <td>5146.966667</td>\n",
       "      <td>1297.126666</td>\n",
       "      <td>116.333333</td>\n",
       "      <td>161.600000</td>\n",
       "      <td>1.0</td>\n",
       "    </tr>\n",
       "    <tr>\n",
       "      <th>3</th>\n",
       "      <td>9153.857143</td>\n",
       "      <td>2098.142857</td>\n",
       "      <td>206.285714</td>\n",
       "      <td>308.571429</td>\n",
       "      <td>0.0</td>\n",
       "    </tr>\n",
       "  </tbody>\n",
       "</table>\n",
       "</div>"
      ],
      "text/plain": [
       "         ApplicantIncome  CoapplicantIncome  LoanAmount  Loan_Amount_Term  \\\n",
       "cluster                                                                     \n",
       "0            3829.493776        1541.436183  118.419087        361.493776   \n",
       "1           10840.166667        1322.629630  246.296296        357.777778   \n",
       "2            5146.966667        1297.126666  116.333333        161.600000   \n",
       "3            9153.857143        2098.142857  206.285714        308.571429   \n",
       "\n",
       "         Credit_History  \n",
       "cluster                  \n",
       "0                   1.0  \n",
       "1                   1.0  \n",
       "2                   1.0  \n",
       "3                   0.0  "
      ]
     },
     "execution_count": 48,
     "metadata": {},
     "output_type": "execute_result"
    }
   ],
   "source": [
    "df.groupby('cluster').mean()"
   ]
  },
  {
   "cell_type": "markdown",
   "metadata": {},
   "source": [
    "<a id='task1_char'></a>"
   ]
  },
  {
   "cell_type": "markdown",
   "metadata": {},
   "source": [
    "## Task 1 - Cluster Characteristics"
   ]
  },
  {
   "cell_type": "markdown",
   "metadata": {},
   "source": [
    "<a id='task2'></a>"
   ]
  },
  {
   "cell_type": "markdown",
   "metadata": {},
   "source": [
    "# Task 2 (CS5062)"
   ]
  },
  {
   "cell_type": "markdown",
   "metadata": {},
   "source": [
    "<a id='task2_plot'></a>"
   ]
  },
  {
   "cell_type": "markdown",
   "metadata": {},
   "source": [
    "## Task 2 - Sum of Squared Distances Plot"
   ]
  },
  {
   "cell_type": "code",
   "execution_count": null,
   "metadata": {},
   "outputs": [],
   "source": [
    "min_k = 2\n",
    "max_k = 8\n",
    "\n",
    "kvals = np.array(range(min_k,max_k+1))"
   ]
  },
  {
   "cell_type": "code",
   "execution_count": null,
   "metadata": {
    "scrolled": false
   },
   "outputs": [],
   "source": [
    "sse = np.empty(len(kvals))\n",
    "\n",
    "for i in range(len(kvals)):\n",
    "    clustered_data_sklearn = cluster.KMeans(n_clusters=kvals[i], n_init=10, max_iter=300).fit(scale_data)\n",
    "    \n",
    "    # Store Sum of Squared Error Value\n",
    "    sse[i] = clustered_data_sklearn.inertia_     \n",
    "\n",
    "\n",
    "plt.figure(figsize=(8, 3))\n",
    "plt.title(\"Sum of Squared Distances Plot\") \n",
    "plt.plot(kvals,  sse, \"bo-\")\n",
    "plt.xlabel(\"$k$\", fontsize=14)\n",
    "plt.ylabel(\"Sum of Squared Error\", fontsize=14)\n",
    "plt.show()"
   ]
  },
  {
   "cell_type": "markdown",
   "metadata": {},
   "source": [
    "<a id='task2_elbow'></a>"
   ]
  },
  {
   "cell_type": "markdown",
   "metadata": {},
   "source": [
    "## Task 2 - Elbow Method to Find Best k"
   ]
  },
  {
   "cell_type": "markdown",
   "metadata": {},
   "source": [
    "<a id='task2_sc'></a>"
   ]
  },
  {
   "cell_type": "markdown",
   "metadata": {},
   "source": [
    "## Task 2 - Silhouette Coefficient Method to Find Best k"
   ]
  },
  {
   "cell_type": "code",
   "execution_count": null,
   "metadata": {
    "scrolled": false
   },
   "outputs": [],
   "source": [
    "# From https://scikit-learn.org/stable/auto_examples/cluster/plot_kmeans_silhouette_analysis.html\n",
    "# From https://github.com/ageron/handson-ml2/blob/master/09_unsupervised_learning.ipynb\n",
    "\n",
    "# Empty Array to Store Silhouette values\n",
    "silhouette_avg = np.empty(len(kvals))\n",
    "\n",
    "\n",
    "for i in range(len(kvals)):\n",
    "\n",
    "    clustered_data_sklearn = cluster.KMeans(n_clusters=kvals[i], n_init=10, max_iter=300).fit(scale_data)\n",
    "    \n",
    "    cluster_labels = clustered_data_sklearn.labels_\n",
    "    \n",
    "    # The silhouette_score gives the average value for all the samples.\n",
    "    # This gives a perspective into the density and separation of the formed\n",
    "    # clusters\n",
    "    silhouette_avg[i] = silhouette_score(scale_data, cluster_labels)\n",
    "    \n",
    "    \n",
    "    # Compute the silhouette scores for each sample\n",
    "    sample_silhouette_values = silhouette_samples(scale_data, cluster_labels)\n",
    "\n",
    "    padding = len(scale_data) // 30\n",
    "    pos = padding\n",
    "    ticks = []\n",
    "    \n",
    "\n",
    "    for j in range(kvals[i]):\n",
    "        coeffs = sample_silhouette_values[cluster_labels==j]\n",
    "        coeffs.sort()\n",
    "\n",
    "        plt.fill_betweenx(np.arange(pos, pos + len(coeffs)), 0, coeffs,\n",
    "                          facecolor=colors[i%colors.size], edgecolor=colors[i%colors.size], alpha=0.7)\n",
    "        \n",
    "        ticks.append(pos + len(coeffs) // 2)\n",
    "        pos += len(coeffs) + padding\n",
    "\n",
    "    plt.gca().yaxis.set_major_locator(FixedLocator(ticks))\n",
    "    plt.gca().yaxis.set_major_formatter(FixedFormatter(range(kvals[i])))\n",
    "    plt.gca().set_xticks([-0.1, 0, 0.2, 0.4, 0.6, 0.8, 1])\n",
    "    plt.xlabel(\"Silhouette Coefficient\")\n",
    "    plt.ylabel(\"Cluster\")\n",
    "    plt.axvline(x=silhouette_avg[i], color=\"red\", linestyle=\"--\")\n",
    "    plt.title(\"$k={}$\".format(kvals[i]), fontsize=16)\n",
    "    plt.show()\n",
    "    \n",
    "\n",
    "# Plot Silhoette Scores\n",
    "\n",
    "plt.figure(figsize=(8, 3))\n",
    "plt.plot(kvals,  silhouette_avg, \"bo-\")\n",
    "plt.xlabel(\"$k$\", fontsize=14)\n",
    "plt.ylabel(\"Silhouette score\", fontsize=14)\n",
    "plt.show()\n",
    "\n",
    "for i in range(len(kvals)):    \n",
    "    print(\"For k =\", kvals[i], \"The average silhouette_score is :\", silhouette_avg[i])  "
   ]
  },
  {
   "cell_type": "markdown",
   "metadata": {},
   "source": [
    "<a id='task2_add_algo'></a>"
   ]
  },
  {
   "cell_type": "markdown",
   "metadata": {},
   "source": [
    "## Task 2 - Additional Clustering Algorithm"
   ]
  },
  {
   "cell_type": "code",
   "execution_count": null,
   "metadata": {},
   "outputs": [],
   "source": [
    "# https://learning.oreilly.com/library/view/machine-learning-with/9781491989371/ch19.html#clustering\n",
    "# https://scikit-learn.org/stable/auto_examples/cluster/plot_mean_shift.html#sphx-glr-auto-examples-cluster-plot-mean-shift-py\n",
    "from sklearn.cluster import MeanShift\n",
    "\n",
    "# Create meanshift object\n",
    "ms = MeanShift(n_jobs=-1)\n",
    "\n",
    "# Train model\n",
    "model = ms.fit(scale_data)\n",
    "\n",
    "ms_labels = ms.labels_\n",
    "ms_cluster_centers = ms.cluster_centers_\n",
    "\n",
    "ms_labels_unique = np.unique(ms_labels)\n",
    "ms_n_clusters_ = len(ms_labels_unique)\n",
    "\n",
    "print(\"number of estimated clusters : %d\" % ms_n_clusters_)\n",
    "\n",
    "\n",
    "# append the cluster centers to the dataset\n",
    "ms_scale_data_and_centers = np.r_[scale_data, ms.cluster_centers_]\n",
    "\n",
    "# plot the transformed examples and the centers\n",
    "# use the cluster assignment to colour the examples\n",
    "clustering_scatterplot(points=XYcoordinates[:-ms_n_clusters_,:], \n",
    "                       labels=ms.labels_, \n",
    "                       centers=XYcoordinates[-ms_n_clusters_:,:], \n",
    "                       title='MDS')\n",
    "\n",
    "\n",
    "\n",
    "\n",
    "# # project both th data and the k-Means cluster centers to a 2D space\n",
    "# XYcoordinates = manifold.MDS(n_components=2).fit_transform(ms_scale_data_and_centers)\n",
    "# print(\"transformation complete\")\n",
    "\n",
    "\n",
    "\n",
    "# # #############################################################################\n",
    "# # Plot result\n",
    "# import matplotlib.pyplot as plt\n",
    "# from itertools import cycle\n",
    "\n",
    "# plt.figure(1)\n",
    "# plt.clf()\n",
    "\n",
    "# colors = cycle('bgrcmykbgrcmykbgrcmykbgrcmyk')\n",
    "# for k, col in zip(range(ms_n_clusters_), colors):\n",
    "#     my_members = ms_labels == k\n",
    "#     cluster_center = ms_cluster_centers[k]\n",
    "#     plt.plot(X[my_members, 0], X[my_members, 1], col + '.')\n",
    "#     plt.plot(cluster_center[0], cluster_center[1], 'o', markerfacecolor=col,\n",
    "#              markeredgecolor='k', markersize=14)\n",
    "# plt.title('Estimated number of clusters: %d' % n_clusters_)\n",
    "# plt.show()"
   ]
  },
  {
   "cell_type": "code",
   "execution_count": null,
   "metadata": {},
   "outputs": [],
   "source": [
    "# project both th data and the k-Means cluster centers to a 2D space\n",
    "XYcoordinates = manifold.TSNE(n_components=2).fit_transform(ms_scale_data_and_centers)\n",
    "print(\"transformation complete\")"
   ]
  },
  {
   "cell_type": "code",
   "execution_count": null,
   "metadata": {},
   "outputs": [],
   "source": [
    "print(XYcoordinates.shape)"
   ]
  },
  {
   "cell_type": "code",
   "execution_count": null,
   "metadata": {},
   "outputs": [],
   "source": [
    "# plot the transformed examples and the centers\n",
    "# use the cluster assignment to colour the examples\n",
    "# plot the transformed examples and the centers\n",
    "# use the cluster assignment to colour the examples\n",
    "clustering_scatterplot(points=XYcoordinates[:-ms_n_clusters_,:], \n",
    "                       labels=ms.labels_,\n",
    "                       centers=XYcoordinates[-ms_n_clusters_:,:], \n",
    "                       title='TSNE')"
   ]
  },
  {
   "cell_type": "markdown",
   "metadata": {},
   "source": [
    "<a id='task2_add_man'></a>"
   ]
  },
  {
   "cell_type": "markdown",
   "metadata": {},
   "source": [
    "## Task 2 - Additional Manifold Learning Technique"
   ]
  },
  {
   "cell_type": "markdown",
   "metadata": {},
   "source": [
    "<a id='task2_vcomp'></a>"
   ]
  },
  {
   "cell_type": "markdown",
   "metadata": {},
   "source": [
    "## Task 2 - Visual Comparison of Clusterings"
   ]
  },
  {
   "cell_type": "markdown",
   "metadata": {},
   "source": [
    "<a id='task2_diff'></a>"
   ]
  },
  {
   "cell_type": "markdown",
   "metadata": {},
   "source": [
    "## Task 2 - Difference Between K-Means And Second Algorithm Discussion"
   ]
  },
  {
   "cell_type": "code",
   "execution_count": 49,
   "metadata": {},
   "outputs": [],
   "source": [
    "def zero_encode(x):\n",
    "    if(x>0):\n",
    "        return 1\n",
    "    else:\n",
    "        return 0\n",
    "\n",
    "my_df = pd.DataFrame()\n",
    "my_df = my_df.append(df, ignore_index = True)\n",
    "\n",
    "my_df['JointIncome'] = my_df['ApplicantIncome'] + my_df['CoapplicantIncome']    \n",
    "    \n",
    "\n",
    "my_df['JointApplicantion'] = my_df['CoapplicantIncome'].apply(zero_encode)\n"
   ]
  },
  {
   "cell_type": "code",
   "execution_count": 50,
   "metadata": {},
   "outputs": [
    {
     "data": {
      "text/html": [
       "<div>\n",
       "<style scoped>\n",
       "    .dataframe tbody tr th:only-of-type {\n",
       "        vertical-align: middle;\n",
       "    }\n",
       "\n",
       "    .dataframe tbody tr th {\n",
       "        vertical-align: top;\n",
       "    }\n",
       "\n",
       "    .dataframe thead th {\n",
       "        text-align: right;\n",
       "    }\n",
       "</style>\n",
       "<table border=\"1\" class=\"dataframe\">\n",
       "  <thead>\n",
       "    <tr style=\"text-align: right;\">\n",
       "      <th></th>\n",
       "      <th>ApplicantIncome</th>\n",
       "      <th>CoapplicantIncome</th>\n",
       "      <th>LoanAmount</th>\n",
       "      <th>Loan_Amount_Term</th>\n",
       "      <th>Credit_History</th>\n",
       "      <th>cluster</th>\n",
       "      <th>JointIncome</th>\n",
       "      <th>JointApplicantion</th>\n",
       "    </tr>\n",
       "  </thead>\n",
       "  <tbody>\n",
       "    <tr>\n",
       "      <th>0</th>\n",
       "      <td>2483</td>\n",
       "      <td>2466.0</td>\n",
       "      <td>90</td>\n",
       "      <td>180</td>\n",
       "      <td>0</td>\n",
       "      <td>3</td>\n",
       "      <td>4949.0</td>\n",
       "      <td>1</td>\n",
       "    </tr>\n",
       "    <tr>\n",
       "      <th>1</th>\n",
       "      <td>4917</td>\n",
       "      <td>0.0</td>\n",
       "      <td>130</td>\n",
       "      <td>360</td>\n",
       "      <td>0</td>\n",
       "      <td>3</td>\n",
       "      <td>4917.0</td>\n",
       "      <td>0</td>\n",
       "    </tr>\n",
       "    <tr>\n",
       "      <th>2</th>\n",
       "      <td>4106</td>\n",
       "      <td>0.0</td>\n",
       "      <td>40</td>\n",
       "      <td>180</td>\n",
       "      <td>1</td>\n",
       "      <td>2</td>\n",
       "      <td>4106.0</td>\n",
       "      <td>0</td>\n",
       "    </tr>\n",
       "    <tr>\n",
       "      <th>3</th>\n",
       "      <td>3859</td>\n",
       "      <td>3300.0</td>\n",
       "      <td>142</td>\n",
       "      <td>180</td>\n",
       "      <td>1</td>\n",
       "      <td>2</td>\n",
       "      <td>7159.0</td>\n",
       "      <td>1</td>\n",
       "    </tr>\n",
       "    <tr>\n",
       "      <th>4</th>\n",
       "      <td>6417</td>\n",
       "      <td>0.0</td>\n",
       "      <td>157</td>\n",
       "      <td>180</td>\n",
       "      <td>1</td>\n",
       "      <td>2</td>\n",
       "      <td>6417.0</td>\n",
       "      <td>0</td>\n",
       "    </tr>\n",
       "  </tbody>\n",
       "</table>\n",
       "</div>"
      ],
      "text/plain": [
       "   ApplicantIncome  CoapplicantIncome  LoanAmount  Loan_Amount_Term  \\\n",
       "0             2483             2466.0          90               180   \n",
       "1             4917                0.0         130               360   \n",
       "2             4106                0.0          40               180   \n",
       "3             3859             3300.0         142               180   \n",
       "4             6417                0.0         157               180   \n",
       "\n",
       "   Credit_History  cluster  JointIncome  JointApplicantion  \n",
       "0               0        3       4949.0                  1  \n",
       "1               0        3       4917.0                  0  \n",
       "2               1        2       4106.0                  0  \n",
       "3               1        2       7159.0                  1  \n",
       "4               1        2       6417.0                  0  "
      ]
     },
     "execution_count": 50,
     "metadata": {},
     "output_type": "execute_result"
    }
   ],
   "source": [
    "my_df.head()"
   ]
  },
  {
   "cell_type": "code",
   "execution_count": 51,
   "metadata": {},
   "outputs": [
    {
     "name": "stderr",
     "output_type": "stream",
     "text": [
      "C:\\Users\\mpower1\\AppData\\Local\\Continuum\\anaconda3\\lib\\site-packages\\scipy\\stats\\stats.py:1713: FutureWarning: Using a non-tuple sequence for multidimensional indexing is deprecated; use `arr[tuple(seq)]` instead of `arr[seq]`. In the future this will be interpreted as an array index, `arr[np.array(seq)]`, which will result either in an error or a different result.\n",
      "  return np.add.reduce(sorted[indexer] * weights, axis=axis) / sumval\n"
     ]
    },
    {
     "data": {
      "image/png": "[encoded data removed]",
      "text/plain": [
       "<Figure size 432x288 with 2 Axes>"
      ]
     },
     "metadata": {
      "needs_background": "light"
     },
     "output_type": "display_data"
    }
   ],
   "source": [
    "plot_hist_with_box(my_df['JointIncome'])"
   ]
  },
  {
   "cell_type": "code",
   "execution_count": 52,
   "metadata": {},
   "outputs": [],
   "source": [
    "my_df = my_df.drop(['ApplicantIncome'], axis=1)"
   ]
  },
  {
   "cell_type": "code",
   "execution_count": 53,
   "metadata": {},
   "outputs": [],
   "source": [
    "my_df = my_df.drop(['CoapplicantIncome'], axis=1)"
   ]
  },
  {
   "cell_type": "code",
   "execution_count": 54,
   "metadata": {},
   "outputs": [],
   "source": [
    "my_df = my_df.drop(['cluster'], axis=1)"
   ]
  },
  {
   "cell_type": "code",
   "execution_count": 55,
   "metadata": {},
   "outputs": [
    {
     "data": {
      "text/html": [
       "<div>\n",
       "<style scoped>\n",
       "    .dataframe tbody tr th:only-of-type {\n",
       "        vertical-align: middle;\n",
       "    }\n",
       "\n",
       "    .dataframe tbody tr th {\n",
       "        vertical-align: top;\n",
       "    }\n",
       "\n",
       "    .dataframe thead th {\n",
       "        text-align: right;\n",
       "    }\n",
       "</style>\n",
       "<table border=\"1\" class=\"dataframe\">\n",
       "  <thead>\n",
       "    <tr style=\"text-align: right;\">\n",
       "      <th></th>\n",
       "      <th>LoanAmount</th>\n",
       "      <th>Loan_Amount_Term</th>\n",
       "      <th>Credit_History</th>\n",
       "      <th>JointIncome</th>\n",
       "      <th>JointApplicantion</th>\n",
       "    </tr>\n",
       "  </thead>\n",
       "  <tbody>\n",
       "    <tr>\n",
       "      <th>0</th>\n",
       "      <td>90</td>\n",
       "      <td>180</td>\n",
       "      <td>0</td>\n",
       "      <td>4949.0</td>\n",
       "      <td>1</td>\n",
       "    </tr>\n",
       "    <tr>\n",
       "      <th>1</th>\n",
       "      <td>130</td>\n",
       "      <td>360</td>\n",
       "      <td>0</td>\n",
       "      <td>4917.0</td>\n",
       "      <td>0</td>\n",
       "    </tr>\n",
       "    <tr>\n",
       "      <th>2</th>\n",
       "      <td>40</td>\n",
       "      <td>180</td>\n",
       "      <td>1</td>\n",
       "      <td>4106.0</td>\n",
       "      <td>0</td>\n",
       "    </tr>\n",
       "    <tr>\n",
       "      <th>3</th>\n",
       "      <td>142</td>\n",
       "      <td>180</td>\n",
       "      <td>1</td>\n",
       "      <td>7159.0</td>\n",
       "      <td>1</td>\n",
       "    </tr>\n",
       "    <tr>\n",
       "      <th>4</th>\n",
       "      <td>157</td>\n",
       "      <td>180</td>\n",
       "      <td>1</td>\n",
       "      <td>6417.0</td>\n",
       "      <td>0</td>\n",
       "    </tr>\n",
       "  </tbody>\n",
       "</table>\n",
       "</div>"
      ],
      "text/plain": [
       "   LoanAmount  Loan_Amount_Term  Credit_History  JointIncome  \\\n",
       "0          90               180               0       4949.0   \n",
       "1         130               360               0       4917.0   \n",
       "2          40               180               1       4106.0   \n",
       "3         142               180               1       7159.0   \n",
       "4         157               180               1       6417.0   \n",
       "\n",
       "   JointApplicantion  \n",
       "0                  1  \n",
       "1                  0  \n",
       "2                  0  \n",
       "3                  1  \n",
       "4                  0  "
      ]
     },
     "execution_count": 55,
     "metadata": {},
     "output_type": "execute_result"
    }
   ],
   "source": [
    "my_df.head()"
   ]
  },
  {
   "cell_type": "code",
   "execution_count": 56,
   "metadata": {},
   "outputs": [
    {
     "name": "stdout",
     "output_type": "stream",
     "text": [
      "(number of examples, number of attributes):  (332, 5)\n"
     ]
    }
   ],
   "source": [
    "my_data = np.array(my_df.values, dtype=float)\n",
    "print('(number of examples, number of attributes): ', my_data.shape)"
   ]
  },
  {
   "cell_type": "code",
   "execution_count": 57,
   "metadata": {},
   "outputs": [],
   "source": [
    "my_min_max_scaler = preprocessing.MinMaxScaler()\n",
    "my_data = my_min_max_scaler.fit_transform(my_data)"
   ]
  },
  {
   "cell_type": "code",
   "execution_count": 58,
   "metadata": {},
   "outputs": [],
   "source": [
    "k = 4\n",
    "\n",
    "clustered_data_sklearn = cluster.KMeans(n_clusters=k, n_init=10, max_iter=300).fit(my_data)\n",
    "\n",
    "# append the cluster centers to the dataset\n",
    "my_data_and_centers = np.r_[my_data,clustered_data_sklearn.cluster_centers_]"
   ]
  },
  {
   "cell_type": "code",
   "execution_count": 59,
   "metadata": {},
   "outputs": [
    {
     "name": "stdout",
     "output_type": "stream",
     "text": [
      "transformation complete\n"
     ]
    }
   ],
   "source": [
    "# project both th data and the k-Means cluster centers to a 2D space\n",
    "XYcoordinates = manifold.MDS(n_components=2).fit_transform(my_data_and_centers)\n",
    "print(\"transformation complete\")"
   ]
  },
  {
   "cell_type": "code",
   "execution_count": 60,
   "metadata": {},
   "outputs": [
    {
     "data": {
      "image/png": "[encoded data removed]",
      "text/plain": [
       "<Figure size 432x288 with 1 Axes>"
      ]
     },
     "metadata": {
      "needs_background": "light"
     },
     "output_type": "display_data"
    }
   ],
   "source": [
    "# plot the transformed examples and the centers\n",
    "# use the cluster assignment to colour the examples\n",
    "clustering_scatterplot(points=XYcoordinates[:-k,:], \n",
    "                       labels=clustered_data_sklearn.labels_, \n",
    "                       centers=XYcoordinates[-k:,:], \n",
    "                       title='MDS')"
   ]
  },
  {
   "cell_type": "code",
   "execution_count": 61,
   "metadata": {},
   "outputs": [
    {
     "name": "stdout",
     "output_type": "stream",
     "text": [
      "transformation complete\n"
     ]
    }
   ],
   "source": [
    "# project both th data and the k-Means cluster centers to a 2D space\n",
    "XYcoordinates = manifold.TSNE(n_components=2).fit_transform(my_data_and_centers)\n",
    "print(\"transformation complete\")"
   ]
  },
  {
   "cell_type": "code",
   "execution_count": 62,
   "metadata": {},
   "outputs": [
    {
     "data": {
      "image/png": "[encoded data removed]",
      "text/plain": [
       "<Figure size 432x288 with 1 Axes>"
      ]
     },
     "metadata": {
      "needs_background": "light"
     },
     "output_type": "display_data"
    }
   ],
   "source": [
    "# plot the transformed examples and the centers\n",
    "# use the cluster assignment to colour the examples\n",
    "# plot the transformed examples and the centers\n",
    "# use the cluster assignment to colour the examples\n",
    "clustering_scatterplot(points=XYcoordinates[:-k,:], \n",
    "                       labels=clustered_data_sklearn.labels_,\n",
    "                       centers=XYcoordinates[-k:,:], \n",
    "                       title='TSNE')"
   ]
  },
  {
   "cell_type": "code",
   "execution_count": 63,
   "metadata": {},
   "outputs": [],
   "source": [
    "# Append the cluster labels to the original data\n",
    "df['cluster'] = pd.Series(clustered_data_sklearn.labels_, index=df.index)"
   ]
  },
  {
   "cell_type": "code",
   "execution_count": 64,
   "metadata": {},
   "outputs": [
    {
     "data": {
      "text/html": [
       "<div>\n",
       "<style scoped>\n",
       "    .dataframe tbody tr th:only-of-type {\n",
       "        vertical-align: middle;\n",
       "    }\n",
       "\n",
       "    .dataframe tbody tr th {\n",
       "        vertical-align: top;\n",
       "    }\n",
       "\n",
       "    .dataframe thead th {\n",
       "        text-align: right;\n",
       "    }\n",
       "</style>\n",
       "<table border=\"1\" class=\"dataframe\">\n",
       "  <thead>\n",
       "    <tr style=\"text-align: right;\">\n",
       "      <th></th>\n",
       "      <th>ApplicantIncome</th>\n",
       "      <th>CoapplicantIncome</th>\n",
       "      <th>LoanAmount</th>\n",
       "      <th>Loan_Amount_Term</th>\n",
       "      <th>Credit_History</th>\n",
       "    </tr>\n",
       "    <tr>\n",
       "      <th>cluster</th>\n",
       "      <th></th>\n",
       "      <th></th>\n",
       "      <th></th>\n",
       "      <th></th>\n",
       "      <th></th>\n",
       "    </tr>\n",
       "  </thead>\n",
       "  <tbody>\n",
       "    <tr>\n",
       "      <th>0</th>\n",
       "      <td>4003.976879</td>\n",
       "      <td>2560.162543</td>\n",
       "      <td>140.861272</td>\n",
       "      <td>361.734104</td>\n",
       "      <td>1.0</td>\n",
       "    </tr>\n",
       "    <tr>\n",
       "      <th>1</th>\n",
       "      <td>6681.688406</td>\n",
       "      <td>0.000000</td>\n",
       "      <td>139.239130</td>\n",
       "      <td>337.391304</td>\n",
       "      <td>1.0</td>\n",
       "    </tr>\n",
       "    <tr>\n",
       "      <th>2</th>\n",
       "      <td>9153.857143</td>\n",
       "      <td>2098.142857</td>\n",
       "      <td>206.285714</td>\n",
       "      <td>308.571429</td>\n",
       "      <td>0.0</td>\n",
       "    </tr>\n",
       "    <tr>\n",
       "      <th>3</th>\n",
       "      <td>3423.214286</td>\n",
       "      <td>2779.557142</td>\n",
       "      <td>124.642857</td>\n",
       "      <td>153.428571</td>\n",
       "      <td>1.0</td>\n",
       "    </tr>\n",
       "  </tbody>\n",
       "</table>\n",
       "</div>"
      ],
      "text/plain": [
       "         ApplicantIncome  CoapplicantIncome  LoanAmount  Loan_Amount_Term  \\\n",
       "cluster                                                                     \n",
       "0            4003.976879        2560.162543  140.861272        361.734104   \n",
       "1            6681.688406           0.000000  139.239130        337.391304   \n",
       "2            9153.857143        2098.142857  206.285714        308.571429   \n",
       "3            3423.214286        2779.557142  124.642857        153.428571   \n",
       "\n",
       "         Credit_History  \n",
       "cluster                  \n",
       "0                   1.0  \n",
       "1                   1.0  \n",
       "2                   0.0  \n",
       "3                   1.0  "
      ]
     },
     "execution_count": 64,
     "metadata": {},
     "output_type": "execute_result"
    }
   ],
   "source": [
    "df.groupby('cluster').mean()"
   ]
  },
  {
   "cell_type": "code",
   "execution_count": null,
   "metadata": {},
   "outputs": [],
   "source": []
  }
 ],
 "metadata": {
  "kernelspec": {
   "display_name": "Python 3",
   "language": "python",
   "name": "python3"
  },
  "language_info": {
   "codemirror_mode": {
    "name": "ipython",
    "version": 3
   },
   "file_extension": ".py",
   "mimetype": "text/x-python",
   "name": "python",
   "nbconvert_exporter": "python",
   "pygments_lexer": "ipython3",
   "version": "3.7.1"
  }
 },
 "nbformat": 4,
 "nbformat_minor": 2
}
