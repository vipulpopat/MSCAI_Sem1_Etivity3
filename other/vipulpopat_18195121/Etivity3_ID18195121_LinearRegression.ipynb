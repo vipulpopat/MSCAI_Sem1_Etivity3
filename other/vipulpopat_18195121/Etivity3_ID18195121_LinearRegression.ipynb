{
 "cells": [
  {
   "cell_type": "markdown",
   "metadata": {},
   "source": [
    "### Student Name: Vipul Popat\n",
    "### Student ID: 18195121"
   ]
  },
  {
   "cell_type": "code",
   "execution_count": 1,
   "metadata": {},
   "outputs": [],
   "source": [
    "import matplotlib.pyplot as plt\n",
    "import numpy as np\n",
    "import random\n",
    "import math\n",
    "from sklearn.model_selection import train_test_split\n",
    "from sklearn.utils import shuffle\n",
    "import pandas as pd\n",
    "from sklearn.model_selection import train_test_split"
   ]
  },
  {
   "cell_type": "code",
   "execution_count": 2,
   "metadata": {},
   "outputs": [
    {
     "data": {
      "text/html": [
       "<div>\n",
       "<style scoped>\n",
       "    .dataframe tbody tr th:only-of-type {\n",
       "        vertical-align: middle;\n",
       "    }\n",
       "\n",
       "    .dataframe tbody tr th {\n",
       "        vertical-align: top;\n",
       "    }\n",
       "\n",
       "    .dataframe thead th {\n",
       "        text-align: right;\n",
       "    }\n",
       "</style>\n",
       "<table border=\"1\" class=\"dataframe\">\n",
       "  <thead>\n",
       "    <tr style=\"text-align: right;\">\n",
       "      <th></th>\n",
       "      <th>X</th>\n",
       "      <th>y</th>\n",
       "    </tr>\n",
       "  </thead>\n",
       "  <tbody>\n",
       "    <tr>\n",
       "      <th>0</th>\n",
       "      <td>0.0000</td>\n",
       "      <td>-0.3080</td>\n",
       "    </tr>\n",
       "    <tr>\n",
       "      <th>1</th>\n",
       "      <td>0.0101</td>\n",
       "      <td>-0.3470</td>\n",
       "    </tr>\n",
       "    <tr>\n",
       "      <th>2</th>\n",
       "      <td>0.0202</td>\n",
       "      <td>-0.0937</td>\n",
       "    </tr>\n",
       "    <tr>\n",
       "      <th>3</th>\n",
       "      <td>0.0303</td>\n",
       "      <td>-0.2860</td>\n",
       "    </tr>\n",
       "    <tr>\n",
       "      <th>4</th>\n",
       "      <td>0.0404</td>\n",
       "      <td>-0.0927</td>\n",
       "    </tr>\n",
       "  </tbody>\n",
       "</table>\n",
       "</div>"
      ],
      "text/plain": [
       "        X       y\n",
       "0  0.0000 -0.3080\n",
       "1  0.0101 -0.3470\n",
       "2  0.0202 -0.0937\n",
       "3  0.0303 -0.2860\n",
       "4  0.0404 -0.0927"
      ]
     },
     "execution_count": 2,
     "metadata": {},
     "output_type": "execute_result"
    }
   ],
   "source": [
    "df = pd.read_csv('./Task4.csv')\n",
    "\n",
    "df.head(5)"
   ]
  },
  {
   "cell_type": "code",
   "execution_count": 3,
   "metadata": {},
   "outputs": [],
   "source": [
    "X = df['X'].values\n",
    "y = df['y'].values\n"
   ]
  },
  {
   "cell_type": "code",
   "execution_count": 4,
   "metadata": {},
   "outputs": [
    {
     "data": {
      "text/plain": [
       "<matplotlib.collections.PathCollection at 0x7f871ea0eef0>"
      ]
     },
     "execution_count": 4,
     "metadata": {},
     "output_type": "execute_result"
    },
    {
     "data": {
      "image/png": "[encoded data removed]",
      "text/plain": [
       "<Figure size 432x288 with 1 Axes>"
      ]
     },
     "metadata": {
      "needs_background": "light"
     },
     "output_type": "display_data"
    }
   ],
   "source": [
    "plt.scatter(X, y)"
   ]
  },
  {
   "cell_type": "markdown",
   "metadata": {},
   "source": [
    "# Task 4  (CE6002)\n",
    "#### *Copy your linear classification algorithm to the notebook Etivity3_LinearRegression.ipynb available in the git repository. Change your linear classification algorithm to make it suitable for linear regression. Use this to obtain the best possible classification of the data set Task4.csv. Your classification performance should improve if you add some new features.*\n",
    "  "
   ]
  },
  {
   "cell_type": "code",
   "execution_count": 5,
   "metadata": {},
   "outputs": [],
   "source": [
    "class LearningAlgorithm(object):\n",
    "    \"\"\" \n",
    "    Parameters\n",
    "    ------------\n",
    "    rate : float\n",
    "        Learning rate (ranging from 0.0 to 1.0)\n",
    "    number_of_iteration : int\n",
    "        Number of iterations over the input dataset.\n",
    "\n",
    "    Attributes:\n",
    "    ------------\n",
    "\n",
    "    coef_ : 1d-array\n",
    "        Weights after fitting.\n",
    "\n",
    "    errors  : model error\n",
    "        Number of misclassification in every epoch(one full training cycle on the training set)\n",
    "\n",
    "    \"\"\"\n",
    "\n",
    "    def fit(self, X, y):\n",
    "        X_inverse = np.linalg.pinv(X)\n",
    "        w_lin = np.matmul(X_inverse, y)\n",
    "        self.coef_ = w_lin\n",
    "\n",
    "    def dot_product(self, X):\n",
    "        \"\"\" Calculate the dot product \"\"\"\n",
    "        return (np.dot(X, np.transpose(self.coef_)))\n",
    "\n",
    "    def predictClass(self, X):\n",
    "        \"\"\" Predicting the label for the input data \"\"\"\n",
    "        return np.sign(self.dot_product(X)) \n",
    "    \n",
    "\n",
    "    def predict(self, X):\n",
    "        \"\"\" Predicting the label for the input data \"\"\"\n",
    "        return self.dot_product(X)\n",
    "    \n",
    "def calc_mean_square_error(orig, calc):\n",
    "    e_sq = 0\n",
    "    N = len(orig)\n",
    "    for i in range(N):\n",
    "        e_sq += math.pow((orig[i] - calc[i]),2)\n",
    "    return math.sqrt(e_sq/N)\n",
    "\n",
    "# thanks to michel danjou for this method\n",
    "def calc_polynom(weights, X):\n",
    "    h = weights[0]\n",
    "    for i in np.arange(1, len(weights)):\n",
    "        h += weights[i]*X ** i    \n",
    "    return h \n",
    "    \n",
    "def plot_data_and_algorithm(X, y, alg):\n",
    "    test_train_ratio = 0.2\n",
    "    X_shuffled, y_shuffled = shuffle(X, y, random_state=0)\n",
    "    X_train, X_test, y_train, y_test = train_test_split(X_shuffled, y_shuffled, test_size=test_train_ratio, random_state=0)\n",
    "    \n",
    "    alg.fit(X_train, y_train)\n",
    "\n",
    "    minx = np.amin(X_train)\n",
    "    maxx = np.amax(X_train)\n",
    "    s = len(X[:,1])\n",
    "    x_line = np.linspace(minx, maxx, s)\n",
    "    y_line = calc_polynom(alg.coef_, x_line)\n",
    "    plt.plot(x_line, y_line)\n",
    "\n",
    "    \n",
    "    y_out = alg.predict(X_test)\n",
    "    error_mse = calc_mean_square_error(y_out, y_test)\n",
    "    print(\"Error = \",error_mse)\n",
    "    plt.scatter(X[:,1], y, c=y)\n",
    "    \n",
    "    # printing the results away from the actual data so that we are able to identify the test/train data correctly\n",
    "    plt.scatter(X_test[:,1], np.sign(y_out)*2, c=y_test)\n",
    "    \n",
    "def decision_boundary_lin(weights, x_min, x_max):\n",
    "   # Return two points on the decision boundary\n",
    "   return [point_on_boundary_lin(weights, x_min), point_on_boundary_lin(weights, x_max)]\n",
    "\n",
    "def point_on_boundary_lin(weights, x):\n",
    "    # Return the y-position on the boundary based on given x-position\n",
    "    return -(weights[0]+weights[1]*x)/weights[2] \n"
   ]
  },
  {
   "cell_type": "code",
   "execution_count": 6,
   "metadata": {},
   "outputs": [
    {
     "name": "stdout",
     "output_type": "stream",
     "text": [
      "Error =  0.33999752513905723\n"
     ]
    },
    {
     "data": {
      "image/png": "[encoded data removed]",
      "text/plain": [
       "<Figure size 432x288 with 1 Axes>"
      ]
     },
     "metadata": {
      "needs_background": "light"
     },
     "output_type": "display_data"
    }
   ],
   "source": [
    "bias = np.ones(len(X))\n",
    "X_with_bias =  np.vstack((bias,X))\n",
    "Xt = X_with_bias.T\n",
    "\n",
    "p = LearningAlgorithm()\n",
    "plot_data_and_algorithm(Xt, y.T, p)"
   ]
  },
  {
   "cell_type": "markdown",
   "metadata": {},
   "source": [
    "The error rate calculated is around 34%"
   ]
  },
  {
   "cell_type": "markdown",
   "metadata": {},
   "source": [
    "TODO - Calculate the error rate for X_square"
   ]
  },
  {
   "cell_type": "code",
   "execution_count": null,
   "metadata": {},
   "outputs": [],
   "source": []
  }
 ],
 "metadata": {
  "kernelspec": {
   "display_name": "Python 3",
   "language": "python",
   "name": "python3"
  },
  "language_info": {
   "codemirror_mode": {
    "name": "ipython",
    "version": 3
   },
   "file_extension": ".py",
   "mimetype": "text/x-python",
   "name": "python",
   "nbconvert_exporter": "python",
   "pygments_lexer": "ipython3",
   "version": "3.6.8"
  }
 },
 "nbformat": 4,
 "nbformat_minor": 2
}
