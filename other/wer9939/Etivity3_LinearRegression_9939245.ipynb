{
 "cells": [
  {
   "cell_type": "code",
   "execution_count": 3,
   "metadata": {},
   "outputs": [],
   "source": [
    "import matplotlib.pyplot as plt\n",
    "import numpy as np\n",
    "import random\n",
    "import math\n",
    "from sklearn.model_selection import train_test_split\n",
    "\n",
    "# My imports\n",
    "import pandas as pd"
   ]
  },
  {
   "cell_type": "code",
   "execution_count": 29,
   "metadata": {},
   "outputs": [],
   "source": [
    "class MyLinReg(object):\n",
    "    \n",
    "    def __init__ (self, n_weights):\n",
    "        self.weights = np.zeros([(n_weights+1),])\n",
    "        \n",
    "    def fit(self,X,y):\n",
    "        X_1s = np.c_[np.ones([X.shape[0],1]),X]\n",
    "        X_1s_dagger = np.linalg.pinv(X_1s)\n",
    "        self.weights = np.matmul(X_1s_dagger,y)\n",
    "        \n",
    "    def predict(self,X):\n",
    "        X_1s = np.c_[np.ones([X.shape[0],1]),X]\n",
    "        #yhat = np.sign(np.matmul(X_1s,self.weights)) # <-- Used for classifier\n",
    "        yhat = np.matmul(X_1s,self.weights)           # <-- Used for regression \n",
    "        \n",
    "        return yhat\n",
    "    \n",
    "    # For reference and comparison from sklearn classifier classes\n",
    "    #def score(self,X,y):\n",
    "    #    from sklearn.metrics import accuracy_score\n",
    "    #    return accuracy_score(y, self.predict(X), sample_weight=None)\n",
    "    \n",
    "    def score(self,X,y):\n",
    "        yhat = self.predict(X)\n",
    "        errors = 0 \n",
    "        for i in range(len(y)):\n",
    "            if(y[i]!=yhat[i]):\n",
    "                errors+=1\n",
    "                \n",
    "        return 1-(errors/len(y))"
   ]
  },
  {
   "cell_type": "code",
   "execution_count": 5,
   "metadata": {},
   "outputs": [
    {
     "name": "stdout",
     "output_type": "stream",
     "text": [
      "Number of Samples  in Dataset:\t 100\n",
      "Number of Features in Dataset:\t 2\n"
     ]
    }
   ],
   "source": [
    "df = pd.read_csv(\"./Task4.csv\")\n",
    "\n",
    "print(\"Number of Samples  in Dataset:\\t\",df.shape[0])\n",
    "print(\"Number of Features in Dataset:\\t\",df.shape[1])"
   ]
  },
  {
   "cell_type": "code",
   "execution_count": 6,
   "metadata": {},
   "outputs": [
    {
     "data": {
      "text/html": [
       "<div>\n",
       "<style scoped>\n",
       "    .dataframe tbody tr th:only-of-type {\n",
       "        vertical-align: middle;\n",
       "    }\n",
       "\n",
       "    .dataframe tbody tr th {\n",
       "        vertical-align: top;\n",
       "    }\n",
       "\n",
       "    .dataframe thead th {\n",
       "        text-align: right;\n",
       "    }\n",
       "</style>\n",
       "<table border=\"1\" class=\"dataframe\">\n",
       "  <thead>\n",
       "    <tr style=\"text-align: right;\">\n",
       "      <th></th>\n",
       "      <th>X</th>\n",
       "      <th>y</th>\n",
       "    </tr>\n",
       "  </thead>\n",
       "  <tbody>\n",
       "    <tr>\n",
       "      <th>count</th>\n",
       "      <td>100.000000</td>\n",
       "      <td>100.000000</td>\n",
       "    </tr>\n",
       "    <tr>\n",
       "      <th>mean</th>\n",
       "      <td>0.499995</td>\n",
       "      <td>0.786404</td>\n",
       "    </tr>\n",
       "    <tr>\n",
       "      <th>std</th>\n",
       "      <td>0.293037</td>\n",
       "      <td>0.396402</td>\n",
       "    </tr>\n",
       "    <tr>\n",
       "      <th>min</th>\n",
       "      <td>0.000000</td>\n",
       "      <td>-0.347000</td>\n",
       "    </tr>\n",
       "    <tr>\n",
       "      <th>25%</th>\n",
       "      <td>0.250250</td>\n",
       "      <td>0.639750</td>\n",
       "    </tr>\n",
       "    <tr>\n",
       "      <th>50%</th>\n",
       "      <td>0.500000</td>\n",
       "      <td>0.928000</td>\n",
       "    </tr>\n",
       "    <tr>\n",
       "      <th>75%</th>\n",
       "      <td>0.749750</td>\n",
       "      <td>1.075000</td>\n",
       "    </tr>\n",
       "    <tr>\n",
       "      <th>max</th>\n",
       "      <td>1.000000</td>\n",
       "      <td>1.270000</td>\n",
       "    </tr>\n",
       "  </tbody>\n",
       "</table>\n",
       "</div>"
      ],
      "text/plain": [
       "                X           y\n",
       "count  100.000000  100.000000\n",
       "mean     0.499995    0.786404\n",
       "std      0.293037    0.396402\n",
       "min      0.000000   -0.347000\n",
       "25%      0.250250    0.639750\n",
       "50%      0.500000    0.928000\n",
       "75%      0.749750    1.075000\n",
       "max      1.000000    1.270000"
      ]
     },
     "execution_count": 6,
     "metadata": {},
     "output_type": "execute_result"
    }
   ],
   "source": [
    "# Print statistical summary for all attributes\n",
    "df.describe(include='all')"
   ]
  },
  {
   "cell_type": "code",
   "execution_count": 57,
   "metadata": {},
   "outputs": [],
   "source": [
    "X = df['X']\n",
    "X = np.expand_dims(X, axis=1)\n",
    "y = df['y']"
   ]
  },
  {
   "cell_type": "code",
   "execution_count": 58,
   "metadata": {},
   "outputs": [
    {
     "name": "stdout",
     "output_type": "stream",
     "text": [
      "(100, 1)\n",
      "(100,)\n"
     ]
    }
   ],
   "source": [
    "print(X.shape)\n",
    "print(y.shape)"
   ]
  },
  {
   "cell_type": "code",
   "execution_count": 59,
   "metadata": {},
   "outputs": [
    {
     "data": {
      "image/png": "[encoded data removed]",
      "text/plain": [
       "<Figure size 720x720 with 1 Axes>"
      ]
     },
     "metadata": {
      "needs_background": "light"
     },
     "output_type": "display_data"
    }
   ],
   "source": [
    "# Plot Training Data\n",
    "plt.rcParams[\"figure.figsize\"] = (10, 10) \n",
    "#plt.title(\"Dataset with Decision Boundary\")\n",
    "plt.scatter(X, y) \n",
    "\n",
    "\n",
    "plt.show() "
   ]
  },
  {
   "cell_type": "code",
   "execution_count": 60,
   "metadata": {},
   "outputs": [],
   "source": [
    "df['Xsqrd'] = (X)**2"
   ]
  },
  {
   "cell_type": "code",
   "execution_count": 61,
   "metadata": {},
   "outputs": [
    {
     "data": {
      "text/html": [
       "<div>\n",
       "<style scoped>\n",
       "    .dataframe tbody tr th:only-of-type {\n",
       "        vertical-align: middle;\n",
       "    }\n",
       "\n",
       "    .dataframe tbody tr th {\n",
       "        vertical-align: top;\n",
       "    }\n",
       "\n",
       "    .dataframe thead th {\n",
       "        text-align: right;\n",
       "    }\n",
       "</style>\n",
       "<table border=\"1\" class=\"dataframe\">\n",
       "  <thead>\n",
       "    <tr style=\"text-align: right;\">\n",
       "      <th></th>\n",
       "      <th>X</th>\n",
       "      <th>y</th>\n",
       "      <th>Xsqrd</th>\n",
       "    </tr>\n",
       "  </thead>\n",
       "  <tbody>\n",
       "    <tr>\n",
       "      <th>count</th>\n",
       "      <td>100.000000</td>\n",
       "      <td>100.000000</td>\n",
       "      <td>100.000000</td>\n",
       "    </tr>\n",
       "    <tr>\n",
       "      <th>mean</th>\n",
       "      <td>0.499995</td>\n",
       "      <td>0.786404</td>\n",
       "      <td>0.335007</td>\n",
       "    </tr>\n",
       "    <tr>\n",
       "      <th>std</th>\n",
       "      <td>0.293037</td>\n",
       "      <td>0.396402</td>\n",
       "      <td>0.302833</td>\n",
       "    </tr>\n",
       "    <tr>\n",
       "      <th>min</th>\n",
       "      <td>0.000000</td>\n",
       "      <td>-0.347000</td>\n",
       "      <td>0.000000</td>\n",
       "    </tr>\n",
       "    <tr>\n",
       "      <th>25%</th>\n",
       "      <td>0.250250</td>\n",
       "      <td>0.639750</td>\n",
       "      <td>0.062648</td>\n",
       "    </tr>\n",
       "    <tr>\n",
       "      <th>50%</th>\n",
       "      <td>0.500000</td>\n",
       "      <td>0.928000</td>\n",
       "      <td>0.250025</td>\n",
       "    </tr>\n",
       "    <tr>\n",
       "      <th>75%</th>\n",
       "      <td>0.749750</td>\n",
       "      <td>1.075000</td>\n",
       "      <td>0.562148</td>\n",
       "    </tr>\n",
       "    <tr>\n",
       "      <th>max</th>\n",
       "      <td>1.000000</td>\n",
       "      <td>1.270000</td>\n",
       "      <td>1.000000</td>\n",
       "    </tr>\n",
       "  </tbody>\n",
       "</table>\n",
       "</div>"
      ],
      "text/plain": [
       "                X           y       Xsqrd\n",
       "count  100.000000  100.000000  100.000000\n",
       "mean     0.499995    0.786404    0.335007\n",
       "std      0.293037    0.396402    0.302833\n",
       "min      0.000000   -0.347000    0.000000\n",
       "25%      0.250250    0.639750    0.062648\n",
       "50%      0.500000    0.928000    0.250025\n",
       "75%      0.749750    1.075000    0.562148\n",
       "max      1.000000    1.270000    1.000000"
      ]
     },
     "execution_count": 61,
     "metadata": {},
     "output_type": "execute_result"
    }
   ],
   "source": [
    "df.describe(include='all')"
   ]
  },
  {
   "cell_type": "code",
   "execution_count": 62,
   "metadata": {},
   "outputs": [
    {
     "data": {
      "text/html": [
       "<div>\n",
       "<style scoped>\n",
       "    .dataframe tbody tr th:only-of-type {\n",
       "        vertical-align: middle;\n",
       "    }\n",
       "\n",
       "    .dataframe tbody tr th {\n",
       "        vertical-align: top;\n",
       "    }\n",
       "\n",
       "    .dataframe thead th {\n",
       "        text-align: right;\n",
       "    }\n",
       "</style>\n",
       "<table border=\"1\" class=\"dataframe\">\n",
       "  <thead>\n",
       "    <tr style=\"text-align: right;\">\n",
       "      <th></th>\n",
       "      <th>X</th>\n",
       "      <th>y</th>\n",
       "      <th>Xsqrd</th>\n",
       "    </tr>\n",
       "  </thead>\n",
       "  <tbody>\n",
       "    <tr>\n",
       "      <th>0</th>\n",
       "      <td>0.0000</td>\n",
       "      <td>-0.3080</td>\n",
       "      <td>0.000000</td>\n",
       "    </tr>\n",
       "    <tr>\n",
       "      <th>1</th>\n",
       "      <td>0.0101</td>\n",
       "      <td>-0.3470</td>\n",
       "      <td>0.000102</td>\n",
       "    </tr>\n",
       "    <tr>\n",
       "      <th>2</th>\n",
       "      <td>0.0202</td>\n",
       "      <td>-0.0937</td>\n",
       "      <td>0.000408</td>\n",
       "    </tr>\n",
       "    <tr>\n",
       "      <th>3</th>\n",
       "      <td>0.0303</td>\n",
       "      <td>-0.2860</td>\n",
       "      <td>0.000918</td>\n",
       "    </tr>\n",
       "    <tr>\n",
       "      <th>4</th>\n",
       "      <td>0.0404</td>\n",
       "      <td>-0.0927</td>\n",
       "      <td>0.001632</td>\n",
       "    </tr>\n",
       "  </tbody>\n",
       "</table>\n",
       "</div>"
      ],
      "text/plain": [
       "        X       y     Xsqrd\n",
       "0  0.0000 -0.3080  0.000000\n",
       "1  0.0101 -0.3470  0.000102\n",
       "2  0.0202 -0.0937  0.000408\n",
       "3  0.0303 -0.2860  0.000918\n",
       "4  0.0404 -0.0927  0.001632"
      ]
     },
     "execution_count": 62,
     "metadata": {},
     "output_type": "execute_result"
    }
   ],
   "source": [
    "df.head()"
   ]
  },
  {
   "cell_type": "code",
   "execution_count": 63,
   "metadata": {},
   "outputs": [],
   "source": [
    "X_parab = df[['X','Xsqrd']].values"
   ]
  },
  {
   "cell_type": "code",
   "execution_count": 49,
   "metadata": {},
   "outputs": [
    {
     "name": "stdout",
     "output_type": "stream",
     "text": [
      "[[0.00000e+00 0.00000e+00]\n",
      " [1.01000e-02 1.02010e-04]\n",
      " [2.02000e-02 4.08040e-04]\n",
      " [3.03000e-02 9.18090e-04]\n",
      " [4.04000e-02 1.63216e-03]\n",
      " [5.05000e-02 2.55025e-03]\n",
      " [6.06000e-02 3.67236e-03]\n",
      " [7.07000e-02 4.99849e-03]\n",
      " [8.08000e-02 6.52864e-03]\n",
      " [9.09000e-02 8.26281e-03]\n",
      " [1.01000e-01 1.02010e-02]\n",
      " [1.11000e-01 1.23210e-02]\n",
      " [1.21000e-01 1.46410e-02]\n",
      " [1.31000e-01 1.71610e-02]\n",
      " [1.41000e-01 1.98810e-02]\n",
      " [1.52000e-01 2.31040e-02]\n",
      " [1.62000e-01 2.62440e-02]\n",
      " [1.72000e-01 2.95840e-02]\n",
      " [1.82000e-01 3.31240e-02]\n",
      " [1.92000e-01 3.68640e-02]\n",
      " [2.02000e-01 4.08040e-02]\n",
      " [2.12000e-01 4.49440e-02]\n",
      " [2.22000e-01 4.92840e-02]\n",
      " [2.32000e-01 5.38240e-02]\n",
      " [2.42000e-01 5.85640e-02]\n",
      " [2.53000e-01 6.40090e-02]\n",
      " [2.63000e-01 6.91690e-02]\n",
      " [2.73000e-01 7.45290e-02]\n",
      " [2.83000e-01 8.00890e-02]\n",
      " [2.93000e-01 8.58490e-02]\n",
      " [3.03000e-01 9.18090e-02]\n",
      " [3.13000e-01 9.79690e-02]\n",
      " [3.23000e-01 1.04329e-01]\n",
      " [3.33000e-01 1.10889e-01]\n",
      " [3.43000e-01 1.17649e-01]\n",
      " [3.54000e-01 1.25316e-01]\n",
      " [3.64000e-01 1.32496e-01]\n",
      " [3.74000e-01 1.39876e-01]\n",
      " [3.84000e-01 1.47456e-01]\n",
      " [3.94000e-01 1.55236e-01]\n",
      " [4.04000e-01 1.63216e-01]\n",
      " [4.14000e-01 1.71396e-01]\n",
      " [4.24000e-01 1.79776e-01]\n",
      " [4.34000e-01 1.88356e-01]\n",
      " [4.44000e-01 1.97136e-01]\n",
      " [4.55000e-01 2.07025e-01]\n",
      " [4.65000e-01 2.16225e-01]\n",
      " [4.75000e-01 2.25625e-01]\n",
      " [4.85000e-01 2.35225e-01]\n",
      " [4.95000e-01 2.45025e-01]\n",
      " [5.05000e-01 2.55025e-01]\n",
      " [5.15000e-01 2.65225e-01]\n",
      " [5.25000e-01 2.75625e-01]\n",
      " [5.35000e-01 2.86225e-01]\n",
      " [5.45000e-01 2.97025e-01]\n",
      " [5.56000e-01 3.09136e-01]\n",
      " [5.66000e-01 3.20356e-01]\n",
      " [5.76000e-01 3.31776e-01]\n",
      " [5.86000e-01 3.43396e-01]\n",
      " [5.96000e-01 3.55216e-01]\n",
      " [6.06000e-01 3.67236e-01]\n",
      " [6.16000e-01 3.79456e-01]\n",
      " [6.26000e-01 3.91876e-01]\n",
      " [6.36000e-01 4.04496e-01]\n",
      " [6.46000e-01 4.17316e-01]\n",
      " [6.57000e-01 4.31649e-01]\n",
      " [6.67000e-01 4.44889e-01]\n",
      " [6.77000e-01 4.58329e-01]\n",
      " [6.87000e-01 4.71969e-01]\n",
      " [6.97000e-01 4.85809e-01]\n",
      " [7.07000e-01 4.99849e-01]\n",
      " [7.17000e-01 5.14089e-01]\n",
      " [7.27000e-01 5.28529e-01]\n",
      " [7.37000e-01 5.43169e-01]\n",
      " [7.47000e-01 5.58009e-01]\n",
      " [7.58000e-01 5.74564e-01]\n",
      " [7.68000e-01 5.89824e-01]\n",
      " [7.78000e-01 6.05284e-01]\n",
      " [7.88000e-01 6.20944e-01]\n",
      " [7.98000e-01 6.36804e-01]\n",
      " [8.08000e-01 6.52864e-01]\n",
      " [8.18000e-01 6.69124e-01]\n",
      " [8.28000e-01 6.85584e-01]\n",
      " [8.38000e-01 7.02244e-01]\n",
      " [8.48000e-01 7.19104e-01]\n",
      " [8.59000e-01 7.37881e-01]\n",
      " [8.69000e-01 7.55161e-01]\n",
      " [8.79000e-01 7.72641e-01]\n",
      " [8.89000e-01 7.90321e-01]\n",
      " [8.99000e-01 8.08201e-01]\n",
      " [9.09000e-01 8.26281e-01]\n",
      " [9.19000e-01 8.44561e-01]\n",
      " [9.29000e-01 8.63041e-01]\n",
      " [9.39000e-01 8.81721e-01]\n",
      " [9.49000e-01 9.00601e-01]\n",
      " [9.60000e-01 9.21600e-01]\n",
      " [9.70000e-01 9.40900e-01]\n",
      " [9.80000e-01 9.60400e-01]\n",
      " [9.90000e-01 9.80100e-01]\n",
      " [1.00000e+00 1.00000e+00]]\n"
     ]
    }
   ],
   "source": [
    "print(X_parab)"
   ]
  },
  {
   "cell_type": "code",
   "execution_count": 64,
   "metadata": {},
   "outputs": [],
   "source": [
    "mlr_orig = MyLinReg(X.shape[1])\n",
    "mlr_orig.fit(X,y)"
   ]
  },
  {
   "cell_type": "code",
   "execution_count": 65,
   "metadata": {},
   "outputs": [],
   "source": [
    "yhat_orig = mlr_orig.predict(X)"
   ]
  },
  {
   "cell_type": "code",
   "execution_count": 66,
   "metadata": {},
   "outputs": [],
   "source": [
    "mlr_parab = MyLinReg(X_parab.shape[1])\n",
    "mlr_parab.fit(X_parab,y)"
   ]
  },
  {
   "cell_type": "code",
   "execution_count": 67,
   "metadata": {},
   "outputs": [],
   "source": [
    "yhat_parab = mlr_parab.predict(X_parab)"
   ]
  },
  {
   "cell_type": "code",
   "execution_count": 69,
   "metadata": {},
   "outputs": [
    {
     "data": {
      "image/png": "[encoded data removed]",
      "text/plain": [
       "<Figure size 720x720 with 1 Axes>"
      ]
     },
     "metadata": {
      "needs_background": "light"
     },
     "output_type": "display_data"
    }
   ],
   "source": [
    "# Plot Training Data\n",
    "plt.rcParams[\"figure.figsize\"] = (10, 10) \n",
    "#plt.title(\"Dataset with Decision Boundary\")\n",
    "plt.scatter(X, yhat_parab)\n",
    "plt.scatter(X, yhat_orig)\n",
    "plt.scatter(X, y) \n",
    "\n",
    "\n",
    "plt.show() "
   ]
  },
  {
   "cell_type": "code",
   "execution_count": null,
   "metadata": {},
   "outputs": [],
   "source": []
  }
 ],
 "metadata": {
  "kernelspec": {
   "display_name": "Python 3",
   "language": "python",
   "name": "python3"
  },
  "language_info": {
   "codemirror_mode": {
    "name": "ipython",
    "version": 3
   },
   "file_extension": ".py",
   "mimetype": "text/x-python",
   "name": "python",
   "nbconvert_exporter": "python",
   "pygments_lexer": "ipython3",
   "version": "3.7.1"
  }
 },
 "nbformat": 4,
 "nbformat_minor": 2
}
