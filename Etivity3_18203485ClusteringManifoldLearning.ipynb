{
 "cells": [
  {
   "cell_type": "markdown",
   "metadata": {},
   "source": [
    "# Student ID: 18203485\n",
    "# Name : Fergus Mc Hale"
   ]
  },
  {
   "cell_type": "markdown",
   "metadata": {},
   "source": [
    "# E-tivity 3: Clustering and Manifold Learning"
   ]
  },
  {
   "cell_type": "markdown",
   "metadata": {},
   "source": [
    "Use this notebook to complete Tasks 1 and 2 in E-tivity3."
   ]
  },
  {
   "cell_type": "code",
   "execution_count": 1,
   "metadata": {},
   "outputs": [],
   "source": [
    "import pandas as pd\n",
    "import numpy as np\n",
    "import matplotlib.pyplot as plt\n",
    "\n",
    "from sklearn import manifold\n",
    "from sklearn import cluster\n",
    "from sklearn import preprocessing\n",
    "\n",
    "from sklearn.metrics import silhouette_samples, silhouette_score\n",
    "import matplotlib.cm as cm\n",
    "from matplotlib.ticker import NullFormatter\n",
    "import warnings\n",
    "warnings.filterwarnings(\"ignore\")"
   ]
  },
  {
   "cell_type": "markdown",
   "metadata": {},
   "source": [
    "# Task 1 (CS5062)"
   ]
  },
  {
   "cell_type": "markdown",
   "metadata": {},
   "source": [
    "Follow the examples in the notebook Lab 3 - Clustering and Manifold Learning.ipynb to cluster loans_dataset_et3.csv with the k-Means clustering algorithm and visualise the clustering. Use an appropriate feature-scaling technique and pick a value of k suggested by MDS and t-SNE visualisations of the dataset. Experiment with various values of the parameters of k-Means. Aim at producing a meaningful clustering that allows you to describe the clusters with words. Write a short conclusion about the characteristics of the clusters (max 250 words)."
   ]
  },
  {
   "cell_type": "code",
   "execution_count": 2,
   "metadata": {},
   "outputs": [],
   "source": [
    "etv3_df = pd.read_csv(\"./loans_dataset_et3.csv\")"
   ]
  },
  {
   "cell_type": "code",
   "execution_count": 3,
   "metadata": {},
   "outputs": [],
   "source": [
    "numerical_cat = etv3_df._get_numeric_data().columns"
   ]
  },
  {
   "cell_type": "code",
   "execution_count": 4,
   "metadata": {},
   "outputs": [
    {
     "data": {
      "text/plain": [
       "5"
      ]
     },
     "execution_count": 4,
     "metadata": {},
     "output_type": "execute_result"
    }
   ],
   "source": [
    "len(numerical_cat)"
   ]
  },
  {
   "cell_type": "code",
   "execution_count": 5,
   "metadata": {},
   "outputs": [],
   "source": [
    "def display_field_info(category_type):\n",
    "    if(len(category_type) > 0):\n",
    "        for key in category_type:\n",
    "            print(\"\\n______\\t\",key,\"\\t_________\")\n",
    "            print(\"Total Values = \\t\",etv3_df[key].count(),\"\\n\")\n",
    "            print(etv3_df[key].value_counts())\n",
    "            print(\"_________________________________________\")"
   ]
  },
  {
   "cell_type": "code",
   "execution_count": 6,
   "metadata": {},
   "outputs": [
    {
     "name": "stdout",
     "output_type": "stream",
     "text": [
      "\n",
      "______\t ApplicantIncome \t_________\n",
      "Total Values = \t 332 \n",
      "\n",
      "2500     6\n",
      "6250     4\n",
      "8333     4\n",
      "6000     3\n",
      "3500     3\n",
      "2583     2\n",
      "14583    2\n",
      "3466     2\n",
      "2333     2\n",
      "2600     2\n",
      "3750     2\n",
      "3173     2\n",
      "2666     2\n",
      "9323     2\n",
      "3333     2\n",
      "3000     2\n",
      "5417     2\n",
      "3859     2\n",
      "4166     2\n",
      "4583     2\n",
      "5703     2\n",
      "3159     2\n",
      "2479     2\n",
      "4000     2\n",
      "3083     2\n",
      "5000     2\n",
      "5800     1\n",
      "14880    1\n",
      "4750     1\n",
      "3246     1\n",
      "        ..\n",
      "1875     1\n",
      "2900     1\n",
      "4950     1\n",
      "3927     1\n",
      "3417     1\n",
      "17500    1\n",
      "5468     1\n",
      "2400     1\n",
      "5285     1\n",
      "2917     1\n",
      "4009     1\n",
      "2920     1\n",
      "3406     1\n",
      "3917     1\n",
      "3667     1\n",
      "3400     1\n",
      "4188     1\n",
      "5955     1\n",
      "2882     1\n",
      "2083     1\n",
      "3902     1\n",
      "3900     1\n",
      "4923     1\n",
      "10750    1\n",
      "8072     1\n",
      "4408     1\n",
      "3073     1\n",
      "4917     1\n",
      "3316     1\n",
      "3691     1\n",
      "Name: ApplicantIncome, Length: 296, dtype: int64\n",
      "_________________________________________\n",
      "\n",
      "______\t CoapplicantIncome \t_________\n",
      "Total Values = \t 332 \n",
      "\n",
      "0.0        141\n",
      "5625.0       3\n",
      "2500.0       3\n",
      "1666.0       3\n",
      "2531.0       2\n",
      "2250.0       2\n",
      "1459.0       2\n",
      "2054.0       2\n",
      "1950.0       2\n",
      "1750.0       2\n",
      "3750.0       2\n",
      "3167.0       2\n",
      "1300.0       2\n",
      "1560.0       2\n",
      "2167.0       2\n",
      "2083.0       2\n",
      "2014.0       1\n",
      "8106.0       1\n",
      "4648.0       1\n",
      "1993.0       1\n",
      "1483.0       1\n",
      "2188.0       1\n",
      "1210.0       1\n",
      "2275.0       1\n",
      "1857.0       1\n",
      "3300.0       1\n",
      "7873.0       1\n",
      "2669.0       1\n",
      "2223.0       1\n",
      "20000.0      1\n",
      "          ... \n",
      "1014.0       1\n",
      "2436.0       1\n",
      "1964.0       1\n",
      "1411.0       1\n",
      "2232.0       1\n",
      "1700.0       1\n",
      "3667.0       1\n",
      "2859.0       1\n",
      "4196.0       1\n",
      "2900.0       1\n",
      "2004.0       1\n",
      "1803.0       1\n",
      "2253.0       1\n",
      "3021.0       1\n",
      "1213.0       1\n",
      "1851.0       1\n",
      "2739.0       1\n",
      "1833.0       1\n",
      "1447.0       1\n",
      "2417.0       1\n",
      "2283.0       1\n",
      "754.0        1\n",
      "5701.0       1\n",
      "2209.0       1\n",
      "2168.0       1\n",
      "1526.0       1\n",
      "1868.0       1\n",
      "1820.0       1\n",
      "3500.0       1\n",
      "2466.0       1\n",
      "Name: CoapplicantIncome, Length: 174, dtype: int64\n",
      "_________________________________________\n",
      "\n",
      "______\t LoanAmount \t_________\n",
      "Total Values = \t 332 \n",
      "\n",
      "120    11\n",
      "100    10\n",
      "187     9\n",
      "110     9\n",
      "130     8\n",
      "128     7\n",
      "115     6\n",
      "136     5\n",
      "144     5\n",
      "90      5\n",
      "96      5\n",
      "150     5\n",
      "200     5\n",
      "70      5\n",
      "125     5\n",
      "108     5\n",
      "113     5\n",
      "140     4\n",
      "137     4\n",
      "131     4\n",
      "95      4\n",
      "104     4\n",
      "112     4\n",
      "50      4\n",
      "122     3\n",
      "188     3\n",
      "158     3\n",
      "160     3\n",
      "162     3\n",
      "111     3\n",
      "       ..\n",
      "324     1\n",
      "380     1\n",
      "400     1\n",
      "436     1\n",
      "211     1\n",
      "208     1\n",
      "207     1\n",
      "205     1\n",
      "118     1\n",
      "121     1\n",
      "129     1\n",
      "480     1\n",
      "139     1\n",
      "142     1\n",
      "143     1\n",
      "145     1\n",
      "153     1\n",
      "156     1\n",
      "161     1\n",
      "165     1\n",
      "166     1\n",
      "170     1\n",
      "173     1\n",
      "176     1\n",
      "182     1\n",
      "186     1\n",
      "191     1\n",
      "192     1\n",
      "194     1\n",
      "17      1\n",
      "Name: LoanAmount, Length: 148, dtype: int64\n",
      "_________________________________________\n",
      "\n",
      "______\t Loan_Amount_Term \t_________\n",
      "Total Values = \t 332 \n",
      "\n",
      "360    292\n",
      "180     24\n",
      "480      4\n",
      "300      4\n",
      "120      3\n",
      "84       2\n",
      "60       2\n",
      "240      1\n",
      "Name: Loan_Amount_Term, dtype: int64\n",
      "_________________________________________\n",
      "\n",
      "______\t Credit_History \t_________\n",
      "Total Values = \t 332 \n",
      "\n",
      "1    325\n",
      "0      7\n",
      "Name: Credit_History, dtype: int64\n",
      "_________________________________________\n"
     ]
    }
   ],
   "source": [
    "display_field_info(numerical_cat)"
   ]
  },
  {
   "cell_type": "code",
   "execution_count": 7,
   "metadata": {},
   "outputs": [
    {
     "data": {
      "text/html": [
       "<div>\n",
       "<style scoped>\n",
       "    .dataframe tbody tr th:only-of-type {\n",
       "        vertical-align: middle;\n",
       "    }\n",
       "\n",
       "    .dataframe tbody tr th {\n",
       "        vertical-align: top;\n",
       "    }\n",
       "\n",
       "    .dataframe thead th {\n",
       "        text-align: right;\n",
       "    }\n",
       "</style>\n",
       "<table border=\"1\" class=\"dataframe\">\n",
       "  <thead>\n",
       "    <tr style=\"text-align: right;\">\n",
       "      <th></th>\n",
       "      <th>ApplicantIncome</th>\n",
       "      <th>CoapplicantIncome</th>\n",
       "      <th>LoanAmount</th>\n",
       "      <th>Loan_Amount_Term</th>\n",
       "      <th>Credit_History</th>\n",
       "    </tr>\n",
       "  </thead>\n",
       "  <tbody>\n",
       "    <tr>\n",
       "      <th>0</th>\n",
       "      <td>2483</td>\n",
       "      <td>2466.0</td>\n",
       "      <td>90</td>\n",
       "      <td>180</td>\n",
       "      <td>0</td>\n",
       "    </tr>\n",
       "    <tr>\n",
       "      <th>1</th>\n",
       "      <td>4917</td>\n",
       "      <td>0.0</td>\n",
       "      <td>130</td>\n",
       "      <td>360</td>\n",
       "      <td>0</td>\n",
       "    </tr>\n",
       "    <tr>\n",
       "      <th>2</th>\n",
       "      <td>4106</td>\n",
       "      <td>0.0</td>\n",
       "      <td>40</td>\n",
       "      <td>180</td>\n",
       "      <td>1</td>\n",
       "    </tr>\n",
       "    <tr>\n",
       "      <th>3</th>\n",
       "      <td>3859</td>\n",
       "      <td>3300.0</td>\n",
       "      <td>142</td>\n",
       "      <td>180</td>\n",
       "      <td>1</td>\n",
       "    </tr>\n",
       "    <tr>\n",
       "      <th>4</th>\n",
       "      <td>6417</td>\n",
       "      <td>0.0</td>\n",
       "      <td>157</td>\n",
       "      <td>180</td>\n",
       "      <td>1</td>\n",
       "    </tr>\n",
       "  </tbody>\n",
       "</table>\n",
       "</div>"
      ],
      "text/plain": [
       "   ApplicantIncome  CoapplicantIncome  LoanAmount  Loan_Amount_Term  \\\n",
       "0             2483             2466.0          90               180   \n",
       "1             4917                0.0         130               360   \n",
       "2             4106                0.0          40               180   \n",
       "3             3859             3300.0         142               180   \n",
       "4             6417                0.0         157               180   \n",
       "\n",
       "   Credit_History  \n",
       "0               0  \n",
       "1               0  \n",
       "2               1  \n",
       "3               1  \n",
       "4               1  "
      ]
     },
     "execution_count": 7,
     "metadata": {},
     "output_type": "execute_result"
    }
   ],
   "source": [
    "etv3_df.head(5)"
   ]
  },
  {
   "cell_type": "code",
   "execution_count": 8,
   "metadata": {},
   "outputs": [
    {
     "data": {
      "text/html": [
       "<div>\n",
       "<style scoped>\n",
       "    .dataframe tbody tr th:only-of-type {\n",
       "        vertical-align: middle;\n",
       "    }\n",
       "\n",
       "    .dataframe tbody tr th {\n",
       "        vertical-align: top;\n",
       "    }\n",
       "\n",
       "    .dataframe thead th {\n",
       "        text-align: right;\n",
       "    }\n",
       "</style>\n",
       "<table border=\"1\" class=\"dataframe\">\n",
       "  <thead>\n",
       "    <tr style=\"text-align: right;\">\n",
       "      <th></th>\n",
       "      <th>ApplicantIncome</th>\n",
       "      <th>CoapplicantIncome</th>\n",
       "      <th>LoanAmount</th>\n",
       "      <th>Loan_Amount_Term</th>\n",
       "      <th>Credit_History</th>\n",
       "    </tr>\n",
       "  </thead>\n",
       "  <tbody>\n",
       "    <tr>\n",
       "      <th>327</th>\n",
       "      <td>5417</td>\n",
       "      <td>4196.0</td>\n",
       "      <td>267</td>\n",
       "      <td>360</td>\n",
       "      <td>1</td>\n",
       "    </tr>\n",
       "    <tr>\n",
       "      <th>328</th>\n",
       "      <td>16666</td>\n",
       "      <td>0.0</td>\n",
       "      <td>275</td>\n",
       "      <td>360</td>\n",
       "      <td>1</td>\n",
       "    </tr>\n",
       "    <tr>\n",
       "      <th>329</th>\n",
       "      <td>10750</td>\n",
       "      <td>0.0</td>\n",
       "      <td>312</td>\n",
       "      <td>360</td>\n",
       "      <td>1</td>\n",
       "    </tr>\n",
       "    <tr>\n",
       "      <th>330</th>\n",
       "      <td>5955</td>\n",
       "      <td>5625.0</td>\n",
       "      <td>315</td>\n",
       "      <td>360</td>\n",
       "      <td>1</td>\n",
       "    </tr>\n",
       "    <tr>\n",
       "      <th>331</th>\n",
       "      <td>6133</td>\n",
       "      <td>3906.0</td>\n",
       "      <td>324</td>\n",
       "      <td>360</td>\n",
       "      <td>1</td>\n",
       "    </tr>\n",
       "  </tbody>\n",
       "</table>\n",
       "</div>"
      ],
      "text/plain": [
       "     ApplicantIncome  CoapplicantIncome  LoanAmount  Loan_Amount_Term  \\\n",
       "327             5417             4196.0         267               360   \n",
       "328            16666                0.0         275               360   \n",
       "329            10750                0.0         312               360   \n",
       "330             5955             5625.0         315               360   \n",
       "331             6133             3906.0         324               360   \n",
       "\n",
       "     Credit_History  \n",
       "327               1  \n",
       "328               1  \n",
       "329               1  \n",
       "330               1  \n",
       "331               1  "
      ]
     },
     "execution_count": 8,
     "metadata": {},
     "output_type": "execute_result"
    }
   ],
   "source": [
    "etv3_df.tail(5)"
   ]
  },
  {
   "cell_type": "code",
   "execution_count": 9,
   "metadata": {},
   "outputs": [
    {
     "data": {
      "text/html": [
       "<div>\n",
       "<style scoped>\n",
       "    .dataframe tbody tr th:only-of-type {\n",
       "        vertical-align: middle;\n",
       "    }\n",
       "\n",
       "    .dataframe tbody tr th {\n",
       "        vertical-align: top;\n",
       "    }\n",
       "\n",
       "    .dataframe thead th {\n",
       "        text-align: right;\n",
       "    }\n",
       "</style>\n",
       "<table border=\"1\" class=\"dataframe\">\n",
       "  <thead>\n",
       "    <tr style=\"text-align: right;\">\n",
       "      <th></th>\n",
       "      <th>ApplicantIncome</th>\n",
       "      <th>CoapplicantIncome</th>\n",
       "      <th>LoanAmount</th>\n",
       "      <th>Loan_Amount_Term</th>\n",
       "      <th>Credit_History</th>\n",
       "    </tr>\n",
       "  </thead>\n",
       "  <tbody>\n",
       "    <tr>\n",
       "      <th>count</th>\n",
       "      <td>332.000000</td>\n",
       "      <td>332.000000</td>\n",
       "      <td>332.000000</td>\n",
       "      <td>332.000000</td>\n",
       "      <td>332.000000</td>\n",
       "    </tr>\n",
       "    <tr>\n",
       "      <th>mean</th>\n",
       "      <td>5201.093373</td>\n",
       "      <td>1495.508795</td>\n",
       "      <td>140.882530</td>\n",
       "      <td>341.710843</td>\n",
       "      <td>0.978916</td>\n",
       "    </tr>\n",
       "    <tr>\n",
       "      <th>std</th>\n",
       "      <td>4584.815491</td>\n",
       "      <td>1982.742932</td>\n",
       "      <td>75.544237</td>\n",
       "      <td>61.651497</td>\n",
       "      <td>0.143882</td>\n",
       "    </tr>\n",
       "    <tr>\n",
       "      <th>min</th>\n",
       "      <td>645.000000</td>\n",
       "      <td>0.000000</td>\n",
       "      <td>17.000000</td>\n",
       "      <td>60.000000</td>\n",
       "      <td>0.000000</td>\n",
       "    </tr>\n",
       "    <tr>\n",
       "      <th>25%</th>\n",
       "      <td>2912.750000</td>\n",
       "      <td>0.000000</td>\n",
       "      <td>100.000000</td>\n",
       "      <td>360.000000</td>\n",
       "      <td>1.000000</td>\n",
       "    </tr>\n",
       "    <tr>\n",
       "      <th>50%</th>\n",
       "      <td>3858.500000</td>\n",
       "      <td>1211.500000</td>\n",
       "      <td>128.000000</td>\n",
       "      <td>360.000000</td>\n",
       "      <td>1.000000</td>\n",
       "    </tr>\n",
       "    <tr>\n",
       "      <th>75%</th>\n",
       "      <td>5818.250000</td>\n",
       "      <td>2250.000000</td>\n",
       "      <td>162.000000</td>\n",
       "      <td>360.000000</td>\n",
       "      <td>1.000000</td>\n",
       "    </tr>\n",
       "    <tr>\n",
       "      <th>max</th>\n",
       "      <td>39999.000000</td>\n",
       "      <td>20000.000000</td>\n",
       "      <td>600.000000</td>\n",
       "      <td>480.000000</td>\n",
       "      <td>1.000000</td>\n",
       "    </tr>\n",
       "  </tbody>\n",
       "</table>\n",
       "</div>"
      ],
      "text/plain": [
       "       ApplicantIncome  CoapplicantIncome  LoanAmount  Loan_Amount_Term  \\\n",
       "count       332.000000         332.000000  332.000000        332.000000   \n",
       "mean       5201.093373        1495.508795  140.882530        341.710843   \n",
       "std        4584.815491        1982.742932   75.544237         61.651497   \n",
       "min         645.000000           0.000000   17.000000         60.000000   \n",
       "25%        2912.750000           0.000000  100.000000        360.000000   \n",
       "50%        3858.500000        1211.500000  128.000000        360.000000   \n",
       "75%        5818.250000        2250.000000  162.000000        360.000000   \n",
       "max       39999.000000       20000.000000  600.000000        480.000000   \n",
       "\n",
       "       Credit_History  \n",
       "count      332.000000  \n",
       "mean         0.978916  \n",
       "std          0.143882  \n",
       "min          0.000000  \n",
       "25%          1.000000  \n",
       "50%          1.000000  \n",
       "75%          1.000000  \n",
       "max          1.000000  "
      ]
     },
     "execution_count": 9,
     "metadata": {},
     "output_type": "execute_result"
    }
   ],
   "source": [
    "etv3_df.describe()"
   ]
  },
  {
   "cell_type": "code",
   "execution_count": 10,
   "metadata": {},
   "outputs": [
    {
     "name": "stdout",
     "output_type": "stream",
     "text": [
      "(number of examples, number of attributes):  (332, 5)\n"
     ]
    }
   ],
   "source": [
    "etv3_df = np.array(etv3_df.values, dtype=float)\n",
    "print('(number of examples, number of attributes): ', etv3_df.shape)"
   ]
  },
  {
   "cell_type": "code",
   "execution_count": 11,
   "metadata": {},
   "outputs": [],
   "source": [
    "min_max_scaler = preprocessing.MinMaxScaler()\n",
    "etv3_data = min_max_scaler.fit_transform(etv3_df)"
   ]
  },
  {
   "cell_type": "code",
   "execution_count": 12,
   "metadata": {},
   "outputs": [],
   "source": [
    "colors = np.array(['orange', 'blue', 'lime', 'blue', 'khaki', 'pink', 'green', 'purple'])"
   ]
  },
  {
   "cell_type": "code",
   "execution_count": 13,
   "metadata": {},
   "outputs": [],
   "source": [
    "def clustering_scatterplot(points, labels, centers, title):\n",
    "    # plot the examples, i.e. the data points\n",
    "    \n",
    "    n_clusters = np.unique(labels).size\n",
    "    for i in range(n_clusters):\n",
    "        h = plt.scatter(points[labels==i,0],\n",
    "                        points[labels==i,1], \n",
    "                        c=colors[i%colors.size],\n",
    "                        label = 'cluster '+str(i))\n",
    "\n",
    "    # plot the centers of the clusters\n",
    "    if centers is not None:\n",
    "        plt.scatter(centers[:,0], centers[:,1], c='r', marker='*', s=500)\n",
    "\n",
    "    _ = plt.title(title)\n",
    "    _ = plt.legend()\n",
    "    _ = plt.xlabel('x')\n",
    "    _ = plt.ylabel('y')"
   ]
  },
  {
   "cell_type": "code",
   "execution_count": 14,
   "metadata": {},
   "outputs": [],
   "source": [
    "k = 7"
   ]
  },
  {
   "cell_type": "code",
   "execution_count": 15,
   "metadata": {},
   "outputs": [],
   "source": [
    "clustered_data_sklearn = cluster.KMeans(n_clusters=k, n_init=10, max_iter=300).fit(etv3_df)"
   ]
  },
  {
   "cell_type": "code",
   "execution_count": 16,
   "metadata": {},
   "outputs": [],
   "source": [
    "etv3_data_and_centers = np.r_[etv3_df,clustered_data_sklearn.cluster_centers_]"
   ]
  },
  {
   "cell_type": "code",
   "execution_count": 17,
   "metadata": {},
   "outputs": [
    {
     "name": "stdout",
     "output_type": "stream",
     "text": [
      "transformation complete\n"
     ]
    }
   ],
   "source": [
    "XYcoordinates = manifold.MDS(n_components=2).fit_transform(etv3_data_and_centers)\n",
    "print(\"transformation complete\")"
   ]
  },
  {
   "cell_type": "code",
   "execution_count": 18,
   "metadata": {},
   "outputs": [
    {
     "data": {
      "image/png": "[encoded data removed]",
      "text/plain": [
       "<Figure size 432x288 with 1 Axes>"
      ]
     },
     "metadata": {
      "needs_background": "light"
     },
     "output_type": "display_data"
    }
   ],
   "source": [
    "clustering_scatterplot(points=XYcoordinates[:-k,:], \n",
    "                       labels=clustered_data_sklearn.labels_, \n",
    "                       centers=XYcoordinates[-k:,:], \n",
    "                       title='MDS')"
   ]
  },
  {
   "cell_type": "code",
   "execution_count": 19,
   "metadata": {},
   "outputs": [
    {
     "name": "stdout",
     "output_type": "stream",
     "text": [
      "transformation complete\n"
     ]
    }
   ],
   "source": [
    "XYcoordinates = manifold.TSNE(n_components=2).fit_transform(etv3_data_and_centers)\n",
    "print(\"transformation complete\")"
   ]
  },
  {
   "cell_type": "code",
   "execution_count": 20,
   "metadata": {},
   "outputs": [
    {
     "data": {
      "image/png": "[encoded data removed]",
      "text/plain": [
       "<Figure size 432x288 with 1 Axes>"
      ]
     },
     "metadata": {
      "needs_background": "light"
     },
     "output_type": "display_data"
    }
   ],
   "source": [
    "clustering_scatterplot(points=XYcoordinates[:-k,:], \n",
    "                       labels=clustered_data_sklearn.labels_,\n",
    "                       centers=XYcoordinates[-k:,:], \n",
    "                       title='TSNE')"
   ]
  },
  {
   "cell_type": "code",
   "execution_count": 22,
   "metadata": {},
   "outputs": [
    {
     "ename": "AttributeError",
     "evalue": "'numpy.ndarray' object has no attribute 'index'",
     "output_type": "error",
     "traceback": [
      "\u001b[1;31m---------------------------------------------------------------------------\u001b[0m",
      "\u001b[1;31mAttributeError\u001b[0m                            Traceback (most recent call last)",
      "\u001b[1;32m<ipython-input-22-cc2f06f2c0d5>\u001b[0m in \u001b[0;36m<module>\u001b[1;34m\u001b[0m\n\u001b[1;32m----> 1\u001b[1;33m \u001b[0metv3_df\u001b[0m\u001b[1;33m[\u001b[0m\u001b[1;34m'cluster'\u001b[0m\u001b[1;33m]\u001b[0m \u001b[1;33m=\u001b[0m \u001b[0mpd\u001b[0m\u001b[1;33m.\u001b[0m\u001b[0mSeries\u001b[0m\u001b[1;33m(\u001b[0m\u001b[0mclustered_data_sklearn\u001b[0m\u001b[1;33m.\u001b[0m\u001b[0mlabels_\u001b[0m\u001b[1;33m,\u001b[0m \u001b[0mindex\u001b[0m\u001b[1;33m=\u001b[0m\u001b[0metv3_df\u001b[0m\u001b[1;33m.\u001b[0m\u001b[0mindex\u001b[0m\u001b[1;33m)\u001b[0m\u001b[1;33m\u001b[0m\u001b[1;33m\u001b[0m\u001b[0m\n\u001b[0m",
      "\u001b[1;31mAttributeError\u001b[0m: 'numpy.ndarray' object has no attribute 'index'"
     ]
    }
   ],
   "source": [
    "etv3_df['cluster'] = pd.Series(clustered_data_sklearn.labels_, index=etv3_df.index)"
   ]
  },
  {
   "cell_type": "code",
   "execution_count": null,
   "metadata": {},
   "outputs": [],
   "source": [
    "etv3_df.groupby('cluster').mean()"
   ]
  },
  {
   "cell_type": "markdown",
   "metadata": {},
   "source": [
    "# Task 2 (CS5062)"
   ]
  },
  {
   "cell_type": "markdown",
   "metadata": {},
   "source": [
    "* Plot the sum of squared distances from the data points (in loans_dataset_et3.csv) to the centers of the k-Means clusters for various values of k. \n",
    "* Use the Elbow method to pick the best value of k. Attempt also another method for determining the best value of k. If these methods suggest a different value of k (from the one you used in Task 1), then compute a new k-Means clustering.\n",
    "* Use another clustering algorithm (from the ones available in scikit-learn) for the same dataset and an appropriate manifold-learning technique to visualise it.\n",
    "* Discuss the differences between the k-Means clustering and the clustering found by the second algorithm you have tried in words (max 250 words) and by visualising the clusterings with an appropriate manifold-learning technique."
   ]
  },
  {
   "cell_type": "code",
   "execution_count": null,
   "metadata": {},
   "outputs": [],
   "source": [
    "def SSE(data,max_range):\n",
    "    sse = {}\n",
    "    for k in range(1, max_range):\n",
    "        clustered_data_sklearn = cluster.KMeans(n_clusters=k, n_init=10, max_iter=1000).fit(data)\n",
    "        lab3_df[\"clusters\"] = clustered_data_sklearn.labels_\n",
    "        sse[k] = clustered_data_sklearn.inertia_\n",
    "    plt.figure()\n",
    "    plt.plot(list(sse.keys()), list(sse.values()))\n",
    "    plt.xlabel(\"Number of cluster\")\n",
    "    plt.ylabel(\"SSE\")\n",
    "    plt.show()"
   ]
  },
  {
   "cell_type": "code",
   "execution_count": null,
   "metadata": {},
   "outputs": [],
   "source": [
    "for i in range(1,10):\n",
    "    SSE(lab3_df,i)"
   ]
  },
  {
   "cell_type": "code",
   "execution_count": null,
   "metadata": {},
   "outputs": [],
   "source": [
    "cluster_range = range(2,10)\n",
    "\n",
    "for n_clusters in cluster_range:\n",
    "\n",
    "    fig, (ax1, ax2) = plt.subplots(1, 2)\n",
    "    fig.set_size_inches(18, 7)\n",
    "    ax1.set_xlim([-0.1, 1])\n",
    "    ax1.set_ylim([0, len(lab3_data) + (n_clusters + 1) * 10])\n",
    "    \n",
    "    clusterer = cluster.KMeans(n_clusters=k, n_init=10, max_iter=300).fit(lab3_data)\n",
    "    cluster_labels = clusterer.fit_predict(lab3_data)\n",
    "\n",
    "    silhouette_avg = silhouette_score(lab3_data, cluster_labels)\n",
    "    print(\"For n_clusters =\", n_clusters,\"The average silhouette_score is :\", silhouette_avg)\n",
    "\n",
    "    # Compute the silhouette scores for each sample\n",
    "    sample_silhouette_values = silhouette_samples(lab3_data, cluster_labels)\n",
    "\n",
    "    y_lower = 10\n",
    "    for i in range(n_clusters):\n",
    "        ith_cluster_silhouette_values = \\\n",
    "          sample_silhouette_values[cluster_labels == i]\n",
    "        \n",
    "        ith_cluster_silhouette_values.sort()\n",
    "        \n",
    "        size_cluster_i = ith_cluster_silhouette_values.shape[0]\n",
    "        \n",
    "        y_upper = y_lower + size_cluster_i\n",
    "        \n",
    "        color = plt.cm.Spectral(float(i) / n_clusters)\n",
    "        \n",
    "        ax1.fill_betweenx(np.arange(y_lower, y_upper),\n",
    "                        0, ith_cluster_silhouette_values,\n",
    "                        facecolor=color, edgecolor=color, alpha=0.7)\n",
    "\n",
    "          # Label the silhouette plots with their cluster numbers at the middle\n",
    "        ax1.text(-0.05, y_lower + 0.5 * size_cluster_i, str(i))\n",
    "\n",
    "          # Compute the new y_lower for next plot\n",
    "        y_lower = y_upper + 10  # 10 for the 0 samples\n",
    "\n",
    "    ax1.set_title(\"The silhouette plot for the various clusters.\")\n",
    "    ax1.set_xlabel(\"The silhouette coefficient values\")\n",
    "    ax1.set_ylabel(\"Cluster label\")\n",
    "\n",
    "    # The vertical line for average silhoutte score of all the values\n",
    "    ax1.axvline(x=silhouette_avg, color=\"red\", linestyle=\"--\")\n",
    "\n",
    "    ax1.set_yticks([])  # Clear the yaxis labels / ticks\n",
    "    ax1.set_xticks([-0.1, 0, 0.2, 0.4, 0.6, 0.8, 1])\n",
    "\n",
    "    # 2nd Plot showing the actual clusters formed\n",
    "    colors = plt.cm.Spectral(cluster_labels.astype(float) / n_clusters)\n",
    "    ax2.scatter(lab3_data[:, 0], lab3_data[:, 1], marker='.', s=30, lw=0, alpha=0.7,\n",
    "              c=colors)\n",
    "\n",
    "    # Labeling the clusters\n",
    "    centers = clusterer.cluster_centers_\n",
    "    # Draw white circles at cluster centers\n",
    "    ax2.scatter(centers[:, 0], centers[:, 1],\n",
    "              marker='o', c=\"white\", alpha=1, s=200)\n",
    "\n",
    "    for i, c in enumerate(centers):\n",
    "          ax2.scatter(c[0], c[1], marker='$%d$' % i, alpha=1, s=50)\n",
    "\n",
    "    ax2.set_title(\"The visualization of the clustered data.\")\n",
    "    ax2.set_xlabel(\"Feature space for the 1st feature\")\n",
    "    ax2.set_ylabel(\"Feature space for the 2nd feature\")\n",
    "\n",
    "    plt.suptitle((\"Silhouette analysis for KMeans clustering on sample data \"\n",
    "                \"with n_clusters = %d\" % n_clusters),\n",
    "               fontsize=14, fontweight='bold')\n",
    "\n",
    "    plt.show()"
   ]
  },
  {
   "cell_type": "code",
   "execution_count": null,
   "metadata": {},
   "outputs": [],
   "source": [
    "n_components = 100\n",
    "for n in range(1,10):\n",
    "    plt.figure()\n",
    "    Y = manifold.Isomap(n, n_components).fit_transform(lab3_data)\n",
    "    ax = fig.add_subplot(257)\n",
    "    plt.scatter(Y[:, 0], Y[:, 1], c=color, cmap=plt.cm.Spectral)\n",
    "    plt.title(\"Isomap\")\n",
    "    ax.xaxis.set_major_formatter(NullFormatter())\n",
    "    ax.yaxis.set_major_formatter(NullFormatter())\n",
    "    plt.axis('tight')\n",
    "    plt.show()"
   ]
  },
  {
   "cell_type": "code",
   "execution_count": null,
   "metadata": {},
   "outputs": [],
   "source": [
    "n_neighbors = 100\n",
    "for n in range(2,10):\n",
    "    plt.figure()\n",
    "    se = manifold.SpectralEmbedding(n_components=n,n_neighbors=n_neighbors)\n",
    "    Y = se.fit_transform(lab3_data)\n",
    "    ax = fig.add_subplot(259)\n",
    "    plt.clf()\n",
    "    plt.scatter(Y[:, 0], Y[:, 1], c=color, cmap=plt.cm.Spectral)\n",
    "    plt.title(\"SpectralEmbedding\")\n",
    "    ax.xaxis.set_major_formatter(NullFormatter())\n",
    "    ax.yaxis.set_major_formatter(NullFormatter())\n",
    "    plt.axis('tight')\n",
    "    plt.show()"
   ]
  },
  {
   "cell_type": "markdown",
   "metadata": {},
   "source": [
    "* [1] [Maniflold Learning PyData] (https://www.youtube.com/watch?v=j8080l9Pvic)\n",
    "* [2] [Euclidean Distance] (https://stackoverflow.com/questions/1401712/how-can-the-euclidean-distance-be-calculated-with-numpy)\n",
    "* [3] [Manifold Learning Scikitlearn] (https://scikit-learn.org/stable/modules/manifold.html)\n",
    "* [4] [Manifold Learning Github] (https://github.com/cc-skuehn/Manifold_Learning/)\n",
    "* [5] [Cluster Validation] (http://www.awesomestats.in/python-cluster-validation/)\n",
    "* [6] [Silhouette Analysis] (https://scikit-learn.org/stable/auto_examples/cluster/plot_kmeans_silhouette_analysis.html#sphx-glr-auto-examples-cluster-plot-kmeans-silhouette-analysis-py)\n",
    "* [7] [Elbow method] (https://pythonprogramminglanguage.com/kmeans-elbow-method/)"
   ]
  }
 ],
 "metadata": {
  "kernelspec": {
   "display_name": "Python 3",
   "language": "python",
   "name": "python3"
  },
  "language_info": {
   "codemirror_mode": {
    "name": "ipython",
    "version": 3
   },
   "file_extension": ".py",
   "mimetype": "text/x-python",
   "name": "python",
   "nbconvert_exporter": "python",
   "pygments_lexer": "ipython3",
   "version": "3.7.1"
  }
 },
 "nbformat": 4,
 "nbformat_minor": 2
}
